{
 "cells": [
  {
   "cell_type": "markdown",
   "metadata": {},
   "source": [
    "# Chapter 02. Python의 기본 문법"
   ]
  },
  {
   "cell_type": "code",
   "execution_count": 1,
   "metadata": {},
   "outputs": [
    {
     "name": "stdout",
     "output_type": "stream",
     "text": [
      "50\n"
     ]
    }
   ],
   "source": [
    "a = 20\n",
    "b = 30\n",
    "c = a+b\n",
    "print(c)"
   ]
  },
  {
   "cell_type": "code",
   "execution_count": 2,
   "metadata": {},
   "outputs": [
    {
     "name": "stdout",
     "output_type": "stream",
     "text": [
      "I\n",
      "I a\n",
      "happy!\n",
      "m h\n"
     ]
    }
   ],
   "source": [
    "x = 'I am happy!'\n",
    "\n",
    "print(x[0])\n",
    "print(x[0:3])\n",
    "print(x[5:])\n",
    "print(x[-8:-5])"
   ]
  },
  {
   "cell_type": "code",
   "execution_count": 3,
   "metadata": {},
   "outputs": [
    {
     "name": "stdout",
     "output_type": "stream",
     "text": [
      "5\n",
      "10\n"
     ]
    }
   ],
   "source": [
    "x,y=(5,10)\n",
    "print(x)\n",
    "print(y)\n",
    "#x,y,_ = func(a,b,c)\n",
    "#_는 버리는 변수"
   ]
  },
  {
   "cell_type": "code",
   "execution_count": 4,
   "metadata": {},
   "outputs": [
    {
     "name": "stdout",
     "output_type": "stream",
     "text": [
      "20 Mac 30 70 홍길동 1997 20.3\n"
     ]
    }
   ],
   "source": [
    "x = 20\n",
    "Computer = 'Mac'\n",
    "Age = 30\n",
    "my_score = 70\n",
    "_name = '홍길동'\n",
    "myBirthYear = 1997\n",
    "data2 = 20.3\n",
    "\n",
    "print(x,Computer,Age,my_score,_name,myBirthYear,data2)"
   ]
  },
  {
   "cell_type": "code",
   "execution_count": 5,
   "metadata": {},
   "outputs": [
    {
     "name": "stdout",
     "output_type": "stream",
     "text": [
      "20 Mac 30 70 홍길동 1997 20.3\n"
     ]
    }
   ],
   "source": [
    "x = 20\n",
    "computer = 'Mac'\n",
    "age = 30\n",
    "my_score = 70\n",
    "_name = '홍길동'\n",
    "my_birth_year = 1997\n",
    "data2 = 20.3\n",
    "\n",
    "print(x,computer,age,my_score,_name,my_birth_year,data2)"
   ]
  },
  {
   "cell_type": "code",
   "execution_count": 6,
   "metadata": {},
   "outputs": [
    {
     "name": "stdout",
     "output_type": "stream",
     "text": [
      "<class 'int'>\n",
      "<class 'str'>\n",
      "<class 'list'>\n"
     ]
    }
   ],
   "source": [
    "x = 30\n",
    "y = '30'\n",
    "print(type(x))\n",
    "print(type(y))\n",
    "a = [1 , 0.2 , '3']\n",
    "print(type(a))"
   ]
  },
  {
   "cell_type": "code",
   "execution_count": 7,
   "metadata": {},
   "outputs": [
    {
     "name": "stdout",
     "output_type": "stream",
     "text": [
      "x\n",
      "I am OK\n",
      "안녕하세요\n",
      "<class 'str'>\n"
     ]
    }
   ],
   "source": [
    "a = 'x'\n",
    "b= 'I am OK'\n",
    "c= '안녕하세요'\n",
    "\n",
    "print(a)\n",
    "print(b)\n",
    "print(c)\n",
    "print(type(c))"
   ]
  },
  {
   "cell_type": "code",
   "execution_count": 8,
   "metadata": {},
   "outputs": [
    {
     "name": "stdout",
     "output_type": "stream",
     "text": [
      "30\n",
      "<class 'int'>\n",
      "30\n",
      "<class 'str'>\n"
     ]
    }
   ],
   "source": [
    "#예제 2-7\n",
    "a=30\n",
    "print (a)\n",
    "print(type(a))\n",
    "b='30'\n",
    "print(b)\n",
    "print(type(b))"
   ]
  },
  {
   "cell_type": "code",
   "execution_count": 9,
   "metadata": {},
   "outputs": [
    {
     "name": "stdout",
     "output_type": "stream",
     "text": [
      "True\n",
      "False\n",
      "False\n",
      "<class 'bool'>\n"
     ]
    }
   ],
   "source": [
    "#예제 2-9\n",
    "a=True\n",
    "b=False\n",
    "print(a)\n",
    "print(b)\n",
    "\n",
    "c= 10>20\n",
    "print(c)\n",
    "\n",
    "print(type(a))\n"
   ]
  },
  {
   "cell_type": "code",
   "execution_count": 10,
   "metadata": {},
   "outputs": [
    {
     "name": "stdout",
     "output_type": "stream",
     "text": [
      "209.0\n"
     ]
    }
   ],
   "source": [
    "#예제 2-10\n",
    "a=10\n",
    "b=20\n",
    "\n",
    "c= a+b *10-5/5\n",
    "print(c)"
   ]
  },
  {
   "cell_type": "code",
   "execution_count": 11,
   "metadata": {},
   "outputs": [
    {
     "name": "stdout",
     "output_type": "stream",
     "text": [
      "1\n",
      "2\n"
     ]
    }
   ],
   "source": [
    "#예제 2-11\n",
    "x=10%3\n",
    "print(x)\n",
    "y=7//3\n",
    "print(y)"
   ]
  },
  {
   "cell_type": "code",
   "execution_count": 12,
   "metadata": {},
   "outputs": [
    {
     "name": "stdout",
     "output_type": "stream",
     "text": [
      "8\n",
      "10000\n"
     ]
    }
   ],
   "source": [
    "#예제 2-12\n",
    "x=2**3\n",
    "print(x)\n",
    "y=10**4\n",
    "print(y)"
   ]
  },
  {
   "cell_type": "code",
   "execution_count": 13,
   "metadata": {},
   "outputs": [
    {
     "name": "stdout",
     "output_type": "stream",
     "text": [
      "30\n"
     ]
    }
   ],
   "source": [
    "#예제 2-13\n",
    "\n",
    "x=10\n",
    "x += 20\n",
    "print(x)"
   ]
  },
  {
   "cell_type": "code",
   "execution_count": 14,
   "metadata": {},
   "outputs": [
    {
     "name": "stdout",
     "output_type": "stream",
     "text": [
      "24\n"
     ]
    }
   ],
   "source": [
    "#예제 2-14\n",
    "x=3\n",
    "y=5\n",
    "x*=x+y\n",
    "print(x)\n"
   ]
  },
  {
   "cell_type": "code",
   "execution_count": 15,
   "metadata": {},
   "outputs": [
    {
     "name": "stdout",
     "output_type": "stream",
     "text": [
      "안녕안녕안녕안녕안녕\n"
     ]
    }
   ],
   "source": [
    "#예제 2-15\n",
    "hello='안녕'*5\n",
    "print(hello)"
   ]
  },
  {
   "cell_type": "code",
   "execution_count": 16,
   "metadata": {},
   "outputs": [
    {
     "name": "stdout",
     "output_type": "stream",
     "text": [
      "16\n"
     ]
    }
   ],
   "source": [
    "#예제 2-16\n",
    "a= '쥐 구멍에도 볕 들 날 있다.'\n",
    "b=len(a)\n",
    "print(b)"
   ]
  },
  {
   "cell_type": "code",
   "execution_count": 17,
   "metadata": {},
   "outputs": [
    {
     "name": "stdout",
     "output_type": "stream",
     "text": [
      "홍지수님 안녕하세요!\n"
     ]
    }
   ],
   "source": [
    "#예제 2-17\n",
    "name = '홍지수'\n",
    "greet = name + '님 안녕하세요!'\n",
    "print(greet)"
   ]
  },
  {
   "cell_type": "code",
   "execution_count": 18,
   "metadata": {},
   "outputs": [
    {
     "ename": "TypeError",
     "evalue": "can only concatenate str (not \"int\") to str",
     "output_type": "error",
     "traceback": [
      "\u001b[1;31m---------------------------------------------------------------------------\u001b[0m",
      "\u001b[1;31mTypeError\u001b[0m                                 Traceback (most recent call last)",
      "\u001b[1;32m<ipython-input-18-ac11651e13d8>\u001b[0m in \u001b[0;36m<module>\u001b[1;34m\u001b[0m\n\u001b[0;32m      1\u001b[0m \u001b[1;31m#예제 2-18\u001b[0m\u001b[1;33m\u001b[0m\u001b[1;33m\u001b[0m\u001b[1;33m\u001b[0m\u001b[0m\n\u001b[0;32m      2\u001b[0m \u001b[0meng\u001b[0m \u001b[1;33m=\u001b[0m \u001b[1;36m80\u001b[0m\u001b[1;33m\u001b[0m\u001b[1;33m\u001b[0m\u001b[0m\n\u001b[1;32m----> 3\u001b[1;33m \u001b[0mresult\u001b[0m \u001b[1;33m=\u001b[0m \u001b[1;34m'영어 점수 :'\u001b[0m \u001b[1;33m+\u001b[0m \u001b[0meng\u001b[0m \u001b[1;33m+\u001b[0m \u001b[1;34m'점'\u001b[0m\u001b[1;33m\u001b[0m\u001b[1;33m\u001b[0m\u001b[0m\n\u001b[0m\u001b[0;32m      4\u001b[0m \u001b[0mprint\u001b[0m\u001b[1;33m(\u001b[0m\u001b[0mresult\u001b[0m\u001b[1;33m)\u001b[0m\u001b[1;33m\u001b[0m\u001b[1;33m\u001b[0m\u001b[0m\n",
      "\u001b[1;31mTypeError\u001b[0m: can only concatenate str (not \"int\") to str"
     ]
    }
   ],
   "source": [
    "#예제 2-18\n",
    "eng = 80\n",
    "result = '영어 점수 :' + eng + '점'\n",
    "print(result)"
   ]
  },
  {
   "cell_type": "code",
   "execution_count": 43,
   "metadata": {},
   "outputs": [
    {
     "name": "stdout",
     "output_type": "stream",
     "text": [
      "영어 점수 :80점\n"
     ]
    }
   ],
   "source": [
    "#예제 2-19\n",
    "eng = 80\n",
    "result = '영어 점수 :' + str(eng) + '점'\n",
    "print(result)"
   ]
  },
  {
   "cell_type": "code",
   "execution_count": 44,
   "metadata": {},
   "outputs": [
    {
     "name": "stdout",
     "output_type": "stream",
     "text": [
      "나는 김수영입니다.\n"
     ]
    }
   ],
   "source": [
    "#예제 2-20\n",
    "name = '김수영'\n",
    "a = '나는 %s입니다.' % name\n",
    "print(a)"
   ]
  },
  {
   "cell_type": "code",
   "execution_count": 45,
   "metadata": {},
   "outputs": [
    {
     "name": "stdout",
     "output_type": "stream",
     "text": [
      "나이는 20살 입니다.\n"
     ]
    }
   ],
   "source": [
    "#예제 2-21\n",
    "age= 20\n",
    "a= '나이는 %d살 입니다.' %age\n",
    "print(a)"
   ]
  },
  {
   "cell_type": "code",
   "execution_count": 46,
   "metadata": {},
   "outputs": [
    {
     "name": "stdout",
     "output_type": "stream",
     "text": [
      "2020 - 03 -05\n"
     ]
    }
   ],
   "source": [
    "#예제 2-22\n",
    "year = 2020\n",
    "month =3\n",
    "day =5\n",
    "\n",
    "a= '%d - %02d -%02d' %(year,month,day)\n",
    "print(a)"
   ]
  },
  {
   "cell_type": "code",
   "execution_count": 47,
   "metadata": {},
   "outputs": [
    {
     "name": "stdout",
     "output_type": "stream",
     "text": [
      "키는 172.50입니다.\n"
     ]
    }
   ],
   "source": [
    "#예제 2-23\n",
    "height = 172.5\n",
    "a= '키는 %.2f입니다.' %height\n",
    "print(a)"
   ]
  },
  {
   "cell_type": "code",
   "execution_count": 48,
   "metadata": {},
   "outputs": [
    {
     "name": "stdout",
     "output_type": "stream",
     "text": [
      "이름 : 황예린 나이 : 18세 시력 : 1.2\n"
     ]
    }
   ],
   "source": [
    "#예제 2- 24\n",
    "name = '황예린'\n",
    "age = 18\n",
    "eyesight = 1.2\n",
    "\n",
    "a='이름 : {}'.format(name)\n",
    "b='나이 : {}세'.format(age)\n",
    "c='시력 : {}'.format(eyesight)\n",
    "print (a,b,c)"
   ]
  },
  {
   "cell_type": "code",
   "execution_count": 49,
   "metadata": {},
   "outputs": [
    {
     "name": "stdout",
     "output_type": "stream",
     "text": [
      "홍길동 30 173.7\n"
     ]
    }
   ],
   "source": [
    "#예제 2-25\n",
    "name ='홍길동'\n",
    "age = 30\n",
    "height = 173.7\n",
    "\n",
    "print(name,age,height)"
   ]
  },
  {
   "cell_type": "code",
   "execution_count": 50,
   "metadata": {},
   "outputs": [
    {
     "name": "stdout",
     "output_type": "stream",
     "text": [
      "x = 10, y = 20\n"
     ]
    }
   ],
   "source": [
    "#예제 2-26\n",
    "x=10\n",
    "y=20\n",
    "print ('x = '+ str(x) +', y = '+ str(y))"
   ]
  },
  {
   "cell_type": "code",
   "execution_count": 51,
   "metadata": {},
   "outputs": [
    {
     "name": "stdout",
     "output_type": "stream",
     "text": [
      "두 과목 점수 : %d, %d, %(score1,score2)\n",
      "합계 : 167, 평균 : 83.50\n"
     ]
    }
   ],
   "source": [
    "#예제 2-27\n",
    "score1 = 80\n",
    "score2 = 87\n",
    "\n",
    "sum = score1 + score2\n",
    "avg = sum /2\n",
    "\n",
    "print ('두 과목 점수 : %d, %d, %(score1,score2)')\n",
    "print('합계 : %d, 평균 : %.2f' %(sum,avg))"
   ]
  },
  {
   "cell_type": "code",
   "execution_count": 52,
   "metadata": {},
   "outputs": [
    {
     "name": "stdout",
     "output_type": "stream",
     "text": [
      "이름 : 김소원\n",
      "아이디 : kim, 마일리지 : 18000\n"
     ]
    }
   ],
   "source": [
    "#예제 2-28\n",
    "name = '김소원'\n",
    "id= 'kim'\n",
    "point = 18000\n",
    "\n",
    "\n",
    "print ('이름 : {}'.format(name))\n",
    "print('아이디 : {}, 마일리지 : {}'.format(id,point))"
   ]
  },
  {
   "cell_type": "code",
   "execution_count": 53,
   "metadata": {},
   "outputs": [
    {
     "name": "stdout",
     "output_type": "stream",
     "text": [
      "2020/3/5\n"
     ]
    }
   ],
   "source": [
    "#예제 2-29\n",
    "year = 2020\n",
    "month = 3\n",
    "day = 5\n",
    "\n",
    "print(year,month,day,sep='/')"
   ]
  },
  {
   "cell_type": "code",
   "execution_count": 54,
   "metadata": {},
   "outputs": [
    {
     "name": "stdout",
     "output_type": "stream",
     "text": [
      "안녕하세요\n",
      "반갑습니다.\n",
      "\n",
      "\n",
      "\n",
      "안녕하세요반갑습니다.\n"
     ]
    }
   ],
   "source": [
    "#예제 2-30\n",
    "a= '안녕하세요'\n",
    "b= '반갑습니다.'\n",
    "print(a)\n",
    "print(b)\n",
    "\n",
    "print ('\\n\\n')\n",
    "\n",
    "print (a,end='')\n",
    "print(b)"
   ]
  },
  {
   "cell_type": "code",
   "execution_count": 55,
   "metadata": {},
   "outputs": [
    {
     "name": "stdout",
     "output_type": "stream",
     "text": [
      "이름을 입력하세요 :신건찬\n",
      "신건찬님 반갑습니다.\n"
     ]
    }
   ],
   "source": [
    "#예제 2-31\n",
    "name = input('이름을 입력하세요 :')\n",
    "\n",
    "print('%s님 반갑습니다.' %name)"
   ]
  },
  {
   "cell_type": "code",
   "execution_count": 56,
   "metadata": {},
   "outputs": [
    {
     "name": "stdout",
     "output_type": "stream",
     "text": [
      "첫 번째 숫자를 입력하세요1\n",
      "두 번째 숫자를 입력하세요2\n",
      "12\n",
      "<class 'str'> <class 'str'> <class 'str'>\n"
     ]
    }
   ],
   "source": [
    "#예제 2-32\n",
    "a= input('첫 번째 숫자를 입력하세요')\n",
    "b= input('두 번째 숫자를 입력하세요')\n",
    "\n",
    "c= a+b\n",
    "\n",
    "print(c)\n",
    "print (type(a),type(b),type(c))"
   ]
  },
  {
   "cell_type": "code",
   "execution_count": 57,
   "metadata": {},
   "outputs": [
    {
     "name": "stdout",
     "output_type": "stream",
     "text": [
      "첫 번째 숫자를 입력하세요1\n",
      "두 번째 숫자를 입력하세요2\n",
      "3\n",
      "<class 'str'> <class 'str'> <class 'int'>\n"
     ]
    }
   ],
   "source": [
    "#예제 2-33\n",
    "a= input('첫 번째 숫자를 입력하세요')\n",
    "b= input('두 번째 숫자를 입력하세요')\n",
    "\n",
    "c= int(a)+int(b)\n",
    "\n",
    "print(c)\n",
    "print (type(a),type(b),type(c))"
   ]
  },
  {
   "cell_type": "code",
   "execution_count": 58,
   "metadata": {},
   "outputs": [
    {
     "name": "stdout",
     "output_type": "stream",
     "text": [
      "인치(inch)를 입력하세요 : 52.6\n",
      "센티미터 : 133.60\n"
     ]
    }
   ],
   "source": [
    "#예제 2-34\n",
    "inch = float(input('인치(inch)를 입력하세요 : '))\n",
    "\n",
    "cm = inch * 2.54\n",
    "print('센티미터 : %.2f' % cm)"
   ]
  },
  {
   "cell_type": "code",
   "execution_count": 59,
   "metadata": {},
   "outputs": [
    {
     "name": "stdout",
     "output_type": "stream",
     "text": [
      "삼각형의 밑변 길이:  10\n",
      "삼각형의 높이:  3\n",
      "삼각형의 면적:  15.0\n"
     ]
    }
   ],
   "source": [
    "# Q2-1\n",
    "width = 10\n",
    "height = 3\n",
    "\n",
    "area = width * height / 2\n",
    "\n",
    "print ('삼각형의 밑변 길이: ',width)\n",
    "print ('삼각형의 높이: ',height)\n",
    "print ('삼각형의 면적: ',area)"
   ]
  },
  {
   "cell_type": "code",
   "execution_count": 60,
   "metadata": {},
   "outputs": [
    {
     "name": "stdout",
     "output_type": "stream",
     "text": [
      "물건가격 : 800 원\n",
      "구매개수 : 3 개\n",
      "지불금액 : 5000 원\n",
      "거스름돈 : 2600 원\n"
     ]
    }
   ],
   "source": [
    "# Q2-2\n",
    "price = 800\n",
    "buy = 3\n",
    "pay = 5000\n",
    "\n",
    "exchange = pay - buy * price\n",
    "\n",
    "print ('물건가격 :',price, '원')\n",
    "print ('구매개수 :',buy, '개')\n",
    "print ('지불금액 :',pay, '원')\n",
    "print ('거스름돈 :',exchange, '원')\n"
   ]
  },
  {
   "cell_type": "code",
   "execution_count": 61,
   "metadata": {},
   "outputs": [
    {
     "name": "stdout",
     "output_type": "stream",
     "text": [
      "4\n",
      "4 -4\n"
     ]
    }
   ],
   "source": [
    "# Q2-3\n",
    "x= 20\n",
    "y=4\n",
    "\n",
    "x= y% x\n",
    "print (x)\n",
    "y-=x*2\n",
    "\n",
    "print(x,y)"
   ]
  },
  {
   "cell_type": "code",
   "execution_count": 25,
   "metadata": {},
   "outputs": [
    {
     "name": "stdout",
     "output_type": "stream",
     "text": [
      "성 : 홍\n",
      "이름 : 길동\n",
      "홍길동의 나이 : 30세, 키 : 171.5 cm\n"
     ]
    }
   ],
   "source": [
    "# Q2-4\n",
    "name = '홍길동'\n",
    "age = 30\n",
    "height = 171.5\n",
    "\n",
    "print('성 :',name[0])\n",
    "print('이름 :',name[1:3])\n",
    "print('%s의 나이 : %d세, 키 : %.1f cm' % (name,age,height))"
   ]
  },
  {
   "cell_type": "code",
   "execution_count": 24,
   "metadata": {},
   "outputs": [
    {
     "name": "stdout",
     "output_type": "stream",
     "text": [
      "학생 이름을 입력하세요 :신건찬\n",
      "국어 성적을 입력하세요 :100\n",
      "영어 성적을 입력하세요 :92\n",
      "수학 성적을 입력하세요 :85\n",
      "이름 : 신건찬, 국어 : 100, 영어 : 92, 수학 : 85, 평균 : 92.3, 점\n"
     ]
    }
   ],
   "source": [
    "# Q2-5\n",
    "name = input('학생 이름을 입력하세요 :')\n",
    "kor = int(input('국어 성적을 입력하세요 :'))\n",
    "eng = int(input('영어 성적을 입력하세요 :'))\n",
    "math = int(input('수학 성적을 입력하세요 :'))\n",
    "\n",
    "sum = kor + eng + math\n",
    "avg = sum / 3\n",
    "\n",
    "print('이름 : %s, 국어 : %d, 영어 : %d, 수학 : %d, 평균 : %.1f, 점' %(name,kor,eng,math,avg))"
   ]
  },
  {
   "cell_type": "markdown",
   "metadata": {},
   "source": [
    "# 2장 연습 문제"
   ]
  },
  {
   "cell_type": "code",
   "execution_count": 19,
   "metadata": {},
   "outputs": [
    {
     "name": "stdout",
     "output_type": "stream",
     "text": [
      "-72\n"
     ]
    }
   ],
   "source": [
    "# 2\n",
    "\n",
    "a= 7\n",
    "b= 10\n",
    "c=a + b *2\n",
    "\n",
    "c%=5\n",
    "\n",
    "c**=3\n",
    "c-=c*10\n",
    "print(c)"
   ]
  },
  {
   "cell_type": "code",
   "execution_count": 20,
   "metadata": {},
   "outputs": [
    {
     "name": "stdout",
     "output_type": "stream",
     "text": [
      "반지름을 입력하세요 : 10\n",
      "반지름 : 10 cm\n",
      "원의 둘레 : 62.80 cm\n",
      "원의 면적 : 314.00 cm^2\n"
     ]
    }
   ],
   "source": [
    "# 3\n",
    "\n",
    "r = int(input('반지름을 입력하세요 : '))\n",
    "l=r*2*3.14\n",
    "s=3.14*(r**2)\n",
    "print('반지름 : %d cm\\n원의 둘레 : %.2f cm\\n원의 면적 : %.2f cm^2' %(r,l,s))"
   ]
  },
  {
   "cell_type": "code",
   "execution_count": 21,
   "metadata": {},
   "outputs": [
    {
     "name": "stdout",
     "output_type": "stream",
     "text": [
      "책 값을 입력하세요 :15000\n",
      "할인율을 입력하세요 :30\n",
      "배송료를 입력하세요 :3000\n",
      "결제 금액 : 13500 원\n",
      "결제 금액 : 13500원\n"
     ]
    }
   ],
   "source": [
    "# 4\n",
    "\n",
    "book_price = int(input('책 값을 입력하세요 :'))\n",
    "discount_rate = int(input('할인율을 입력하세요 :'))\n",
    "delivery_price = int(input('배송료를 입력하세요 :'))\n",
    "payment = book_price-(book_price*discount_rate/100)+delivery_price\n",
    "print('결제 금액 :',int(payment),'원')\n",
    "print('결제 금액 : %d원' %(payment))"
   ]
  },
  {
   "cell_type": "code",
   "execution_count": 22,
   "metadata": {},
   "outputs": [
    {
     "name": "stdout",
     "output_type": "stream",
     "text": [
      "이름을 입력하세요 :신건찬\n",
      "현재년을 입력하세요 :2020\n",
      "탄생년을 입력하세요 :1991\n",
      "신건찬님의 나이는 30세 입니다.\n"
     ]
    }
   ],
   "source": [
    "# 5\n",
    "name = input('이름을 입력하세요 :')\n",
    "current_year= int(input('현재년을 입력하세요 :'))\n",
    "birth_year = int(input('탄생년을 입력하세요 :'))\n",
    "age = current_year - birth_year + 1\n",
    "print('%s님의 나이는 %d세 입니다.' %(name,age))"
   ]
  },
  {
   "cell_type": "code",
   "execution_count": 23,
   "metadata": {},
   "outputs": [
    {
     "name": "stdout",
     "output_type": "stream",
     "text": [
      "연을 입력하세요 :2020\n",
      "월을 입력하세요 :05\n",
      "일을 입력하세요 :29\n",
      "2020-5-29\n",
      "2020-05-29\n"
     ]
    }
   ],
   "source": [
    "# 6\n",
    "year= int(input('연을 입력하세요 :'))\n",
    "month= int(input('월을 입력하세요 :'))\n",
    "day= int(input('일을 입력하세요 :'))\n",
    "print(year,month,day,sep='-')\n",
    "print('%d-%02d-%02d'%(year,month,day))"
   ]
  },
  {
   "cell_type": "code",
   "execution_count": null,
   "metadata": {},
   "outputs": [],
   "source": []
  }
 ],
 "metadata": {
  "kernelspec": {
   "display_name": "Python 3",
   "language": "python",
   "name": "python3"
  },
  "language_info": {
   "codemirror_mode": {
    "name": "ipython",
    "version": 3
   },
   "file_extension": ".py",
   "mimetype": "text/x-python",
   "name": "python",
   "nbconvert_exporter": "python",
   "pygments_lexer": "ipython3",
   "version": "3.7.6"
  }
 },
 "nbformat": 4,
 "nbformat_minor": 4
}
