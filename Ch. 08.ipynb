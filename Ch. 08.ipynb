{
 "cells": [
  {
   "cell_type": "markdown",
   "metadata": {},
   "source": [
    "# Chapter 8. 모듈과 패키지"
   ]
  },
  {
   "cell_type": "code",
   "execution_count": 2,
   "metadata": {},
   "outputs": [
    {
     "name": "stdout",
     "output_type": "stream",
     "text": [
      "안지수님 안녕하세요.\n",
      "홍지영님 반갑습니다.\n",
      "황예림님 만나서 반가워요.\n"
     ]
    }
   ],
   "source": [
    "#예제 8-2\n",
    "\n",
    "from library import greet\n",
    "\n",
    "print(greet.hello1('안지수'))\n",
    "print(greet.hello2('홍지영'))\n",
    "print(greet.hello3('황예림'))"
   ]
  },
  {
   "cell_type": "code",
   "execution_count": 9,
   "metadata": {},
   "outputs": [
    {
     "name": "stdout",
     "output_type": "stream",
     "text": [
      "김영진님 안녕하세요.\n",
      "10.0\n",
      "박소정님 반갑습니다.\n",
      "10.0\n",
      "한은정님 만나서 반가워요.\n",
      "10.0\n",
      "한은정님 반갑습니다.\n",
      "10.0 0.8414709848078965\n"
     ]
    }
   ],
   "source": [
    "import math\n",
    "\n",
    "\n",
    "print(greet.hello1('김영진'))\n",
    "print(math.sqrt(100))\n",
    "\n",
    "import library.greet as gr\n",
    "import math as m\n",
    "\n",
    "print(gr.hello2('박소정'))\n",
    "print(m.sqrt(100))\n",
    "\n",
    "from library.greet import hello3\n",
    "from math import sqrt\n",
    "\n",
    "print(greet.hello3('한은정'))\n",
    "print(sqrt(100))\n",
    "\n",
    "from library.greet import *\n",
    "from math import *\n",
    "\n",
    "print(hello2('한은정'))\n",
    "print(sqrt(100),sin(1))"
   ]
  },
  {
   "cell_type": "code",
   "execution_count": 14,
   "metadata": {},
   "outputs": [
    {
     "name": "stdout",
     "output_type": "stream",
     "text": [
      "floor(7,7) : 7\n",
      "ceil(10.1) : 11\n",
      "round(8.6) : 9\n",
      "5의 팩토리얼 : 120\n"
     ]
    }
   ],
   "source": [
    "import math\n",
    "\n",
    "print('floor(7,7) : %d' % math.floor(7.7))\n",
    "print('ceil(10.1) : %d' % math.ceil(10.1))\n",
    "print('round(8.6) : %d' % round(8.6))\n",
    "print('5의 팩토리얼 : %d' % math.factorial(5))"
   ]
  },
  {
   "cell_type": "code",
   "execution_count": 16,
   "metadata": {},
   "outputs": [
    {
     "name": "stdout",
     "output_type": "stream",
     "text": [
      "sin(pi/2) : 1.00\n",
      "cos(pi) : -1.00\n",
      "tan(pi*2) : -0.00\n",
      "2의 4승 : 16\n",
      "49의 제곱근 : 7 \n",
      "log10(100) : 2.00\n"
     ]
    }
   ],
   "source": [
    "import math as m\n",
    "\n",
    "print('sin(pi/2) : %.2f' %m.sin(m.pi/2))\n",
    "print('cos(pi) : %.2f' % m.cos(m.pi))\n",
    "print('tan(pi*2) : %.2f' % m.tan(m.pi*2))\n",
    "\n",
    "print('2의 4승 : %d' %m.pow(2,4))\n",
    "print('49의 제곱근 : %d ' %m.sqrt(49))\n",
    "print('log10(100) : %.2f' %m.log10(100))"
   ]
  },
  {
   "cell_type": "markdown",
   "metadata": {},
   "source": [
    "# 함수의 재귀적 호출(Recursive call)"
   ]
  },
  {
   "cell_type": "code",
   "execution_count": 18,
   "metadata": {},
   "outputs": [
    {
     "name": "stdout",
     "output_type": "stream",
     "text": [
      "5\n"
     ]
    },
    {
     "data": {
      "text/plain": [
       "120"
      ]
     },
     "execution_count": 18,
     "metadata": {},
     "output_type": "execute_result"
    }
   ],
   "source": [
    "def facto(n):\n",
    "    if n == 0 :\n",
    "        return 1\n",
    "    return n * facto(n-1)\n",
    "a = int(input())\n",
    "facto(a)"
   ]
  },
  {
   "cell_type": "code",
   "execution_count": 22,
   "metadata": {},
   "outputs": [
    {
     "name": "stdout",
     "output_type": "stream",
     "text": [
      "1,1,2,3,5,8,13,21,34,55,89,144,233,377,610,987,1597,2584,4181,"
     ]
    }
   ],
   "source": [
    "def fibo(n):\n",
    "    if n == 1 or n == 2:\n",
    "        return 1\n",
    "    return fibo(n-1) + fibo(n-2)\n",
    "\n",
    "for i in range(1,20):\n",
    "    print(fibo(i),end=',')"
   ]
  },
  {
   "cell_type": "code",
   "execution_count": 26,
   "metadata": {},
   "outputs": [
    {
     "name": "stdout",
     "output_type": "stream",
     "text": [
      "0.717177077766727\n",
      "0.30331421563291294\n",
      "0.8230807296105183\n"
     ]
    }
   ],
   "source": [
    "#예제 8-6\n",
    "import random as r\n",
    "\n",
    "for i in range(3):\n",
    "    print(r.random())"
   ]
  },
  {
   "cell_type": "code",
   "execution_count": 30,
   "metadata": {},
   "outputs": [
    {
     "name": "stdout",
     "output_type": "stream",
     "text": [
      "7\n",
      "7\n",
      "5\n",
      "9\n",
      "7\n",
      "\n",
      "5\n",
      "2\n",
      "5\n",
      "6\n",
      "1\n"
     ]
    }
   ],
   "source": [
    "#예제 8-7\n",
    "for i in range(5):\n",
    "    print(random.randrange(1,11,2))\n",
    "print()\n",
    "#예제 8-8\n",
    "for i in range(5):\n",
    "    print(random.randint(1,6))"
   ]
  },
  {
   "cell_type": "code",
   "execution_count": 31,
   "metadata": {},
   "outputs": [
    {
     "name": "stdout",
     "output_type": "stream",
     "text": [
      "바위\n",
      "가위\n",
      "바위\n",
      "보\n",
      "보\n"
     ]
    }
   ],
   "source": [
    "#예제 8-9\n",
    "\n",
    "toss = ['가위','바위','보']\n",
    "\n",
    "for i in range(5):\n",
    "    print(r.choice(toss))"
   ]
  },
  {
   "cell_type": "code",
   "execution_count": 32,
   "metadata": {},
   "outputs": [
    {
     "name": "stdout",
     "output_type": "stream",
     "text": [
      "['사과', '오렌지', '바나나']\n",
      "['오렌지', '바나나', '사과']\n",
      "['오렌지', '사과', '바나나']\n"
     ]
    }
   ],
   "source": [
    "#예제 8-10\n",
    "\n",
    "fruits = ['사과','바나나','오렌지']\n",
    "\n",
    "for i in range(3) :\n",
    "    r.shuffle(fruits)\n",
    "    print(fruits)"
   ]
  },
  {
   "cell_type": "code",
   "execution_count": 33,
   "metadata": {},
   "outputs": [
    {
     "name": "stdout",
     "output_type": "stream",
     "text": [
      "------------------------------\n",
      "주사위 던지기 : 1번째\n",
      "나 : 3\n",
      "computer : 6\n",
      "컴퓨터의 승리\n",
      "계속하려면 y를 입력하세요y\n",
      "------------------------------\n",
      "주사위 던지기 : 2번째\n",
      "나 : 3\n",
      "computer : 3\n",
      "무승부\n",
      "계속하려면 y를 입력하세요y\n",
      "------------------------------\n",
      "주사위 던지기 : 3번째\n",
      "나 : 4\n",
      "computer : 6\n",
      "컴퓨터의 승리\n",
      "계속하려면 y를 입력하세요y\n",
      "------------------------------\n",
      "주사위 던지기 : 4번째\n",
      "나 : 4\n",
      "computer : 3\n",
      "나의 승리\n",
      "계속하려면 y를 입력하세요y\n",
      "------------------------------\n",
      "주사위 던지기 : 5번째\n",
      "나 : 1\n",
      "computer : 2\n",
      "컴퓨터의 승리\n",
      "계속하려면 y를 입력하세요y\n",
      "------------------------------\n",
      "주사위 던지기 : 6번째\n",
      "나 : 5\n",
      "computer : 2\n",
      "나의 승리\n",
      "계속하려면 y를 입력하세요y\n",
      "------------------------------\n",
      "주사위 던지기 : 7번째\n",
      "나 : 6\n",
      "computer : 2\n",
      "나의 승리\n",
      "계속하려면 y를 입력하세요y\n",
      "------------------------------\n",
      "주사위 던지기 : 8번째\n",
      "나 : 4\n",
      "computer : 4\n",
      "무승부\n",
      "계속하려면 y를 입력하세요n\n"
     ]
    }
   ],
   "source": [
    "#예제 8-11\n",
    "\n",
    "again = 'y'\n",
    "count = 1\n",
    "\n",
    "while again == 'y':\n",
    "    print('-'*30)\n",
    "    print('주사위 던지기 : %d번째' %count)\n",
    "    me= r.randint(1,6)\n",
    "    computer = r.randint(1,6)\n",
    "    print('나 : %d' % me)\n",
    "    print('computer : %d' % computer)\n",
    "    \n",
    "    if me > computer :\n",
    "        print('나의 승리')\n",
    "    elif me < computer :\n",
    "        print('컴퓨터의 승리')\n",
    "    else :\n",
    "        print('무승부')\n",
    "    \n",
    "    count += 1\n",
    "    again = input('계속하려면 y를 입력하세요')"
   ]
  },
  {
   "cell_type": "code",
   "execution_count": 35,
   "metadata": {},
   "outputs": [
    {
     "name": "stdout",
     "output_type": "stream",
     "text": [
      "==============================\n",
      "가위 바위 보 게임\n",
      "==============================\n",
      "나 : 바위\n",
      "당신 : 바위\n",
      "무승부입니다.\n",
      "==============================\n",
      "계속하려면 y를 입력하세요.y\n",
      "\n",
      "나 : 보\n",
      "당신 : 바위\n",
      "당신의 승리입니다.\n",
      "==============================\n",
      "계속하려면 y를 입력하세요.y\n",
      "\n",
      "나 : 바위\n",
      "당신 : 가위\n",
      "당신의 승리입니다.\n",
      "==============================\n",
      "계속하려면 y를 입력하세요.y\n",
      "\n",
      "나 : 보\n",
      "당신 : 보\n",
      "무승부입니다.\n",
      "==============================\n",
      "계속하려면 y를 입력하세요.y\n",
      "\n",
      "나 : 가위\n",
      "당신 : 보\n",
      "당신의 승리입니다.\n",
      "==============================\n",
      "계속하려면 y를 입력하세요.y\n",
      "\n",
      "나 : 가위\n",
      "당신 : 바위\n",
      "나의 승리입니다.\n",
      "==============================\n",
      "계속하려면 y를 입력하세요.n\n",
      "\n"
     ]
    }
   ],
   "source": [
    "# 예제 8-12\n",
    "\n",
    "def whowin(x,y):\n",
    "    if x == y:\n",
    "        msg = 3\n",
    "    else :\n",
    "        if (x == '가위' and y == '보') or (x == '바위' and y == '가위') or (x == '보' and y == '바위'):\n",
    "            msg = 1\n",
    "        else :\n",
    "            msg = 2\n",
    "    if msg == 1:\n",
    "        result = '당신의 승리입니다.'\n",
    "    elif msg == 2:\n",
    "        result = '나의 승리입니다.'\n",
    "    else :\n",
    "        result = '무승부입니다.'\n",
    "    return result\n",
    "\n",
    "print('=' * 30)\n",
    "print('가위 바위 보 게임')\n",
    "print('=' * 30)\n",
    "\n",
    "a = ['가위','바위','보']\n",
    "again = 'y'\n",
    "\n",
    "while again == 'y':\n",
    "    me = r.choice(a)\n",
    "    you = r.choice(a)\n",
    "    \n",
    "    result = whowin(me,you)\n",
    "    \n",
    "    print('나 : %s' %me)\n",
    "    print('당신 : %s' %you)\n",
    "    print(result)\n",
    "    print('=' * 30)\n",
    "    \n",
    "    again = input('계속하려면 y를 입력하세요.')\n",
    "    print()"
   ]
  },
  {
   "cell_type": "code",
   "execution_count": 79,
   "metadata": {},
   "outputs": [
    {
     "name": "stdout",
     "output_type": "stream",
     "text": [
      "2020-06-03 10:11:13.718901\n",
      "10.66063219300459\n",
      "5.10818330750054\n",
      "6.236033497123683\n",
      "0.8679440558794606\n",
      "7.208448723564412\n",
      "2.8649376265233086\n",
      "12.389258397374412\n",
      "10.356682351070248\n",
      "0.9972973252533323\n",
      "8.48947998860498\n",
      "4.320330527249008\n",
      "1.3875497243792283\n",
      "5.845204581808832\n",
      "6.15188751031075\n",
      "2.9586352746180262\n",
      "7.539301638024989\n",
      "5.277619583898364\n",
      "0.3791308117548432\n",
      "2.912948645405969\n"
     ]
    }
   ],
   "source": [
    "#예제 8-13\n",
    "from datetime import datetime\n",
    "\n",
    "today = datetime.now()\n",
    "print(today)\n",
    "a=float(r.random())*float(today.second)\n",
    "b=round(a)\n",
    "for i in range(1,20):\n",
    "    print(float(r.random())*float(today.second))"
   ]
  },
  {
   "cell_type": "code",
   "execution_count": 99,
   "metadata": {},
   "outputs": [
    {
     "name": "stdout",
     "output_type": "stream",
     "text": [
      "20-06-03-Wed\n",
      "AM:10:11:13\n"
     ]
    }
   ],
   "source": [
    "print(today.strftime('%y-%m-%d-%a\\n%p:%I:%M:%S'))"
   ]
  },
  {
   "cell_type": "code",
   "execution_count": 3,
   "metadata": {},
   "outputs": [
    {
     "name": "stdout",
     "output_type": "stream",
     "text": [
      "1 1 2 1 6 2 24 3 120 5 720 8 5040 13 40320 21 362880 34 3628800 55 "
     ]
    }
   ],
   "source": [
    "from library import Ch08util\n",
    "for i in range(1,11):\n",
    "    print(Ch08util.facto(i),end=' ')\n",
    "    print(Ch08util.fibo(i),end=' ')"
   ]
  },
  {
   "cell_type": "code",
   "execution_count": null,
   "metadata": {},
   "outputs": [],
   "source": []
  }
 ],
 "metadata": {
  "kernelspec": {
   "display_name": "Python 3",
   "language": "python",
   "name": "python3"
  },
  "language_info": {
   "codemirror_mode": {
    "name": "ipython",
    "version": 3
   },
   "file_extension": ".py",
   "mimetype": "text/x-python",
   "name": "python",
   "nbconvert_exporter": "python",
   "pygments_lexer": "ipython3",
   "version": "3.7.6"
  }
 },
 "nbformat": 4,
 "nbformat_minor": 4
}
