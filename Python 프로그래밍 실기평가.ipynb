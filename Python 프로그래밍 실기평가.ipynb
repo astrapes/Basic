{
 "cells": [
  {
   "cell_type": "code",
   "execution_count": 1,
   "metadata": {},
   "outputs": [],
   "source": [
    "import pandas as pd\n",
    "import numpy as np\n",
    "import matplotlib as mpl\n",
    "import matplotlib.pyplot as plt\n",
    "import random\n",
    "import requests\n",
    "from bs4 import BeautifulSoup\n",
    "from urllib.request import urlopen\n",
    "from urllib.parse import urljoin\n",
    "mpl.rcParams['axes.unicode_minus'] = False   \n",
    "plt.rcParams[\"figure.figsize\"] = (15,5)\n",
    "plt.rcParams[\"font.size\"] = 15\n",
    "%matplotlib inline"
   ]
  },
  {
   "cell_type": "markdown",
   "metadata": {},
   "source": [
    "# 1. 아래 그림과 같이 맨 아랫줄에 *가 7개인 산 모양 2개를 출력하는 프로그램을 for loop문을 사용해서 만드시오. 단, 산과 산 사이에는 공백이 한 개 있음."
   ]
  },
  {
   "cell_type": "code",
   "execution_count": 2,
   "metadata": {},
   "outputs": [
    {
     "name": "stdout",
     "output_type": "stream",
     "text": [
      "   *       *\n",
      "  ***     ***\n",
      " *****   *****\n",
      "******* *******\n"
     ]
    }
   ],
   "source": [
    "for i in range(1,5):\n",
    "    a = ' ' * (4 - i)\n",
    "    b = '*' * (2 * i - 1)\n",
    "    c = ' ' * (9 - 2 * i)\n",
    "    print('%s%s%s%s'%(a,b,c,b))"
   ]
  },
  {
   "cell_type": "markdown",
   "metadata": {},
   "source": [
    "# 2. 다음의 지뢰찾기 문제를 해결해 보시오."
   ]
  },
  {
   "cell_type": "markdown",
   "metadata": {},
   "source": [
    "## 정수 n (단 n은 3이상)을 매개변수로 하여 크기가(n,n)인 리스트를 만들고 여기에 '*'과 '.'을 랜덤하게 채워넣어 이를 출력하고 리턴하는 함수 create_mine(n)을 만드시오."
   ]
  },
  {
   "cell_type": "code",
   "execution_count": 3,
   "metadata": {},
   "outputs": [
    {
     "name": "stdout",
     "output_type": "stream",
     "text": [
      "10\n",
      "[['.' '.' '*' '.' '*' '.' '.' '*' '.' '*']\n",
      " ['*' '.' '*' '.' '*' '*' '.' '*' '*' '*']\n",
      " ['*' '.' '.' '.' '.' '.' '*' '.' '*' '*']\n",
      " ['*' '.' '.' '.' '*' '.' '.' '*' '*' '.']\n",
      " ['.' '*' '*' '*' '.' '.' '*' '*' '*' '*']\n",
      " ['*' '.' '.' '.' '.' '*' '*' '*' '.' '*']\n",
      " ['.' '*' '.' '.' '.' '.' '.' '*' '.' '*']\n",
      " ['*' '.' '*' '*' '*' '.' '*' '*' '.' '*']\n",
      " ['.' '.' '*' '*' '.' '*' '.' '.' '*' '.']\n",
      " ['.' '*' '.' '*' '.' '.' '*' '*' '.' '.']]\n"
     ]
    }
   ],
   "source": [
    "def creat_mine(n):\n",
    "    a = []\n",
    "    b = []\n",
    "    for i in range(n*n):\n",
    "        a.append(random.randint(0,1))\n",
    "    for i in a:\n",
    "        if i == 0:\n",
    "            b.append('.')\n",
    "        else:\n",
    "            b.append('*')\n",
    "    print(np.array(b).reshape(n,n))\n",
    "\n",
    "n = int(input())\n",
    "creat_mine(n)"
   ]
  },
  {
   "cell_type": "code",
   "execution_count": 4,
   "metadata": {},
   "outputs": [
    {
     "name": "stdout",
     "output_type": "stream",
     "text": [
      "10\n",
      "[['0' '1' '2' '*' '*' '*' '*' '*' '*' '2']\n",
      " ['2' '*' '*' '*' '2' '2' '*' '*' '3' '*']\n",
      " ['*' '3' '*' '2' '1' '2' '*' '3' '1' '*']\n",
      " ['2' '2' '*' '2' '*' '*' '*' '*' '1' '2']\n",
      " ['*' '*' '*' '3' '*' '4' '*' '3' '2' '*']\n",
      " ['2' '1' '2' '*' '4' '*' '*' '*' '*' '*']\n",
      " ['*' '2' '2' '*' '*' '3' '2' '*' '*' '*']\n",
      " ['2' '*' '*' '3' '2' '*' '3' '*' '2' '1']\n",
      " ['0' '1' '2' '*' '3' '*' '*' '2' '0' '1']\n",
      " ['0' '0' '1' '*' '*' '*' '*' '1' '1' '*']]\n"
     ]
    }
   ],
   "source": [
    "def creat_mine(n):\n",
    "    a = []\n",
    "    b = []\n",
    "    for i in range(n*n):\n",
    "        a.append(random.randint(0,1))\n",
    "    for i in a:\n",
    "        if i == 0:\n",
    "            b.append('.')\n",
    "        else:\n",
    "            b.append('*')\n",
    "    b = np.array(b).reshape(n,n)\n",
    "    for i in range(0,n):\n",
    "        for j in range(0,n):\n",
    "            stack = 0\n",
    "            if b[i][j] == '.':\n",
    "                # 상단\n",
    "                if i != 0 and b[i-1][j] == '*':\n",
    "                    stack += 1\n",
    "                # 하단\n",
    "                if i != n-1 and b[i+1][j] == '*':\n",
    "                    stack += 1\n",
    "                # 왼쪽\n",
    "                if j != 0 and b[i][j-1] == '*':\n",
    "                    stack += 1\n",
    "                # 오른쪽\n",
    "                if j != n-1 and b[i][j+1] == '*':\n",
    "                    stack += 1\n",
    "                b[i][j] = str(stack)\n",
    "    print(b)\n",
    "\n",
    "n = int(input())\n",
    "creat_mine(n)"
   ]
  },
  {
   "cell_type": "markdown",
   "metadata": {},
   "source": [
    "# 3. 하이퍼볼릭 탄젠트 함수의 그래프를 -2*pi에서 2*pi까지 matplotlib를 사용하여 그리시오"
   ]
  },
  {
   "cell_type": "code",
   "execution_count": 5,
   "metadata": {},
   "outputs": [
    {
     "data": {
      "image/png": "[encoded data removed]",
      "text/plain": [
       "<Figure size 432x288 with 1 Axes>"
      ]
     },
     "metadata": {
      "needs_background": "light"
     },
     "output_type": "display_data"
    }
   ],
   "source": [
    "x = np.linspace(-2*np.pi,2*np.pi, 100)\n",
    "y = np.tanh(x)\n",
    "plt.plot(x,y)\n",
    "plt.grid()\n",
    "plt.show()"
   ]
  },
  {
   "cell_type": "markdown",
   "metadata": {},
   "source": [
    "# 4. 멜론 사이트에서 2020년 5월 월간 국내종합 차트 Top100 곡을 크롤링하여 제목, 가수, 앨범명, 전월순위 필드를 가지는 데이터프레임을 만들고, 1위에서 10위 까지를 출력하는 프로그램을 작성하시오. 단, 인덱스는 순위로 만들 것"
   ]
  },
  {
   "cell_type": "code",
   "execution_count": 6,
   "metadata": {},
   "outputs": [],
   "source": [
    "rank = []\n",
    "song = []\n",
    "name = []\n",
    "album = []\n",
    "rank_compare = []\n",
    "for i in range(1,52,50):\n",
    "    header = {'User-Agent': 'Mozilla/5.0 (Windows NT 6.3; Trident/7.0; rv:11.0) like Gecko'}\n",
    "    url_a = 'https://www.melon.com/chart/month/index.htm#params%5Bidx%5D='\n",
    "    url_b = '&params%5BrankMonth%5D=202005&params%5BisFirstDate%5D=false&params%5BisLastDate%5D=true'\n",
    "    url = url_a + str(i) + url_b\n",
    "    req = requests.get(url, headers = header)\n",
    "    html = req.text\n",
    "    soup = BeautifulSoup(html, 'html.parser')\n",
    "    \n",
    "    if i == 1:\n",
    "        lists = soup.find_all(class_ = 'lst50')\n",
    "    else :\n",
    "        lists = soup.find_all(class_ = 'lst100')\n",
    "        \n",
    "    for li in lists:\n",
    "        \n",
    "        rank.append(int(li.find(class_ = 'rank').get_text()))\n",
    "        tmp_rank = int(li.find(class_ = 'rank').get_text())\n",
    "        song.append(li.find(class_ = 'wrap_song_info').find(class_='ellipsis rank01').get_text().replace('\\n',''))\n",
    "        name.append(li.find(class_ = 'wrap_song_info').find(class_ ='checkEllipsis').get_text())\n",
    "        tmp_list = li.find_all(class_ = 'wrap_song_info')\n",
    "        album.append(tmp_list[1].find(class_ ='ellipsis rank03').get_text().replace('\\n',''))\n",
    "        rank_check = li.find(class_ = 'rank_wrap').find(class_ = 'none').get_text()\n",
    "\n",
    "        if rank_check == '단계 하락':\n",
    "            tmp = int(li.find(class_ = 'rank_wrap').find(class_ = 'down').get_text())\n",
    "            rank_compare.append(tmp_rank-tmp)\n",
    "        elif rank_check == '단계 상승':\n",
    "            tmp = int(li.find(class_ = 'rank_wrap').find(class_ = 'up').get_text())\n",
    "            rank_compare.append(tmp_rank+tmp)\n",
    "        else :\n",
    "            rank_compare.append(tmp_rank)"
   ]
  },
  {
   "cell_type": "code",
   "execution_count": 7,
   "metadata": {},
   "outputs": [
    {
     "data": {
      "text/html": [
       "<div>\n",
       "<style scoped>\n",
       "    .dataframe tbody tr th:only-of-type {\n",
       "        vertical-align: middle;\n",
       "    }\n",
       "\n",
       "    .dataframe tbody tr th {\n",
       "        vertical-align: top;\n",
       "    }\n",
       "\n",
       "    .dataframe thead th {\n",
       "        text-align: right;\n",
       "    }\n",
       "</style>\n",
       "<table border=\"1\" class=\"dataframe\">\n",
       "  <thead>\n",
       "    <tr style=\"text-align: right;\">\n",
       "      <th></th>\n",
       "      <th>전월순위</th>\n",
       "      <th>곡</th>\n",
       "      <th>이름</th>\n",
       "      <th>앨범</th>\n",
       "    </tr>\n",
       "    <tr>\n",
       "      <th>순위</th>\n",
       "      <th></th>\n",
       "      <th></th>\n",
       "      <th></th>\n",
       "      <th></th>\n",
       "    </tr>\n",
       "  </thead>\n",
       "  <tbody>\n",
       "    <tr>\n",
       "      <th>1</th>\n",
       "      <td>1</td>\n",
       "      <td>에잇(Prod.&amp;Feat. SUGA of BTS)</td>\n",
       "      <td>아이유</td>\n",
       "      <td>에잇</td>\n",
       "    </tr>\n",
       "    <tr>\n",
       "      <th>2</th>\n",
       "      <td>2</td>\n",
       "      <td>아로하</td>\n",
       "      <td>조정석</td>\n",
       "      <td>슬기로운 의사생활 OST Part 3</td>\n",
       "    </tr>\n",
       "    <tr>\n",
       "      <th>3</th>\n",
       "      <td>3</td>\n",
       "      <td>살짝 설렜어 (Nonstop)</td>\n",
       "      <td>오마이걸</td>\n",
       "      <td>NONSTOP</td>\n",
       "    </tr>\n",
       "    <tr>\n",
       "      <th>4</th>\n",
       "      <td>4</td>\n",
       "      <td>나비와 고양이 (feat.백현 (BAEKHYUN))</td>\n",
       "      <td>볼빨간사춘기</td>\n",
       "      <td>사춘기집Ⅱ 꽃 본 나비</td>\n",
       "    </tr>\n",
       "    <tr>\n",
       "      <th>5</th>\n",
       "      <td>3</td>\n",
       "      <td>시작</td>\n",
       "      <td>가호 (Gaho)</td>\n",
       "      <td>이태원 클라쓰 OST Part.2</td>\n",
       "    </tr>\n",
       "    <tr>\n",
       "      <th>...</th>\n",
       "      <td>...</td>\n",
       "      <td>...</td>\n",
       "      <td>...</td>\n",
       "      <td>...</td>\n",
       "    </tr>\n",
       "    <tr>\n",
       "      <th>96</th>\n",
       "      <td>62</td>\n",
       "      <td>아마두 (feat.우원재, 김효은, 넉살, Huckleberry P)</td>\n",
       "      <td>염따, 딥플로우, 팔로알토 (Paloalto), The Quiett, 사이먼 도미닉</td>\n",
       "      <td>Dingo X DAMOIM (Part 2)</td>\n",
       "    </tr>\n",
       "    <tr>\n",
       "      <th>97</th>\n",
       "      <td>83</td>\n",
       "      <td>Señorita</td>\n",
       "      <td>Shawn Mendes, Camila Cabello</td>\n",
       "      <td>Señorita</td>\n",
       "    </tr>\n",
       "    <tr>\n",
       "      <th>98</th>\n",
       "      <td>98</td>\n",
       "      <td>Zombie</td>\n",
       "      <td>DAY6 (데이식스)</td>\n",
       "      <td>The Book of Us : The Demon</td>\n",
       "    </tr>\n",
       "    <tr>\n",
       "      <th>99</th>\n",
       "      <td>99</td>\n",
       "      <td>자나깨나 (Feat. 조이 of Red Velvet)</td>\n",
       "      <td>Crush</td>\n",
       "      <td>homemade 1</td>\n",
       "    </tr>\n",
       "    <tr>\n",
       "      <th>100</th>\n",
       "      <td>100</td>\n",
       "      <td>나쁜 놈</td>\n",
       "      <td>벤</td>\n",
       "      <td>Off The Record</td>\n",
       "    </tr>\n",
       "  </tbody>\n",
       "</table>\n",
       "<p>100 rows × 4 columns</p>\n",
       "</div>"
      ],
      "text/plain": [
       "     전월순위                                       곡  \\\n",
       "순위                                                  \n",
       "1       1             에잇(Prod.&Feat. SUGA of BTS)   \n",
       "2       2                                     아로하   \n",
       "3       3                        살짝 설렜어 (Nonstop)   \n",
       "4       4            나비와 고양이 (feat.백현 (BAEKHYUN))   \n",
       "5       3                                      시작   \n",
       "..    ...                                     ...   \n",
       "96     62  아마두 (feat.우원재, 김효은, 넉살, Huckleberry P)   \n",
       "97     83                                Señorita   \n",
       "98     98                                  Zombie   \n",
       "99     99           자나깨나 (Feat. 조이 of Red Velvet)   \n",
       "100   100                                    나쁜 놈   \n",
       "\n",
       "                                                 이름  \\\n",
       "순위                                                    \n",
       "1                                               아이유   \n",
       "2                                               조정석   \n",
       "3                                              오마이걸   \n",
       "4                                            볼빨간사춘기   \n",
       "5                                         가호 (Gaho)   \n",
       "..                                              ...   \n",
       "96   염따, 딥플로우, 팔로알토 (Paloalto), The Quiett, 사이먼 도미닉   \n",
       "97                     Shawn Mendes, Camila Cabello   \n",
       "98                                      DAY6 (데이식스)   \n",
       "99                                            Crush   \n",
       "100                                               벤   \n",
       "\n",
       "                             앨범  \n",
       "순위                               \n",
       "1                            에잇  \n",
       "2          슬기로운 의사생활 OST Part 3  \n",
       "3                       NONSTOP  \n",
       "4                  사춘기집Ⅱ 꽃 본 나비  \n",
       "5            이태원 클라쓰 OST Part.2  \n",
       "..                          ...  \n",
       "96      Dingo X DAMOIM (Part 2)  \n",
       "97                     Señorita  \n",
       "98   The Book of Us : The Demon  \n",
       "99                   homemade 1  \n",
       "100              Off The Record  \n",
       "\n",
       "[100 rows x 4 columns]"
      ]
     },
     "execution_count": 7,
     "metadata": {},
     "output_type": "execute_result"
    }
   ],
   "source": [
    "df = pd.DataFrame(dict(zip(['순위','전월순위','곡','이름','앨범'],[rank,rank_compare,song,name,album])))\n",
    "df.set_index('순위',inplace = True)\n",
    "df"
   ]
  },
  {
   "cell_type": "code",
   "execution_count": null,
   "metadata": {},
   "outputs": [],
   "source": []
  }
 ],
 "metadata": {
  "kernelspec": {
   "display_name": "Python 3",
   "language": "python",
   "name": "python3"
  },
  "language_info": {
   "codemirror_mode": {
    "name": "ipython",
    "version": 3
   },
   "file_extension": ".py",
   "mimetype": "text/x-python",
   "name": "python",
   "nbconvert_exporter": "python",
   "pygments_lexer": "ipython3",
   "version": "3.7.6"
  }
 },
 "nbformat": 4,
 "nbformat_minor": 4
}
