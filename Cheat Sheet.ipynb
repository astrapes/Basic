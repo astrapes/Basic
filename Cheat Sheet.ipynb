{
 "cells": [
  {
   "cell_type": "code",
   "execution_count": 4,
   "metadata": {},
   "outputs": [],
   "source": [
    "# list 만들기\n",
    "l = [1,2,3]\n",
    "l = list(range(5,19))\n",
    "l = list(range(5,10,2))"
   ]
  },
  {
   "cell_type": "code",
   "execution_count": 6,
   "metadata": {},
   "outputs": [],
   "source": [
    "# tuple 만들기\n",
    "t = (1,2,3,4)\n",
    "t = (1,)\n",
    "t = 1,\n",
    "t = tuple(range(5,10,2))"
   ]
  },
  {
   "cell_type": "code",
   "execution_count": 7,
   "metadata": {},
   "outputs": [],
   "source": [
    "# list to tuple\n",
    "t = tuple(a)\n",
    "# tuple to list\n",
    "l = list(t)"
   ]
  },
  {
   "cell_type": "code",
   "execution_count": 22,
   "metadata": {},
   "outputs": [],
   "source": [
    "# 2차원 list to tuple\n",
    "b = [[1,2,3,4],[1,2,3,4]]\n",
    "c = [tuple(i) for i in b]\n",
    "# 2차원 tuple to list\n",
    "b = [list(i) for i in c]"
   ]
  },
  {
   "cell_type": "code",
   "execution_count": 23,
   "metadata": {},
   "outputs": [
    {
     "data": {
      "text/plain": [
       "True"
      ]
     },
     "execution_count": 23,
     "metadata": {},
     "output_type": "execute_result"
    }
   ],
   "source": [
    "# 특정 값이 있는 지 확인\n",
    "30 in a\n",
    "30 not in a"
   ]
  },
  {
   "cell_type": "code",
   "execution_count": 31,
   "metadata": {},
   "outputs": [],
   "source": [
    "# dictionary 만들기\n",
    "d1 = dict(zip(['키1','키2','키3'],['값1','값2','값3']))\n",
    "d2 = dict({'키1':'값1','키2':'값2'})"
   ]
  },
  {
   "cell_type": "code",
   "execution_count": 33,
   "metadata": {},
   "outputs": [],
   "source": [
    "# 조건문\n",
    "if a == 10:\n",
    "    pass    # TODO: x가 10일 때 처리가 필요함"
   ]
  },
  {
   "cell_type": "code",
   "execution_count": null,
   "metadata": {},
   "outputs": [],
   "source": []
  }
 ],
 "metadata": {
  "kernelspec": {
   "display_name": "Python 3",
   "language": "python",
   "name": "python3"
  },
  "language_info": {
   "codemirror_mode": {
    "name": "ipython",
    "version": 3
   },
   "file_extension": ".py",
   "mimetype": "text/x-python",
   "name": "python",
   "nbconvert_exporter": "python",
   "pygments_lexer": "ipython3",
   "version": "3.7.6"
  }
 },
 "nbformat": 4,
 "nbformat_minor": 4
}
