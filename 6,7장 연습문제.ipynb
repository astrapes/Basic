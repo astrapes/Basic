{
 "cells": [
  {
   "cell_type": "markdown",
   "metadata": {},
   "source": [
    "# 6장 연습문제"
   ]
  },
  {
   "cell_type": "markdown",
   "metadata": {},
   "source": [
    "# 회사 쇼핑몰 고객의 아이디에 부여된 마일리지 포인트를 딕셔너리에 저장하여 관리하고자 한다. 다음 물음에 답하시오"
   ]
  },
  {
   "cell_type": "markdown",
   "metadata": {},
   "source": [
    "# 1. 위의 표에 나타난 아이디와 마일리지 포인트를 딕셔너리에 저장한 다음 출력하는 프로그램을 작성하시오."
   ]
  },
  {
   "cell_type": "code",
   "execution_count": 213,
   "metadata": {},
   "outputs": [
    {
     "name": "stdout",
     "output_type": "stream",
     "text": [
      " 1. 아이디 : kim99, 마일리지 : 12000\n",
      " 2. 아이디 : lee66, 마일리지 : 11000\n",
      " 3. 아이디 : han55, 마일리지 : 3000\n",
      " 4. 아이디 : hong77, 마일리지 : 5000\n",
      " 5. 아이디 : hwang33, 마일리지 : 18000\n"
     ]
    }
   ],
   "source": [
    "customer = {'kim99':12000,'lee66':11000,'han55':3000,'hong77':5000,'hwang33':18000}\n",
    "count = 1\n",
    "for i in customer:\n",
    "    print('%2d. 아이디 : %s, 마일리지 : %d' %(count,i,customer[i]))\n",
    "    count += 1"
   ]
  },
  {
   "cell_type": "markdown",
   "metadata": {},
   "source": [
    "# 2. 아이디 'han55의 마일리지를 5000점으로 업데이트하고 업데이트된 정보를 출력하는 프로그램을 작성하시오. "
   ]
  },
  {
   "cell_type": "code",
   "execution_count": 214,
   "metadata": {},
   "outputs": [
    {
     "name": "stdout",
     "output_type": "stream",
     "text": [
      "han55님의 마일리지가 5000점으로 수정 되었습니다.\n"
     ]
    }
   ],
   "source": [
    "customer = {'kim99':12000,'lee66':11000,'han55':3000,'hong77':5000,'hwang33':18000}\n",
    "name = 'han55'\n",
    "customer[name]=5000\n",
    "print('%s님의 마일리지가 %d점으로 수정 되었습니다.' %(name,customer[name]))"
   ]
  },
  {
   "cell_type": "markdown",
   "metadata": {},
   "source": [
    "# 3. 딕셔너리에 아이디 'jang88'과 마일리지 7000을 추가한 다음 전체 딕셔너리와 추가된 데이터를 출력한느 프로그램을 작성하시오 "
   ]
  },
  {
   "cell_type": "code",
   "execution_count": 60,
   "metadata": {},
   "outputs": [
    {
     "name": "stdout",
     "output_type": "stream",
     "text": [
      "전체 딕셔너리 : {'kim99': 12000, 'lee66': 11000, 'han55': 3000, 'hong77': 5000, 'hwang33': 18000, 'jang88': 7000} \n",
      "jang88님의 마일리지(7000점)가 추가되었습니다.\n"
     ]
    }
   ],
   "source": [
    "customer = {'kim99':12000,'lee66':11000,'han55':3000,'hong77':5000,'hwang33':18000}\n",
    "name = 'jang88'\n",
    "customer[name] = 7000\n",
    "print('전체 딕셔너리 : %s \\n%s님의 마일리지(%d점)가 추가되었습니다.' %(customer,name,customer[name]))"
   ]
  },
  {
   "cell_type": "markdown",
   "metadata": {},
   "source": [
    "# 4. 딕셔너리에서 가장 높은 마일리지를 찾아서 출력하는 플그램을 작성하시오."
   ]
  },
  {
   "cell_type": "code",
   "execution_count": 61,
   "metadata": {},
   "outputs": [
    {
     "name": "stdout",
     "output_type": "stream",
     "text": [
      "hwang33님의 18000점이 가장 높은 점수입니다.\n"
     ]
    }
   ],
   "source": [
    "largest = 0\n",
    "for i in customer:\n",
    "    if largest < customer[i]:\n",
    "        largest = customer[i]\n",
    "        name = i\n",
    "print('%s님의 %s점이 가장 높은 점수입니다.' %(name,largest))"
   ]
  },
  {
   "cell_type": "markdown",
   "metadata": {},
   "source": [
    "# 5. 표의 데이터를 딕셔너리에 저장한 다음 출력하는 프로그램을 작성하시오. "
   ]
  },
  {
   "cell_type": "code",
   "execution_count": 62,
   "metadata": {},
   "outputs": [
    {
     "name": "stdout",
     "output_type": "stream",
     "text": [
      "--------------------------------------------------\n",
      "  월    화    수    목    금    토    일  \n",
      "--------------------------------------------------\n",
      "25.50 28.30 33.20 32.10 17.30 35.30 33.30 \n",
      "--------------------------------------------------\n"
     ]
    }
   ],
   "source": [
    "temperature = dict(zip(['월','화','수','목','금','토','일'],[25.5,28.3,33.2,32.1,17.3,35.3,33.3]))\n",
    "\n",
    "print('-' * 50)\n",
    "for day in temperature :\n",
    "    print('  %s  '%day, end='')\n",
    "print()\n",
    "print('-' * 50)\n",
    "for temp in temperature :\n",
    "    print('%.2f ' %temperature[temp], end='')\n",
    "    \n",
    "print()\n",
    "print('-' * 50)\n",
    "    "
   ]
  },
  {
   "cell_type": "markdown",
   "metadata": {},
   "source": [
    "# 6. 딕셔너리에서 주중 가장 낮은 최고 기온을 찾아서 출력하는 프로그램을 작성하시오."
   ]
  },
  {
   "cell_type": "code",
   "execution_count": 63,
   "metadata": {},
   "outputs": [
    {
     "name": "stdout",
     "output_type": "stream",
     "text": [
      "최저 기온 : 17.3\n"
     ]
    }
   ],
   "source": [
    "lowest = temperature['월']\n",
    "for i in temperature:\n",
    "    if lowest > temperature[i]:\n",
    "        lowest = temperature[i]\n",
    "print('최저 기온 : %.1f' %(lowest))"
   ]
  },
  {
   "cell_type": "markdown",
   "metadata": {},
   "source": [
    "# 7. 딕셔너리에서 주간 최고 기온이 30도 이상인 요일을 출력하는 프로그램을 작성하시오 "
   ]
  },
  {
   "cell_type": "code",
   "execution_count": 64,
   "metadata": {},
   "outputs": [
    {
     "name": "stdout",
     "output_type": "stream",
     "text": [
      "기온이 30도 이상인 요일 : 수 목 토 일 "
     ]
    }
   ],
   "source": [
    "above30 = []\n",
    "print('기온이 30도 이상인 요일 : ',end='')\n",
    "for i in temperature:\n",
    "    if temperature[i] >= 30:\n",
    "        above30 += i\n",
    "\n",
    "for j in range(0,len(above30)):\n",
    "    print(above30[j],sep=',' ,end=' ')"
   ]
  },
  {
   "cell_type": "markdown",
   "metadata": {},
   "source": [
    "# 8. 딕셔너리에서 일주일간 최고 기온의 평균을 구하는 프로그램을 작성하시오."
   ]
  },
  {
   "cell_type": "code",
   "execution_count": 65,
   "metadata": {},
   "outputs": [
    {
     "name": "stdout",
     "output_type": "stream",
     "text": [
      "일주일간 최고 기온의 평균 : 29.3\n"
     ]
    }
   ],
   "source": [
    "sum = 0\n",
    "temperature = dict(zip(['월','화','수','목','금','토','일'],[25.5,28.3,33.2,32.1,17.3,35.3,33.3]))\n",
    "for i in temperature:\n",
    "    sum += temperature[i]\n",
    "avg = sum / len(temperature)\n",
    "print('일주일간 최고 기온의 평균 : %2.1f' %avg)"
   ]
  },
  {
   "cell_type": "markdown",
   "metadata": {},
   "source": [
    "# 7장 연습문제"
   ]
  },
  {
   "cell_type": "markdown",
   "metadata": {},
   "source": [
    "# 1. 다음 프로그램의 실행 결과는 무엇인가?"
   ]
  },
  {
   "cell_type": "code",
   "execution_count": 66,
   "metadata": {},
   "outputs": [
    {
     "name": "stdout",
     "output_type": "stream",
     "text": [
      "20,10\n"
     ]
    }
   ],
   "source": [
    "def f1(a):\n",
    "    a += 10\n",
    "    print(a,end=',')\n",
    "\n",
    "a=10\n",
    "f1(a)\n",
    "print(a)"
   ]
  },
  {
   "cell_type": "markdown",
   "metadata": {},
   "source": [
    "# 2. 다음 프로그램의 실행 결과는 무엇인가?"
   ]
  },
  {
   "cell_type": "code",
   "execution_count": 81,
   "metadata": {},
   "outputs": [
    {
     "name": "stdout",
     "output_type": "stream",
     "text": [
      "300,100,300\n"
     ]
    }
   ],
   "source": [
    "def f2(a):\n",
    "    global y\n",
    "    y += a\n",
    "    x = 500\n",
    "    print(y,end=',')\n",
    "\n",
    "x = 100\n",
    "y = 200\n",
    "f2(x)\n",
    "print(x,end=',')\n",
    "print(y)"
   ]
  },
  {
   "cell_type": "markdown",
   "metadata": {},
   "source": [
    "# 3. 다음은 2~n까지의 정수 중에서 소수를 구하는 프로그램의 실행 결과이다. 1개 이상의 사용자 함수를 정의하여 프로그램을 작성하시오."
   ]
  },
  {
   "cell_type": "code",
   "execution_count": 119,
   "metadata": {},
   "outputs": [
    {
     "name": "stdout",
     "output_type": "stream",
     "text": [
      "n값을 입력해주세요 : 20\n",
      "2 3 5 7 11 13 17 19 "
     ]
    }
   ],
   "source": [
    "def prime_number(a) :\n",
    "    for i in range(2,a+1):\n",
    "        cal(i)\n",
    "def cal(c):       \n",
    "    for j in range(2,c+1):\n",
    "        if c == j :\n",
    "            print(c,end=' ')\n",
    "        elif c%j== 0:\n",
    "            break\n",
    "n = int(input('n값을 입력해주세요 : '))\n",
    "prime_number(n)"
   ]
  },
  {
   "cell_type": "markdown",
   "metadata": {},
   "source": [
    "# 4. 다음은 입력받은 문자열을 역순으로 출력하는 프로그램의 실행 결과이다. 1개 이상의 사용자 함수를 정의하여 프로그램을 작성하시오."
   ]
  },
  {
   "cell_type": "code",
   "execution_count": 19,
   "metadata": {},
   "outputs": [
    {
     "name": "stdout",
     "output_type": "stream",
     "text": [
      "문자열을 입력하세요 : asfd\n",
      "dfsa\n"
     ]
    }
   ],
   "source": [
    "reverse_print1 = lambda text : text[::-1]\n",
    "\n",
    "s=input('문자열을 입력하세요 : ')\n",
    "\n",
    "print(reverse_print1(s))"
   ]
  },
  {
   "cell_type": "code",
   "execution_count": 116,
   "metadata": {},
   "outputs": [
    {
     "name": "stdout",
     "output_type": "stream",
     "text": [
      "[1, 4, 9, 16, 25]\n"
     ]
    }
   ],
   "source": [
    "def numSquare(num):\n",
    "    list_new = []\n",
    "    for i in range(1,num + 1):\n",
    "        list_new.append(i**2)\n",
    "    return list_new\n",
    "\n",
    "n = 5\n",
    "result = numSquare(n)\n",
    "print(result)"
   ]
  },
  {
   "cell_type": "markdown",
   "metadata": {},
   "source": [
    "# 6. 다음은 두 수의 최소 공배수를 구하는 프로그램의 실행 결과이다. 1개 이상의 사용자 함수를 정의하여 프로그램을 작성하시오."
   ]
  },
  {
   "cell_type": "code",
   "execution_count": 14,
   "metadata": {},
   "outputs": [
    {
     "name": "stdout",
     "output_type": "stream",
     "text": [
      "첫 번째 수를 입력하세요. : 8\n",
      "두 번째 수를 입력하세요. : 20\n",
      "4\n",
      "8와 20의 최소 공배수 : 40\n"
     ]
    }
   ],
   "source": [
    "LCM = lambda num1,num2,gcd : num1 * num2 / gcd\n",
    "\n",
    "def GCD(n1,n2):\n",
    "    if n1 > n2 :\n",
    "        small = n2\n",
    "    else :\n",
    "        small = n1\n",
    "        \n",
    "    for i in range(1,small + 1):\n",
    "        if (n1%i == 0) and (n2%i == 0):\n",
    "            gcd = i\n",
    "    return gcd\n",
    "\n",
    "number1 = int(input('첫 번째 수를 입력하세요. : '))\n",
    "number2 = int(input('두 번째 수를 입력하세요. : '))\n",
    "gcd=GCD(number1,number2)\n",
    "print(gcd)\n",
    "print('%d와 %d의 최소 공배수 :'%(number1,number2),'%d' %LCM(number1,number2,gcd))"
   ]
  },
  {
   "cell_type": "markdown",
   "metadata": {},
   "source": [
    "# 7. 다음은 유효한 비밀번호(10자리 이상, 영문대문자 반드시 포함)를 만드는 프로그램의 실행결과이다. 1개 이상의 사용자 함수를 정의하여 프로그램을 작성하시오."
   ]
  },
  {
   "cell_type": "code",
   "execution_count": 12,
   "metadata": {},
   "outputs": [
    {
     "name": "stdout",
     "output_type": "stream",
     "text": [
      "* 비밀번호는 10자리 이상, 영문 대문자를 포함하여야 합니다.\n",
      "비밀번호 : asdf\n",
      "비밀번호 확인 : asdf\n",
      "비밀번호가 잘못되었습니다. 다시 입력해주세요\n",
      "비밀번호 : A123456789\n",
      "비밀번호 확인 : A123456789\n",
      "유효한 비밀번호입니다.\n"
     ]
    }
   ],
   "source": [
    "\n",
    "print('* 비밀번호는 10자리 이상, 영문 대문자를 포함하여야 합니다.')\n",
    "def password_check():\n",
    "    pw = input('비밀번호 : ')\n",
    "    pw_check = input('비밀번호 확인 : ')\n",
    "    if pw == pw_check:\n",
    "        password(pw)\n",
    "    else :\n",
    "        print('비밀번호와 비밀번호 확인이 서로 다릅니다. 다시 입력해주세요.')\n",
    "\n",
    "def password(pw):\n",
    "        for i in pw:\n",
    "            if len(pw) >= 10 and i >= 'A' and i <= 'Z':\n",
    "                print('유효한 비밀번호입니다.')\n",
    "                global stop\n",
    "                stop = True\n",
    "                break\n",
    "            else:\n",
    "                print('비밀번호가 잘못되었습니다. 다시 입력해주세요')\n",
    "                break\n",
    "\n",
    "stop = False\n",
    "i=1\n",
    "while stop == False:             \n",
    "    password_check()"
   ]
  },
  {
   "cell_type": "markdown",
   "metadata": {},
   "source": [
    "# 8. 리스트 numbers는 다음과 같이 정의된다. 리스트의 요소를 오름차순으로 정렬하는 프로그램을 작성하시오. (단, 1개 이상의 사용자 함수를 정의해야 함.)\n",
    "    "
   ]
  },
  {
   "cell_type": "code",
   "execution_count": 207,
   "metadata": {},
   "outputs": [
    {
     "name": "stdout",
     "output_type": "stream",
     "text": [
      "91 77 36 33 29 20 11 6 "
     ]
    }
   ],
   "source": [
    "numbers = [77,36,29,11,20,6,91,33]\n",
    "\n",
    "def sort(list1):\n",
    "    for i in range(0,len(list1)):\n",
    "        for j in range(i+1,len(list1)):\n",
    "            if list1[i] < list1[j]:\n",
    "                list1[i],list1[j] = list1[j],list1[i]\n",
    "    return list1\n",
    "numbers=sort(numbers)\n",
    "for i in numbers:\n",
    "    print(i,end=' ')"
   ]
  },
  {
   "cell_type": "code",
   "execution_count": 211,
   "metadata": {},
   "outputs": [
    {
     "name": "stdout",
     "output_type": "stream",
     "text": [
      "0 0\n",
      "[77, 36, 29, 11, 20, 6, 91, 33]\n",
      "0 1\n",
      "[77, 36, 29, 11, 20, 6, 91, 33]\n",
      "0 2\n",
      "[36, 77, 29, 11, 20, 6, 91, 33]\n",
      "0 3\n",
      "[29, 77, 36, 11, 20, 6, 91, 33]\n",
      "0 4\n",
      "[11, 77, 36, 29, 20, 6, 91, 33]\n",
      "0 5\n",
      "[11, 77, 36, 29, 20, 6, 91, 33]\n",
      "0 6\n",
      "[6, 77, 36, 29, 20, 11, 91, 33]\n",
      "0 7\n",
      "[6, 77, 36, 29, 20, 11, 91, 33]\n",
      "1 1\n",
      "[6, 77, 36, 29, 20, 11, 91, 33]\n",
      "1 2\n",
      "[6, 77, 36, 29, 20, 11, 91, 33]\n",
      "1 3\n",
      "[6, 36, 77, 29, 20, 11, 91, 33]\n",
      "1 4\n",
      "[6, 29, 77, 36, 20, 11, 91, 33]\n",
      "1 5\n",
      "[6, 20, 77, 36, 29, 11, 91, 33]\n",
      "1 6\n",
      "[6, 11, 77, 36, 29, 20, 91, 33]\n",
      "1 7\n",
      "[6, 11, 77, 36, 29, 20, 91, 33]\n",
      "2 2\n",
      "[6, 11, 77, 36, 29, 20, 91, 33]\n",
      "2 3\n",
      "[6, 11, 77, 36, 29, 20, 91, 33]\n",
      "2 4\n",
      "[6, 11, 36, 77, 29, 20, 91, 33]\n",
      "2 5\n",
      "[6, 11, 29, 77, 36, 20, 91, 33]\n",
      "2 6\n",
      "[6, 11, 20, 77, 36, 29, 91, 33]\n",
      "2 7\n",
      "[6, 11, 20, 77, 36, 29, 91, 33]\n",
      "3 3\n",
      "[6, 11, 20, 77, 36, 29, 91, 33]\n",
      "3 4\n",
      "[6, 11, 20, 77, 36, 29, 91, 33]\n",
      "3 5\n",
      "[6, 11, 20, 36, 77, 29, 91, 33]\n",
      "3 6\n",
      "[6, 11, 20, 29, 77, 36, 91, 33]\n",
      "3 7\n",
      "[6, 11, 20, 29, 77, 36, 91, 33]\n",
      "4 4\n",
      "[6, 11, 20, 29, 77, 36, 91, 33]\n",
      "4 5\n",
      "[6, 11, 20, 29, 77, 36, 91, 33]\n",
      "4 6\n",
      "[6, 11, 20, 29, 36, 77, 91, 33]\n",
      "4 7\n",
      "[6, 11, 20, 29, 36, 77, 91, 33]\n",
      "5 5\n",
      "[6, 11, 20, 29, 33, 77, 91, 36]\n",
      "5 6\n",
      "[6, 11, 20, 29, 33, 77, 91, 36]\n",
      "5 7\n",
      "[6, 11, 20, 29, 33, 77, 91, 36]\n",
      "6 6\n",
      "[6, 11, 20, 29, 33, 36, 91, 77]\n",
      "6 7\n",
      "[6, 11, 20, 29, 33, 36, 91, 77]\n",
      "6 11 20 29 33 36 77 91 "
     ]
    }
   ],
   "source": [
    "numbers = [77,36,29,11,20,6,91,33]\n",
    "\n",
    "def sort(list1):\n",
    "    for i in range(0,len(list1)-1):\n",
    "        for j in range(i,len(list1)):\n",
    "            if list1[i] > list1[j]:\n",
    "                list1[i],list1[j] = list1[j],list1[i]\n",
    "    return list1\n",
    "numbers=sort(numbers)\n",
    "for i in numbers:\n",
    "    print(i,end=' ')"
   ]
  },
  {
   "cell_type": "code",
   "execution_count": 24,
   "metadata": {},
   "outputs": [
    {
     "name": "stdout",
     "output_type": "stream",
     "text": [
      "sfdsdf\n",
      "fdsd\n"
     ]
    }
   ],
   "source": []
  },
  {
   "cell_type": "code",
   "execution_count": null,
   "metadata": {},
   "outputs": [],
   "source": []
  }
 ],
 "metadata": {
  "kernelspec": {
   "display_name": "Python 3",
   "language": "python",
   "name": "python3"
  },
  "language_info": {
   "codemirror_mode": {
    "name": "ipython",
    "version": 3
   },
   "file_extension": ".py",
   "mimetype": "text/x-python",
   "name": "python",
   "nbconvert_exporter": "python",
   "pygments_lexer": "ipython3",
   "version": "3.7.6"
  }
 },
 "nbformat": 4,
 "nbformat_minor": 4
}
