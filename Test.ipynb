{
 "cells": [
  {
   "cell_type": "code",
   "execution_count": 12,
   "metadata": {},
   "outputs": [
    {
     "name": "stdout",
     "output_type": "stream",
     "text": [
      "반지름을 입력하세요10\n",
      "반지름 : 10 cm\n",
      "원의 둘레 : 62.80 cm\n",
      "원의 면적 : 314.00 cm^2\n"
     ]
    }
   ],
   "source": [
    "radius = int(input('반지름을 입력하세요'))\n",
    "print('반지름 : %d cm\\n원의 둘레 : %.2f cm\\n원의 면적 : %.2f cm^2' %(radius,radius*2*3.14,radius*radius*3.14))"
   ]
  },
  {
   "cell_type": "code",
   "execution_count": 15,
   "metadata": {},
   "outputs": [
    {
     "name": "stdout",
     "output_type": "stream",
     "text": [
      "책 값을 입력하세요 : 15000\n",
      "할인율을 입력하세요(%) : 15\n",
      "배송료를 입력하세요 : 3000\n",
      "결제 금액 : 15750 원\n"
     ]
    }
   ],
   "source": [
    "book = int(input('책 값을 입력하세요 : '))\n",
    "discount = int(input('할인율을 입력하세요(%) : '))\n",
    "dilivery = int(input('배송료를 입력하세요 : '))\n",
    "print('결제 금액 : %d 원' %(book - book*discount/100 + dilivery))"
   ]
  },
  {
   "cell_type": "code",
   "execution_count": 18,
   "metadata": {},
   "outputs": [
    {
     "name": "stdout",
     "output_type": "stream",
     "text": [
      "이름을 입력하세요 : 안지영\n",
      "현재 년을 입력하세요 : 2020\n",
      "탄생 년을 입력하세요 : 1997\n",
      "안지영님의 나이는 24세 입니다.\n"
     ]
    }
   ],
   "source": [
    "name = input('이름을 입력하세요 : ')\n",
    "now_year = int(input('현재 년을 입력하세요 : '))\n",
    "birth_year = int(input('탄생 년을 입력하세요 : '))\n",
    "print('%s님의 나이는 %d세 입니다.' %(name,now_year - birth_year + 1 ))"
   ]
  },
  {
   "cell_type": "code",
   "execution_count": 25,
   "metadata": {},
   "outputs": [
    {
     "name": "stdout",
     "output_type": "stream",
     "text": [
      "연을 입력하세요 : 2020\n",
      "월을 입력하세요 : 1\n",
      "일을 입력하세요 : 5\n",
      "2020-01-05\n"
     ]
    }
   ],
   "source": [
    "year = int(input('연을 입력하세요 : '))\n",
    "month = int(input('월을 입력하세요 : '))\n",
    "day = int(input('일을 입력하세요 : '))\n",
    "print('%d-%02d-%02d'%(year,month,day))"
   ]
  },
  {
   "cell_type": "code",
   "execution_count": 29,
   "metadata": {},
   "outputs": [
    {
     "name": "stdout",
     "output_type": "stream",
     "text": [
      "단위를 입력하세요(1:섭씨, 2:화씨) : 2\n",
      "온도를 입력하세요 : 31\n",
      "물의 섭씨 온도 : -0.56, 상태 : 고체\n"
     ]
    }
   ],
   "source": [
    "unit = input('단위를 입력하세요(1:섭씨, 2:화씨) : ')\n",
    "temp = int(input('온도를 입력하세요 : '))\n",
    "if unit == '2':\n",
    "    temp = (temp - 32) * 5 / 9\n",
    "if 0 < temp < 100:\n",
    "    phase = '액체'\n",
    "elif 0 > temp:\n",
    "    phase = '고체'\n",
    "else :\n",
    "    phase = '기체'\n",
    "    \n",
    "print('물의 섭씨 온도 : %.2f, 상태 : %s' %(temp,phase))"
   ]
  },
  {
   "cell_type": "code",
   "execution_count": 35,
   "metadata": {},
   "outputs": [
    {
     "name": "stdout",
     "output_type": "stream",
     "text": [
      "아이디를 입력하세요 : a\n",
      "레벨을 입력하세요 : 9\n",
      "컨텐츠 이용 불가\n"
     ]
    }
   ],
   "source": [
    "identify = input('아이디를 입력하세요 : ')\n",
    "\n",
    "if identify == 'admin':\n",
    "    print('모든 컨텐츠 이용가능')\n",
    "else :\n",
    "    level = int(input('레벨을 입력하세요 : '))\n",
    "    if 1 < level < 8 :\n",
    "        print('일부 컨텐츠 이용 가능')\n",
    "    else :\n",
    "        print('컨텐츠 이용 불가')"
   ]
  },
  {
   "cell_type": "code",
   "execution_count": 41,
   "metadata": {},
   "outputs": [
    {
     "name": "stdout",
     "output_type": "stream",
     "text": [
      "나이를 입력하세요 : 65\n",
      "입장료는 0원 입니다.\n"
     ]
    }
   ],
   "source": [
    "age = int(input('나이를 입력하세요 : '))\n",
    "price = 2000\n",
    "if age <= 10:\n",
    "    price = 1000\n",
    "elif age >= 65:\n",
    "    price = 0\n",
    "print('입장료는 %d원 입니다.' %price)"
   ]
  },
  {
   "cell_type": "code",
   "execution_count": 44,
   "metadata": {},
   "outputs": [
    {
     "name": "stdout",
     "output_type": "stream",
     "text": [
      "영어시험 점수를 입력하세요 : 85\n",
      "수학시험 점수를 입력하세요 : 75\n",
      "재시험 기회 제공\n"
     ]
    }
   ],
   "source": [
    "eng = int(input('영어시험 점수를 입력하세요 : '))\n",
    "math = int(input('수학시험 점수를 입력하세요 : '))\n",
    "if eng >= 80 and math >= 80:\n",
    "    print('합격')\n",
    "elif eng >= 80 or math >= 80:\n",
    "    print('재시험 기회 제공')\n",
    "else :\n",
    "    print('불합격')"
   ]
  },
  {
   "cell_type": "code",
   "execution_count": 47,
   "metadata": {},
   "outputs": [
    {
     "name": "stdout",
     "output_type": "stream",
     "text": [
      "* * * * * * * * * * \n",
      "\n",
      "* * * * * * * * * * \n",
      "\n",
      "* * * * * * * * * * \n",
      "\n",
      "* * * * * * * * * * \n",
      "\n",
      "* * * * * * * * * * \n",
      "\n"
     ]
    }
   ],
   "source": [
    "for i in range (0,5):\n",
    "    for j in range(0,10):\n",
    "        print('*',end=' ')\n",
    "    print()\n",
    "    print()"
   ]
  },
  {
   "cell_type": "code",
   "execution_count": 58,
   "metadata": {},
   "outputs": [
    {
     "name": "stdout",
     "output_type": "stream",
     "text": [
      "* * * * * * * * * * \n",
      "\n",
      "* * * * * * * * * * \n",
      "\n",
      "* * * * * * * * * * \n",
      "\n",
      "* * * * * * * * * * \n",
      "\n",
      "* * * * * * * * * * \n",
      "\n"
     ]
    }
   ],
   "source": [
    "i = 0\n",
    "j = 0\n",
    "while i < 5 :\n",
    "    while j < 10 :\n",
    "        print('*',end=' ')\n",
    "        j += 1\n",
    "    print()\n",
    "    print()\n",
    "    i+=1\n",
    "    j=0"
   ]
  },
  {
   "cell_type": "code",
   "execution_count": 67,
   "metadata": {},
   "outputs": [
    {
     "name": "stdout",
     "output_type": "stream",
     "text": [
      "666666\n",
      "55555\n",
      "4444\n",
      "333\n",
      "22\n",
      "1\n"
     ]
    }
   ],
   "source": [
    "for i in range(6,0,-1):\n",
    "    for j in range(0,i):\n",
    "        print(i,end='')\n",
    "        \n",
    "    print()"
   ]
  },
  {
   "cell_type": "code",
   "execution_count": 78,
   "metadata": {},
   "outputs": [
    {
     "name": "stdout",
     "output_type": "stream",
     "text": [
      "0\n",
      "01\n",
      "012\n",
      "0123\n",
      "01234\n",
      "012345\n"
     ]
    }
   ],
   "source": [
    "for i in range(0,6):\n",
    "    for j in range(0,i+1):\n",
    "        print('%01d'%j,end='')\n",
    "#         print(i,j)\n",
    "    print()"
   ]
  },
  {
   "cell_type": "code",
   "execution_count": 82,
   "metadata": {},
   "outputs": [
    {
     "name": "stdout",
     "output_type": "stream",
     "text": [
      "* * * * * * * * \n",
      "\n",
      "*             * \n",
      "\n",
      "*             * \n",
      "\n",
      "*             * \n",
      "\n",
      "*             * \n",
      "\n",
      "*             * \n",
      "\n",
      "*             * \n",
      "\n",
      "* * * * * * * * \n",
      "\n"
     ]
    }
   ],
   "source": [
    "for i in range (0,8):\n",
    "    for j in range(0,8):\n",
    "        if 0 < i < 7 :\n",
    "            if j == 0 or j == 7:\n",
    "                print('*',end =' ')\n",
    "            else :\n",
    "                print(' ',end = ' ')\n",
    "        else :\n",
    "            print('*',end=' ')\n",
    "    print()\n",
    "    print()"
   ]
  },
  {
   "cell_type": "code",
   "execution_count": 94,
   "metadata": {},
   "outputs": [
    {
     "name": "stdout",
     "output_type": "stream",
     "text": [
      "1 + 3 + 5 + 7 + 9 + 11 + 13 + 15 + 17 + 19 + 21 + 23 + 25 + 27 + 29 + 31 + 33 + 35 + 37 + 39 + 41 + 43 + 45 + 47 + 49 + 51 + 53 + 55 + 57 + 59 + 61 + 63 + 65 + 67 + 69 + 71 + 73 + 75 + 77 + 79 + 81 + 83 + 85 + 87 + 89 + 91 + 93 + 95 + 97 + 99 +  = 2500\n"
     ]
    }
   ],
   "source": [
    "sum = 0\n",
    "for i in range(1,100,2):\n",
    "    sum += i\n",
    "    print(i,'+ ',end='')\n",
    "print(' = %d'%sum)"
   ]
  },
  {
   "cell_type": "code",
   "execution_count": 99,
   "metadata": {},
   "outputs": [
    {
     "name": "stdout",
     "output_type": "stream",
     "text": [
      "N의 값을 입력하세요 : 12\n",
      "N의 값 : 12\n",
      "합계 : 15524694038166164674661959842\n"
     ]
    }
   ],
   "source": [
    "N = int(input('N의 값을 입력하세요 : '))\n",
    "sum = 0\n",
    "print('N의 값 : %d' %N)\n",
    "for i in range(1,N):\n",
    "    sum += (2*i)**((2*i)-1)\n",
    "print('합계 : %d'%sum)"
   ]
  },
  {
   "cell_type": "code",
   "execution_count": 130,
   "metadata": {},
   "outputs": [
    {
     "name": "stdout",
     "output_type": "stream",
     "text": [
      "N의 값을 입력하세요 : 10\n",
      "4 2\n",
      "6 2\n",
      "8 2\n",
      "9 3\n",
      "10 2\n"
     ]
    }
   ],
   "source": [
    "N = int(input('N의 값을 입력하세요 : '))\n",
    "for i in range(2,N+1):\n",
    "    for j in range(2,i+1):\n",
    "        if i == j:\n",
    "#             print(i,j)\n",
    "#             print(i,end=' ')\n",
    "            break\n",
    "        elif i%j==0:\n",
    "            break\n",
    "        "
   ]
  },
  {
   "cell_type": "code",
   "execution_count": null,
   "metadata": {},
   "outputs": [],
   "source": []
  },
  {
   "cell_type": "code",
   "execution_count": null,
   "metadata": {},
   "outputs": [],
   "source": []
  }
 ],
 "metadata": {
  "kernelspec": {
   "display_name": "Python 3",
   "language": "python",
   "name": "python3"
  },
  "language_info": {
   "codemirror_mode": {
    "name": "ipython",
    "version": 3
   },
   "file_extension": ".py",
   "mimetype": "text/x-python",
   "name": "python",
   "nbconvert_exporter": "python",
   "pygments_lexer": "ipython3",
   "version": "3.7.6"
  }
 },
 "nbformat": 4,
 "nbformat_minor": 4
}
