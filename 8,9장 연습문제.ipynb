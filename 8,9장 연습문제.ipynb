{
 "cells": [
  {
   "cell_type": "code",
   "execution_count": 2,
   "metadata": {},
   "outputs": [
    {
     "name": "stdout",
     "output_type": "stream",
     "text": [
      "15\n"
     ]
    }
   ],
   "source": [
    "from lib import inc_10\n",
    "\n",
    "print(inc_10(5))"
   ]
  },
  {
   "cell_type": "code",
   "execution_count": 1,
   "metadata": {},
   "outputs": [
    {
     "name": "stdout",
     "output_type": "stream",
     "text": [
      "60\n",
      "66\n",
      "138\n"
     ]
    }
   ],
   "source": [
    "import lib\n",
    "\n",
    "a= lib.mul_20(3)\n",
    "b= a + lib.fact(1,3)\n",
    "c = a+ b + lib.inc_10(2)\n",
    "print(c)"
   ]
  },
  {
   "cell_type": "markdown",
   "metadata": {},
   "source": [
    "# 9. 연습 문제"
   ]
  },
  {
   "cell_type": "markdown",
   "metadata": {},
   "source": [
    "# 1.TestClass1을 만들고, 이 클래스의 속성 strings에 'abcde'를 저장한다. 그리고 strings의 값을 출력하는 프로그램을 만드시오."
   ]
  },
  {
   "cell_type": "code",
   "execution_count": 3,
   "metadata": {},
   "outputs": [
    {
     "name": "stdout",
     "output_type": "stream",
     "text": [
      "abcde\n"
     ]
    }
   ],
   "source": [
    "class TestClass1:\n",
    "    strings = 'abcde'\n",
    "\n",
    "print(TestClass1.strings)"
   ]
  },
  {
   "cell_type": "markdown",
   "metadata": {},
   "source": [
    "# 2. TestClass2를 만든다. 이 클래스의 인스턴스 속성을 name과 email로 한다. '홍길동','test@korea.com'의 값을 가진 객체를 생성한다. 이 객체의 속성을 출력하는 프로그램을 작성하시오."
   ]
  },
  {
   "cell_type": "code",
   "execution_count": 9,
   "metadata": {},
   "outputs": [
    {
     "name": "stdout",
     "output_type": "stream",
     "text": [
      "이름 : 홍길동 \n",
      "이메일 : test@korea.com \n"
     ]
    }
   ],
   "source": [
    "class TestClass2:\n",
    "    def __init__(self,name,email):\n",
    "        self.name = name\n",
    "        self.email = email\n",
    "        \n",
    "        \n",
    "obj = TestClass2('홍길동','test@korea.com')\n",
    "print('이름 : %s \\n이메일 : %s ' %(obj.name,obj.email))"
   ]
  },
  {
   "cell_type": "markdown",
   "metadata": {},
   "source": [
    "# 3. 2번에서 정의한 클래스 내에 printinfo() 메소드를 정의 하여 그 메소드에서 2번의 실행 결과와 동일한 메시지를 출력하는 프로그램을 만드시오."
   ]
  },
  {
   "cell_type": "code",
   "execution_count": 21,
   "metadata": {},
   "outputs": [
    {
     "name": "stdout",
     "output_type": "stream",
     "text": [
      "이름 : 홍길동 \n",
      "이메일 : test@korea.com \n"
     ]
    }
   ],
   "source": [
    "class TestClass2:\n",
    "    def __init__(self,name,email):\n",
    "        self.name = name\n",
    "        self.email = email\n",
    "        \n",
    "    def printifo(self):\n",
    "        print('이름 : %s \\n이메일 : %s ' %(self.name,self.email))\n",
    "        \n",
    "obj = TestClass2('홍길동','test@korea.com')\n",
    "obj.printifo()"
   ]
  },
  {
   "cell_type": "markdown",
   "metadata": {},
   "source": [
    "# 4. 클래스 Member는 name, phone, address를 인스턴스 속성으로 한다. '홍길동', '010-1234-5678','성남시'로 객체를 생성한 다음 인스턴스 속성들을 출력하는 프로그램을 작성하시오."
   ]
  },
  {
   "cell_type": "code",
   "execution_count": 28,
   "metadata": {},
   "outputs": [
    {
     "name": "stdout",
     "output_type": "stream",
     "text": [
      "이름 : 홍길동 \n",
      "전화번호 : 010-1234-5678 \n",
      "주소 : 성남시\n"
     ]
    }
   ],
   "source": [
    "class Member:\n",
    "    def __init__(self,name,phone,address):\n",
    "        self.name = name\n",
    "        self.phone = phone\n",
    "        self.address = address\n",
    "        \n",
    "    def printinfo(self):\n",
    "        print('이름 : %s \\n전화번호 : %s \\n주소 : %s' %(self.name,self.phone,self.address))\n",
    "        \n",
    "obj2 = Member('홍길동', '010-1234-5678','성남시')\n",
    "obj2.printinfo()"
   ]
  },
  {
   "cell_type": "markdown",
   "metadata": {},
   "source": [
    "# 5. 4번 문제에서 다음의 딕셔너리를 클래스 Member의 생성자에 전달하여 인스턴스 속성들을 설정하고 그 값을 출력하는 프로그램을 작성하시오."
   ]
  },
  {
   "cell_type": "code",
   "execution_count": 29,
   "metadata": {},
   "outputs": [],
   "source": [
    "#dict = {name=홍길동,phone=010-1234-5678,address=성남시}"
   ]
  },
  {
   "cell_type": "code",
   "execution_count": 67,
   "metadata": {},
   "outputs": [
    {
     "name": "stdout",
     "output_type": "stream",
     "text": [
      "이름 : 홍길동 \n",
      "전화번호 : 010-1234-5678 \n",
      "주소 : 성남시\n"
     ]
    }
   ],
   "source": [
    "dict = {'name' :'홍길동','phone' :'010-1234-5678','address':'성남시'}\n",
    "class Member:\n",
    "    def __init__(self,info):\n",
    "        self.name = info['name']\n",
    "        self.phone = info['phone']\n",
    "        self.address = info['address']\n",
    "        \n",
    "    def printinfo(self):\n",
    "        print('이름 : %s \\n전화번호 : %s \\n주소 : %s' %(self.name,self.phone,self.address))\n",
    "\n",
    "obj3 = Member(a)\n",
    "obj3.printinfo()"
   ]
  },
  {
   "cell_type": "markdown",
   "metadata": {},
   "source": [
    "# 6. 다음읜 객체지향 방식으로 책과 전자책의 저자, 출판사, 책 유형 등의 정보를 관리하기 위한 예제 프로그램이다. 프로그램중에 오류가 세 군데 있다. 오류가 발생된 행을 명시하고 오류의 이유를 설명하시오."
   ]
  },
  {
   "cell_type": "code",
   "execution_count": 68,
   "metadata": {},
   "outputs": [
    {
     "name": "stdout",
     "output_type": "stream",
     "text": [
      "저자 : 홍길동\n",
      "출판사 : 지구출판사\n",
      "유형 : PDF\n"
     ]
    }
   ],
   "source": [
    "class Book:\n",
    "    def __init__(self,author,publish):\n",
    "        self.author = author\n",
    "        self.publish = publish\n",
    "        \n",
    "    def getAuthorInfo(self):\n",
    "        string = '저자 : %s' %self.author\n",
    "        return string\n",
    "    \n",
    "    def getPublishInfo(self):\n",
    "        string = '출판사 : %s' %self.publish\n",
    "        return string\n",
    "    \n",
    "class Ebook(Book):\n",
    "    def __init__(self,author,publish,type):\n",
    "        super().__init__(author,publish)\n",
    "        self.type = type\n",
    "        \n",
    "    def getTypeInfo(self):\n",
    "        string = '유형 : %s' %self.type\n",
    "        return string\n",
    "    \n",
    "book1 = Ebook('홍길동','지구출판사','PDF')\n",
    "\n",
    "print(book1.getAuthorInfo())\n",
    "print(book1.getPublishInfo())\n",
    "print(book1.getTypeInfo())\n",
    "\n",
    "        "
   ]
  },
  {
   "cell_type": "code",
   "execution_count": 74,
   "metadata": {},
   "outputs": [
    {
     "name": "stdout",
     "output_type": "stream",
     "text": [
      "저자 : 홍길동\n",
      "출판사 : 지구출판사\n",
      "유형 : PDF\n"
     ]
    }
   ],
   "source": [
    "class Book:\n",
    "    def __init__(self,author,publish):\n",
    "        self.author = author\n",
    "        self.publish = publish\n",
    "        \n",
    "    def getAuthorInfo(self):\n",
    "        string = '저자 : %s' %self.author\n",
    "        return string\n",
    "    \n",
    "    def getPublishInfo(self):\n",
    "        string = '출판사 : %s' %self.publish\n",
    "        return string\n",
    "    \n",
    "class Ebook(Book):\n",
    "    def __init__(self,author,publish,type):\n",
    "        super().__init__(author,publish)\n",
    "        self.type = type\n",
    "        \n",
    "    def getTypeInfo(self):\n",
    "        string = '유형 : %s' %self.type\n",
    "        return string\n",
    "    \n",
    "book1 = Ebook('홍길동','지구출판사','PDF')\n",
    "\n",
    "print(book1.getAuthorInfo())\n",
    "print(book1.getPublishInfo())\n",
    "print(book1.getTypeInfo())\n"
   ]
  },
  {
   "cell_type": "code",
   "execution_count": null,
   "metadata": {},
   "outputs": [],
   "source": []
  }
 ],
 "metadata": {
  "kernelspec": {
   "display_name": "Python 3",
   "language": "python",
   "name": "python3"
  },
  "language_info": {
   "codemirror_mode": {
    "name": "ipython",
    "version": 3
   },
   "file_extension": ".py",
   "mimetype": "text/x-python",
   "name": "python",
   "nbconvert_exporter": "python",
   "pygments_lexer": "ipython3",
   "version": "3.7.6"
  }
 },
 "nbformat": 4,
 "nbformat_minor": 4
}
