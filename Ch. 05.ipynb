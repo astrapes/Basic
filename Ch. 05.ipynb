{
 "cells": [
  {
   "cell_type": "markdown",
   "metadata": {},
   "source": [
    "# Chapter 05. List"
   ]
  },
  {
   "cell_type": "code",
   "execution_count": 7,
   "metadata": {},
   "outputs": [
    {
     "name": "stdout",
     "output_type": "stream",
     "text": [
      "['사과', '오렌지', '딸기', '포도', '감', '키위', '멜론', '수박']\n",
      "[5, 10.2, '탁구', True, [4, 5, 6]]\n",
      "[1, 3, 5, 7, 9]\n",
      "\n",
      "사과\n",
      "['오렌지', '딸기', '포도']\n",
      "['딸기', '포도', '감', '키위', '멜론', '수박']\n",
      "수박\n",
      "['수박']\n",
      "['감', '키위']\n",
      "['키위', '멜론', '수박']\n"
     ]
    }
   ],
   "source": [
    "#예제 5-1\n",
    "fruits = ['사과','오렌지','딸기','포도','감','키위','멜론','수박']\n",
    "list1=[5, 10.2, '탁구',True,[4,5,6]]\n",
    "numbers = list(range(1,10,2))\n",
    "\n",
    "print(fruits)\n",
    "print(list1)\n",
    "print(numbers)\n",
    "\n",
    "print()\n",
    "\n",
    "print(fruits[0])\n",
    "print(fruits[1:4])\n",
    "print(fruits[2:])\n",
    "print(fruits[-1])     #타입이 str\n",
    "print(fruits[-1:])    #타입이 list\n",
    "print(fruits[-4:-2])\n",
    "print(fruits[-3:])"
   ]
  },
  {
   "cell_type": "code",
   "execution_count": 1,
   "metadata": {},
   "outputs": [
    {
     "name": "stdout",
     "output_type": "stream",
     "text": [
      "['red', 'green', 'blue', 'yellow']\n",
      "['red', 'black', 'green', 'blue', 'yellow']\n",
      "['red', 'black', 'green', 'blue', 'yellow', 'purple', 'white']\n",
      "['red', 'black', 'green', 'blue', 'yellow', 'purple', 'white', 'purple', 'white']\n"
     ]
    }
   ],
   "source": [
    "#예제 5-2\n",
    "\n",
    "a=['red','green','blue']\n",
    "a.append('yellow')\n",
    "print(a)\n",
    "\n",
    "a.insert(1,'black')\n",
    "print(a)\n",
    "\n",
    "b=['purple','white']\n",
    "a.extend(b)\n",
    "print(a)\n",
    "\n",
    "c=a+b\n",
    "print(c)"
   ]
  },
  {
   "cell_type": "code",
   "execution_count": 5,
   "metadata": {},
   "outputs": [
    {
     "name": "stdout",
     "output_type": "stream",
     "text": [
      "2\n",
      "[10, 20, 40, 50, 60, 70, 80, 90, 100]\n",
      "[10, 20, 40, 50, 60, 70, 80, 100]\n",
      "[]\n"
     ]
    }
   ],
   "source": [
    "#예제 5-3\n",
    "\n",
    "a= list(range(10,101,10))\n",
    "x= a.index(30)\n",
    "print(x)\n",
    "\n",
    "a.pop(x)\n",
    "print(a)\n",
    "\n",
    "a.remove(90)\n",
    "print(a)\n",
    "\n",
    "a.clear()\n",
    "print(a)"
   ]
  },
  {
   "cell_type": "code",
   "execution_count": 14,
   "metadata": {},
   "outputs": [
    {
     "name": "stdout",
     "output_type": "stream",
     "text": [
      "3\n",
      "12\n"
     ]
    }
   ],
   "source": [
    "#예제 5-4\n",
    "list1 = ['a','bb','c','d','aaa','c','ddd','aaa','b','cc','d','aaa',]\n",
    "length = list1.count('aaa')\n",
    "length1=len(list1)\n",
    "print(length)\n",
    "print(length1)"
   ]
  },
  {
   "cell_type": "code",
   "execution_count": 15,
   "metadata": {},
   "outputs": [
    {
     "name": "stdout",
     "output_type": "stream",
     "text": [
      "[-7, 1, 3, 5, 8, 9, 11, 13]\n",
      "[13, 11, 9, 8, 5, 3, 1, -7]\n"
     ]
    }
   ],
   "source": [
    "#예제 5-5\n",
    "list2 = [-7,1,5,8,3,9,11,13]\n",
    "list2.sort()\n",
    "print(list2)\n",
    "\n",
    "list2.sort(reverse=True)\n",
    "print(list2)"
   ]
  },
  {
   "cell_type": "code",
   "execution_count": 17,
   "metadata": {},
   "outputs": [
    {
     "name": "stdout",
     "output_type": "stream",
     "text": [
      "red\n",
      "white\n",
      "['green', 'blue', 'black']\n"
     ]
    }
   ],
   "source": [
    "#Q5-1\n",
    "\n",
    "color=['red','green','blue','black','white']\n",
    "\n",
    "print(color[0])\n",
    "print(color[-1])\n",
    "print(color[1:4])"
   ]
  },
  {
   "cell_type": "code",
   "execution_count": 18,
   "metadata": {},
   "outputs": [
    {
     "name": "stdout",
     "output_type": "stream",
     "text": [
      "[1, 3, 5, 7, 9, 11, 13, 15, 17, 19]\n"
     ]
    }
   ],
   "source": [
    "#Q5-2\n",
    "num = list(range(1,20,2))\n",
    "print(num)"
   ]
  },
  {
   "cell_type": "code",
   "execution_count": 19,
   "metadata": {},
   "outputs": [
    {
     "name": "stdout",
     "output_type": "stream",
     "text": [
      "사과\n",
      "바나나\n",
      "파인애플\n",
      "배\n",
      "키위\n"
     ]
    }
   ],
   "source": [
    "mylist = ['사과','바나나','파인애플','배']\n",
    "mylist.append('키위')\n",
    "\n",
    "for a in mylist:\n",
    "    print(a)"
   ]
  },
  {
   "cell_type": "code",
   "execution_count": 21,
   "metadata": {},
   "outputs": [
    {
     "name": "stdout",
     "output_type": "stream",
     "text": [
      "['사과', '파인애플', '포도', '오렌지', '배']\n"
     ]
    }
   ],
   "source": [
    "#Q5-4\n",
    "mylist = ['사과','바나나','파인애플','포도','오렌지','배']\n",
    "\n",
    "mylist.remove('바나나')\n",
    "print(mylist)"
   ]
  },
  {
   "cell_type": "code",
   "execution_count": 22,
   "metadata": {},
   "outputs": [
    {
     "name": "stdout",
     "output_type": "stream",
     "text": [
      "[10, 20, [33, 35], 40, 50]\n"
     ]
    }
   ],
   "source": [
    "b=[10,20,30,40,50]\n",
    "b[2]=[33,35]\n",
    "print(b)"
   ]
  },
  {
   "cell_type": "code",
   "execution_count": 23,
   "metadata": {},
   "outputs": [
    {
     "name": "stdout",
     "output_type": "stream",
     "text": [
      "[10, 20, 33, 35, 40, 50]\n"
     ]
    }
   ],
   "source": [
    "b=[10,20,30,40,50]\n",
    "b[2:3]=[33,35]\n",
    "print(b)"
   ]
  },
  {
   "cell_type": "code",
   "execution_count": 24,
   "metadata": {},
   "outputs": [
    {
     "name": "stdout",
     "output_type": "stream",
     "text": [
      "['kim', 24, 'kim@naver.com', 'lee', 35, 'lee@hanmail.net']\n"
     ]
    }
   ],
   "source": [
    "#Q5-5\n",
    "person1=['kim',24,'kim@naver.com']\n",
    "person2=['lee',35,'lee@hanmail.net']\n",
    "\n",
    "person = person1 + person2\n",
    "print(person)"
   ]
  },
  {
   "cell_type": "code",
   "execution_count": 25,
   "metadata": {},
   "outputs": [
    {
     "name": "stdout",
     "output_type": "stream",
     "text": [
      "apple\n",
      "orange\n",
      "banana\n"
     ]
    }
   ],
   "source": [
    "#예제 5-6\n",
    "fruits = ['apple','orange','banana']\n",
    "\n",
    "for fruit in fruits :\n",
    "    print(fruit)"
   ]
  },
  {
   "cell_type": "code",
   "execution_count": 27,
   "metadata": {},
   "outputs": [
    {
     "name": "stdout",
     "output_type": "stream",
     "text": [
      "총점 : 666, 평균 : 83.25\n"
     ]
    }
   ],
   "source": [
    "#예제 5-7\n",
    "scores=[88,75,90,95,77,69,80,92]\n",
    "\n",
    "sum = 0\n",
    "for score in scores :\n",
    "    sum+=score\n",
    "avg=sum/8\n",
    "    \n",
    "print('총점 : %d, 평균 : %.2f' %(sum,avg) )"
   ]
  },
  {
   "cell_type": "code",
   "execution_count": 28,
   "metadata": {},
   "outputs": [
    {
     "name": "stdout",
     "output_type": "stream",
     "text": [
      "토끼\n",
      "거북이\n",
      "사자\n",
      "호랑이\n"
     ]
    }
   ],
   "source": [
    "#예제 5-8\n",
    "animals = ['토끼','거북이','사자','호랑이']\n",
    "\n",
    "i=0\n",
    "\n",
    "while i < len(animals) :\n",
    "    print(animals[i])\n",
    "    i+=1"
   ]
  },
  {
   "cell_type": "code",
   "execution_count": 31,
   "metadata": {},
   "outputs": [
    {
     "name": "stdout",
     "output_type": "stream",
     "text": [
      "수 : 3명\n",
      "우 : 6명\n",
      "미 : 3명\n",
      "양 : 4명\n",
      "가 : 4명\n"
     ]
    }
   ],
   "source": [
    "#Q5-6\n",
    "\n",
    "s= [64,89,100,85,77,58,79,67,96,87,87,36,82,98,84,76,63,69,53,22]\n",
    "count_su = 0\n",
    "count_woo =0\n",
    "count_mi = 0\n",
    "count_yang = 0\n",
    "count_ga=0\n",
    "\n",
    "i=0\n",
    "\n",
    "while i < len(s):\n",
    "    if s[i] >= 90 and s[i] <= 100 :\n",
    "        count_su += 1\n",
    "    elif s[i] >= 80 and s[i] <= 89 :\n",
    "        count_woo += 1\n",
    "    elif s[i] >= 70 and s[i] <= 79 :\n",
    "        count_mi += 1\n",
    "    elif s[i] >= 60 and s[i] <= 69 :\n",
    "        count_yang += 1\n",
    "    else :\n",
    "        count_ga += 1\n",
    "    i+=1\n",
    "print('수 : %d명' %(count_su) )\n",
    "print('우 : %d명' %count_woo )\n",
    "print('미 : %d명' %count_mi )\n",
    "print('양 : %d명' %count_yang )\n",
    "print('가 : %d명' %count_ga )"
   ]
  },
  {
   "cell_type": "code",
   "execution_count": 35,
   "metadata": {},
   "outputs": [
    {
     "name": "stdout",
     "output_type": "stream",
     "text": [
      "1번 째 학생의 합계 : 260, 평균 : 86.67\n",
      "2번 째 학생의 합계 : 258, 평균 : 86.00\n",
      "3번 째 학생의 합계 : 254, 평균 : 84.67\n",
      "4번 째 학생의 합계 : 254, 평균 : 84.67\n",
      "5번 째 학생의 합계 : 257, 평균 : 85.67\n",
      "6번 째 학생의 합계 : 236, 평균 : 78.67\n",
      "7번 째 학생의 합계 : 248, 평균 : 82.67\n",
      "8번 째 학생의 합계 : 258, 평균 : 86.00\n"
     ]
    }
   ],
   "source": [
    "#예제 5-10\n",
    "scores = [[96,84,80],[96,86,76],[76,95,83],[89,96,69],[90,76,91],[82,66,88],[83,86,79],[85,90,83]]\n",
    "\n",
    "for i in range(len(scores)):\n",
    "    sum = 0\n",
    "    for j in range(len(scores[i])):\n",
    "        sum += scores[i][j]\n",
    "    avg = sum/len(scores[i])\n",
    "    \n",
    "    print('%d번 째 학생의 합계 : %d, 평균 : %.2f'\\%(i+1,sum,avg))"
   ]
  },
  {
   "cell_type": "code",
   "execution_count": 38,
   "metadata": {},
   "outputs": [
    {
     "ename": "SyntaxError",
     "evalue": "unexpected character after line continuation character (<ipython-input-38-dbad66188cf6>, line 10)",
     "output_type": "error",
     "traceback": [
      "\u001b[1;36m  File \u001b[1;32m\"<ipython-input-38-dbad66188cf6>\"\u001b[1;36m, line \u001b[1;32m10\u001b[0m\n\u001b[1;33m    print('%d번 째 학생의 합계 : %d, 평균 : %.2f'\\%(x,sum,avg))\u001b[0m\n\u001b[1;37m                                                      ^\u001b[0m\n\u001b[1;31mSyntaxError\u001b[0m\u001b[1;31m:\u001b[0m unexpected character after line continuation character\n"
     ]
    }
   ],
   "source": [
    "#예제 5-10\n",
    "scores = [[96,84,80],[96,86,76],[76,95,83],[89,96,69],[90,76,91],[82,66,88],[83,86,79],[85,90,83]]\n",
    "\n",
    "for score in scores:\n",
    "    sum = 0\n",
    "    for x in score :\n",
    "        sum += x\n",
    "    avg = sum/len(score)\n",
    "    \n",
    "    print('%d번 째 학생의 합계 : %d, 평균 : %.2f'\\%(x,sum,avg))"
   ]
  },
  {
   "cell_type": "code",
   "execution_count": 45,
   "metadata": {},
   "outputs": [
    {
     "name": "stdout",
     "output_type": "stream",
     "text": [
      "tr_in에서 밑줄(_)안에 들어갈 알파벳은?a\n",
      "정답입니다.\n",
      "b_s에서 밑줄(_)안에 들어갈 알파벳은?u\n",
      "정답입니다.\n",
      "_axi에서 밑줄(_)안에 들어갈 알파벳은?t\n",
      "정답입니다.\n",
      "air_lane에서 밑줄(_)안에 들어갈 알파벳은?p\n",
      "정답입니다.\n"
     ]
    }
   ],
   "source": [
    "#Q5-7\n",
    "\n",
    "question = ['tr_in','b_s','_axi','air_lane']\n",
    "answer = ['a','u','t','p']\n",
    "\n",
    "for i in range(0,len(question)):\n",
    "    q = '%s에서 밑줄(_)안에 들어갈 알파벳은?' %question[i]\n",
    "    ans = input(q)\n",
    "    \n",
    "    if ans == answer[i]:\n",
    "        print('정답입니다.')\n",
    "    else:\n",
    "        print('틀렸습니다.')"
   ]
  },
  {
   "cell_type": "code",
   "execution_count": 51,
   "metadata": {},
   "outputs": [
    {
     "name": "stdout",
     "output_type": "stream",
     "text": [
      "1번 째 학생의 합계 : 260, 평균 : 86.67\n",
      "2번 째 학생의 합계 : 258, 평균 : 86.00\n",
      "3번 째 학생의 합계 : 254, 평균 : 84.67\n",
      "4번 째 학생의 합계 : 254, 평균 : 84.67\n",
      "5번 째 학생의 합계 : 257, 평균 : 85.67\n",
      "6번 째 학생의 합계 : 236, 평균 : 78.67\n",
      "7번 째 학생의 합계 : 248, 평균 : 82.67\n",
      "8번 째 학생의 합계 : 258, 평균 : 86.00\n"
     ]
    }
   ],
   "source": [
    "scores = [[96,84,80],[96,86,76],[76,95,83],[89,96,69],[90,76,91],[82,66,88],[83,86,79],[85,90,83]]\n",
    "\n",
    "i=0\n",
    "while i < len(scores):\n",
    "    sum = 0\n",
    "    j = 0\n",
    "    while j < len(scores[i]):\n",
    "        sum = sum + scores[i][j]\n",
    "        j += 1\n",
    "    avg = sum/len(scores[i])\n",
    "    \n",
    "    print('%d번 째 학생의 합계 : %d, 평균 : %.2f'%(i+1,sum,+avg))\n",
    "    i+=1"
   ]
  },
  {
   "cell_type": "code",
   "execution_count": 52,
   "metadata": {},
   "outputs": [
    {
     "name": "stdout",
     "output_type": "stream",
     "text": [
      "성적을 입력하세요(종료시 -1 입력) :75\n",
      "성적을 입력하세요(종료시 -1 입력) :83\n",
      "성적을 입력하세요(종료시 -1 입력) :88\n",
      "성적을 입력하세요(종료시 -1 입력) :93\n",
      "성적을 입력하세요(종료시 -1 입력) :97\n",
      "성적을 입력하세요(종료시 -1 입력) :-1\n",
      "합계 436, 평균 : 87.20\n"
     ]
    }
   ],
   "source": [
    "#Q5-9\n",
    "scores =[]\n",
    "while True :\n",
    "    score = int(input('성적을 입력하세요(종료시 -1 입력) :'))\n",
    "    \n",
    "    if score == -1:\n",
    "        break\n",
    "    else :\n",
    "        scores.append(score)\n",
    "        \n",
    "    sum = 0\n",
    "    for i in range(0,len(scores)):\n",
    "        sum += scores[i]\n",
    "        \n",
    "    avg = sum/len(scores)\n",
    "print('합계 %d, 평균 : %.2f' %(sum,avg))"
   ]
  },
  {
   "cell_type": "code",
   "execution_count": 56,
   "metadata": {},
   "outputs": [
    {
     "name": "stdout",
     "output_type": "stream",
     "text": [
      "  □  □  □  □  □  □  □  □  □  □\n",
      "  □  □  □  □  □  □  □  □  □  □\n",
      "  □  □  □  □  □  □  □  □  □  □\n",
      "  ■  ■  ■  □  □  □  □  □  ■  □\n",
      "  □  □  □  □  □  ■  □  □  □  □\n",
      "  □  ■  □  □  □  ■  □  ■  □  □\n",
      "  □  □  □  □  □  □  ■  □  □  □\n",
      "  ■  □  ■  □  □  □  □  □  □  ■\n",
      "\n",
      " 예약 가능 : ■, 예약 불가 : □\n"
     ]
    }
   ],
   "source": [
    "#Q5-10\n",
    "seats = [[0,0,0,0,0,0,0,0,0,0],\\\n",
    "        [0,0,0,0,0,0,0,0,0,0],\\\n",
    "        [0,0,0,0,0,0,0,0,0,0],\\\n",
    "        [1,1,1,0,0,0,0,0,1,0],\\\n",
    "        [0,0,0,0,0,1,0,0,0,0],\\\n",
    "        [0,1,0,0,0,1,0,1,0,0],\\\n",
    "        [0,0,0,0,0,0,1,0,0,0],\\\n",
    "        [1,0,1,0,0,0,0,0,0,1]]\n",
    "\n",
    "for i in range(len(seats)):\n",
    "    for j in range(len(seats[i])):\n",
    "        if seats[i][j] == 0:\n",
    "            print('%3s' %'□',end = '')\n",
    "        else:\n",
    "            print('%3s' %'■',end = '')\n",
    "    print()\n",
    "print('\\n 예약 가능 : ■, 예약 불가 : □')"
   ]
  },
  {
   "cell_type": "markdown",
   "metadata": {},
   "source": [
    "# List 표현식 검색"
   ]
  },
  {
   "cell_type": "code",
   "execution_count": null,
   "metadata": {},
   "outputs": [],
   "source": []
  }
 ],
 "metadata": {
  "kernelspec": {
   "display_name": "Python 3",
   "language": "python",
   "name": "python3"
  },
  "language_info": {
   "codemirror_mode": {
    "name": "ipython",
    "version": 3
   },
   "file_extension": ".py",
   "mimetype": "text/x-python",
   "name": "python",
   "nbconvert_exporter": "python",
   "pygments_lexer": "ipython3",
   "version": "3.7.6"
  }
 },
 "nbformat": 4,
 "nbformat_minor": 4
}
