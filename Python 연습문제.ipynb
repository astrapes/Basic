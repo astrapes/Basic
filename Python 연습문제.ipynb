{
 "cells": [
  {
   "cell_type": "markdown",
   "metadata": {},
   "source": [
    "# 1.조건문"
   ]
  },
  {
   "cell_type": "markdown",
   "metadata": {},
   "source": [
    "## 1. 연도를 입력으로 받아 윤년인지 아닌지를 출력하는 프로그램을 작성하시오. 윤년은 연도가 4의 배수이면서, 100의 배수가 아닐 때 또는 400의 배수일 때이다. 예를들어, 2012년은 4의 배수라서 윤년이지만, 1900년은 4의 배수이지만, 100의 배수이기 때문에 윤년이 아니다. 하지만, 2000년은 400의 배수이기 때문에 윤년이다.)\n"
   ]
  },
  {
   "cell_type": "code",
   "execution_count": 8,
   "metadata": {},
   "outputs": [
    {
     "name": "stdout",
     "output_type": "stream",
     "text": [
      "현재 연도를 입력하세요.1900\n",
      "현재 연도는 윤년이 아닙니다.\n",
      "현재 연도를 입력하세요.2012\n",
      "현재 연도는 윤년입니다.\n"
     ]
    }
   ],
   "source": [
    "stop = False\n",
    "while stop == False:\n",
    "    current_year = int(input('현재 연도를 입력하세요.'))\n",
    "    if (current_year % 4 == 0 and current_year % 100 != 0) or current_year % 400 == 0:\n",
    "        print('현재 연도는 윤년입니다.')\n",
    "        stop = True\n",
    "    else:\n",
    "        print('현재 연도는 윤년이 아닙니다.')"
   ]
  },
  {
   "cell_type": "markdown",
   "metadata": {},
   "source": [
    "## 2. 상근이는 매일 아침 알람을 듣고 일어난다. 알람을 듣고 바로 일어나면 다행이겠지만, 항상 조금만 더 자려는 마음 때문에 매일 학교를 지각하고 있다. 상근이는 모든 방법을 동원해보았지만, 조금만 더 자려는 마음은 그 어떤 것도 없앨 수가 없었다. 이런 상근이를 불쌍하게 보던, 창영이는 자신이 사용하는 방법을 추천해 주었다.바로 \"45분 일찍 알람 맞추기\"이다.이 방법은 단순하다. 원래 맞춰져 있는 알람을 45분 앞서는 시간으로 바꾸는 것이다. 어차피 알람 소리를 들으면, 알람을 끄고 조금 더 잘 것이기 때문이다. 이 방법을 사용하면, 매일 아침 더 잤다는 기분을 느낄 수 있고, 학교도 지각하지 않게 된다.현재 상근이가 맞춰논 알람 시각을 입력으로 받아(시와 분) 창영이의 방법을 사용한다면, 이를 언제로 고쳐야 하는지 구하는 프로그램을 작성하시오."
   ]
  },
  {
   "cell_type": "code",
   "execution_count": 19,
   "metadata": {},
   "outputs": [
    {
     "name": "stdout",
     "output_type": "stream",
     "text": [
      "알람 시간을 입력하세요 : 1 , 0\n",
      "알람 시간은 0 시 15 분입니다.\n"
     ]
    }
   ],
   "source": [
    "alarm_h,alarm_m = map(int, input('알람 시간을 입력하세요 : ').split(','))\n",
    "\n",
    "if alarm_m >= 45 :\n",
    "    alarm_m -= 45\n",
    "else :\n",
    "    alarm_h -= 1\n",
    "    alarm_m += 15\n",
    "    \n",
    "print('알람 시간은 %d 시 %d 분입니다.' %(alarm_h,alarm_m))"
   ]
  },
  {
   "cell_type": "markdown",
   "metadata": {},
   "source": [
    "## 3. 세 정수 a, b, c를 입력으로 받아 두 번째로 큰 정수를 출력하는 프로그램을 작성하시오!."
   ]
  },
  {
   "cell_type": "code",
   "execution_count": 22,
   "metadata": {},
   "outputs": [
    {
     "name": "stdout",
     "output_type": "stream",
     "text": [
      "정수 세개를 입력하세요 : 5 9 1\n",
      "두 번째로 큰 정수는 5입니다.\n"
     ]
    }
   ],
   "source": [
    "a,b,c = map(int, input('정수 세개를 입력하세요 : ').split())\n",
    "\n",
    "if a > b > c or c > b > a :\n",
    "    mid = b\n",
    "elif b > a > c or c > a > b :\n",
    "    mid = a\n",
    "else :\n",
    "    mid = c\n",
    "\n",
    "print('두 번째로 큰 정수는 %d입니다.'%mid)"
   ]
  },
  {
   "cell_type": "markdown",
   "metadata": {},
   "source": [
    "# 4. 세 자연수 a, b, c 가 피타고라스 정리 a2 + b2 = c2 를 만족하면 피타고라스 수라고 부른다.  (여기서 a < b < c 이고 a + b > c) 예를 들면, 32 + 42 = 9 + 16 = 25 = 52 이므로 3, 4, 5는 피타고라스 수입니다.   a + b + c = 1000 인 피타고라스 수를 구하시오. (답은 한가지 뿐이다.)"
   ]
  },
  {
   "cell_type": "code",
   "execution_count": 83,
   "metadata": {},
   "outputs": [
    {
     "name": "stdout",
     "output_type": "stream",
     "text": [
      "200 375 425\n"
     ]
    }
   ],
   "source": [
    "for c in range(3,500):\n",
    "    for b in range(2,c):\n",
    "        for a in range(1,b):\n",
    "            if (a**2 + b**2 == c**2) and (a < b < c) and (a + b > c) and (a + b + c == 1000):\n",
    "                print(a,b,c)\n",
    "                break"
   ]
  },
  {
   "cell_type": "code",
   "execution_count": 29,
   "metadata": {},
   "outputs": [
    {
     "name": "stdout",
     "output_type": "stream",
     "text": [
      "200 375 425\n"
     ]
    }
   ],
   "source": [
    "for a in range(1,1000):\n",
    "    for b in range(a+1,1000):\n",
    "        c= 1000 - a - b\n",
    "        if c < b:\n",
    "            break\n",
    "        if (a**2 + b**2 == c**2) and (a < b < c) and (a + b > c) and (a + b + c == 1000):\n",
    "                print(a,b,c)\n",
    "                break"
   ]
  },
  {
   "cell_type": "code",
   "execution_count": 27,
   "metadata": {},
   "outputs": [
    {
     "name": "stdout",
     "output_type": "stream",
     "text": [
      "200 375 425 1000\n",
      "40000 140625 180625\n"
     ]
    }
   ],
   "source": [
    "outer_break = False\n",
    "for a in range(1,333):\n",
    "    if outer_break:\n",
    "        break\n",
    "    for b in range(a+1,500):\n",
    "        c = 1000 - a - b\n",
    "        if c < b:\n",
    "            continue\n",
    "        if a**2 + b**2 == c**2:\n",
    "            print(a,b,c,a+b+c)\n",
    "            print(a**2,b**2,c**2)\n",
    "            outer_break = True\n",
    "            break"
   ]
  },
  {
   "cell_type": "markdown",
   "metadata": {},
   "source": [
    "# 1. 반복문"
   ]
  },
  {
   "cell_type": "markdown",
   "metadata": {},
   "source": [
    "## 두 정수 A와 B를 입력받은 다음, A+B를 출력하는 프로그램을 작성하시오. 입력: 첫째 줄에 테스트 케이스의 개수 T를 입력받는다. 각 테스트 케이스는 한 줄로 이루어져 있으며, 각 줄에 A와 B가 주어진다. (0 < A, B < 10) 출력: 각 테스트 케이스마다 \"Case #x: A + B = C\" 형식으로 출력한다. x는 테스트 케이스 번호이고 1부터 시작하며, C는 A+B이다."
   ]
  },
  {
   "cell_type": "code",
   "execution_count": 42,
   "metadata": {},
   "outputs": [
    {
     "name": "stdout",
     "output_type": "stream",
     "text": [
      "테스트 케이스의 개수를 입력하세요 : 10\n",
      "정수 두 개를 입력하세요 : 5 4\n",
      "Case 1x: 5 + 4 = 9\n",
      "Case 2x: 5 + 4 = 9\n",
      "Case 3x: 5 + 4 = 9\n",
      "Case 4x: 5 + 4 = 9\n",
      "Case 5x: 5 + 4 = 9\n",
      "Case 6x: 5 + 4 = 9\n",
      "Case 7x: 5 + 4 = 9\n",
      "Case 8x: 5 + 4 = 9\n",
      "Case 9x: 5 + 4 = 9\n",
      "Case 10x: 5 + 4 = 9\n"
     ]
    }
   ],
   "source": [
    "T = int(input('테스트 케이스의 개수를 입력하세요 : '))\n",
    "A,B = map(int, input('정수 두 개를 입력하세요 : ').split())\n",
    "if (A <= 0) or (B >= 10):\n",
    "    A,B = map(int, input('다시 입력하세요 : ').split())\n",
    "else:\n",
    "    for i in range(1,T+1):\n",
    "        print('Case %dx: %d + %d = %d' %(i,A,B,A+B))"
   ]
  },
  {
   "cell_type": "code",
   "execution_count": 30,
   "metadata": {},
   "outputs": [
    {
     "ename": "IndentationError",
     "evalue": "expected an indented block (<ipython-input-30-8913dd944858>, line 8)",
     "output_type": "error",
     "traceback": [
      "\u001b[1;36m  File \u001b[1;32m\"<ipython-input-30-8913dd944858>\"\u001b[1;36m, line \u001b[1;32m8\u001b[0m\n\u001b[1;33m    print()\u001b[0m\n\u001b[1;37m        ^\u001b[0m\n\u001b[1;31mIndentationError\u001b[0m\u001b[1;31m:\u001b[0m expected an indented block\n"
     ]
    }
   ],
   "source": [
    "while True:\n",
    "    odd = int(input('5이상 9이하의 홀수를 입력하세요 : '))\n",
    "    if 5 <= odd <= 9:\n",
    "        break\n",
    "        \n",
    "for i in range(0,odd/2 + 1):\n",
    "    for j in range(0,i):\n",
    "    print()"
   ]
  },
  {
   "cell_type": "markdown",
   "metadata": {},
   "source": [
    "# 3. 디지털 시계에 하루동안(00:00-23:59) 3이 표시되는 시간을 초로 환산하면 총 몇 초(second)  일까요? - 디지털 시계는 하루동안 다음과 같이 시:분(00:00-23:59)으로 표시됨."
   ]
  },
  {
   "cell_type": "code",
   "execution_count": 65,
   "metadata": {},
   "outputs": [
    {
     "name": "stdout",
     "output_type": "stream",
     "text": [
      "29700\n"
     ]
    }
   ],
   "source": [
    "count = 0\n",
    "for hour in range(24):\n",
    "    for minute in range(60):\n",
    "        if '3' in str(hour) or '3' in str(minute):\n",
    "            count += 60\n",
    "                    \n",
    "print(count)"
   ]
  },
  {
   "cell_type": "markdown",
   "metadata": {},
   "source": [
    "# 4. 1~1000에서 각 숫자의 개수를 구하시오. - 예로 10 ~ 15 까지의 각 숫자의 개수를 구해보자. 10 = 1, 0 11 = 1, 1 12 = 1, 2 13 = 1, 3 14 = 1, 4 15 = 1, 5"
   ]
  },
  {
   "cell_type": "code",
   "execution_count": 34,
   "metadata": {},
   "outputs": [
    {
     "name": "stdout",
     "output_type": "stream",
     "text": [
      "1\n",
      "2\n",
      "3\n",
      "4\n",
      "5\n",
      "6\n",
      "7\n",
      "8\n",
      "9\n",
      "10\n",
      "10\n",
      "11\n",
      "12\n",
      "12\n",
      "13\n",
      "13\n",
      "14\n",
      "14\n",
      "15\n",
      "15\n",
      "16\n",
      "16\n",
      "17\n",
      "17\n",
      "18\n",
      "18\n",
      "19\n",
      "19\n",
      "20\n",
      "20\n",
      "0의 개수 : 2\n",
      "1의 개수 : 11\n",
      "2의 개수 : 3\n",
      "3의 개수 : 2\n",
      "4의 개수 : 2\n",
      "5의 개수 : 2\n",
      "6의 개수 : 2\n",
      "7의 개수 : 2\n",
      "8의 개수 : 2\n",
      "9의 개수 : 2\n"
     ]
    }
   ],
   "source": [
    "count = [0] * 10\n",
    "for i in range(1,21):\n",
    "    for j in range(0,10):\n",
    "        if str(j) in str(i):\n",
    "            count[j] += 1\n",
    "num = 0\n",
    "for k in count:\n",
    "    print('%d의 개수 : %d' %(num,k))\n",
    "    num += 1"
   ]
  },
  {
   "cell_type": "code",
   "execution_count": 33,
   "metadata": {},
   "outputs": [
    {
     "name": "stdout",
     "output_type": "stream",
     "text": [
      "[0, 0, 0, 0, 0, 0, 0, 0, 0, 0]\n"
     ]
    }
   ],
   "source": []
  },
  {
   "cell_type": "markdown",
   "metadata": {},
   "source": [
    "# 5. 자기 자신을 제외한 모든 양의 약수들의 합이 자기 자신이 되는 자연수를 완전수라고 한다.예를 들면, 6과 28은 완전수이다."
   ]
  },
  {
   "cell_type": "code",
   "execution_count": 1,
   "metadata": {},
   "outputs": [
    {
     "name": "stdout",
     "output_type": "stream",
     "text": [
      "10001\n",
      "6\n",
      "28\n",
      "496\n",
      "8128\n"
     ]
    }
   ],
   "source": [
    "n = int(input())\n",
    "for i in range(1,n):\n",
    "    divisor = 0\n",
    "    for j in range(1,i) :\n",
    "        if i % j == 0:\n",
    "            divisor += j\n",
    "        \n",
    "    if i == divisor:\n",
    "        print(i)"
   ]
  },
  {
   "cell_type": "code",
   "execution_count": 35,
   "metadata": {},
   "outputs": [
    {
     "name": "stdout",
     "output_type": "stream",
     "text": [
      "906609\n"
     ]
    }
   ],
   "source": [
    "largest = 0\n",
    "for i in range(100,1000):\n",
    "    for j in range(i,1000):\n",
    "        a = i*j\n",
    "        mul = str(a)\n",
    "        reverse_mul = mul[::-1]\n",
    "        if mul == reverse_mul and largest < int(mul):\n",
    "            largest = int(mul)\n",
    "            \n",
    "print(largest)\n",
    "        "
   ]
  },
  {
   "cell_type": "code",
   "execution_count": 39,
   "metadata": {},
   "outputs": [
    {
     "name": "stdout",
     "output_type": "stream",
     "text": [
      "sdaf 5\n",
      "sdaf\n",
      "5\n"
     ]
    }
   ],
   "source": [
    "plane,n =input('').split()\n",
    "plane = [c for c in plane]\n",
    "n= int(n)\n",
    "\n",
    "LETTER_A = ord('A')\n",
    "LETTER_Z = ord('Z')\n",
    "cypher = []\n",
    "for letter in plane:\n",
    "    if ord(letter)+"
   ]
  },
  {
   "cell_type": "code",
   "execution_count": 43,
   "metadata": {},
   "outputs": [
    {
     "name": "stdout",
     "output_type": "stream",
     "text": [
      "찾고자 하는 문자열과 파일명> hello Basic\\lib\\greet.py\n"
     ]
    },
    {
     "ename": "FileNotFoundError",
     "evalue": "[Errno 2] No such file or directory: 'Basic\\\\lib\\\\greet.py'",
     "output_type": "error",
     "traceback": [
      "\u001b[1;31m---------------------------------------------------------------------------\u001b[0m",
      "\u001b[1;31mFileNotFoundError\u001b[0m                         Traceback (most recent call last)",
      "\u001b[1;32m<ipython-input-43-518ea15d444d>\u001b[0m in \u001b[0;36m<module>\u001b[1;34m\u001b[0m\n\u001b[0;32m      2\u001b[0m \u001b[1;33m\u001b[0m\u001b[0m\n\u001b[0;32m      3\u001b[0m \u001b[0mline_no\u001b[0m \u001b[1;33m=\u001b[0m \u001b[1;36m1\u001b[0m\u001b[1;33m\u001b[0m\u001b[1;33m\u001b[0m\u001b[0m\n\u001b[1;32m----> 4\u001b[1;33m \u001b[1;32mwith\u001b[0m \u001b[0mopen\u001b[0m\u001b[1;33m(\u001b[0m\u001b[0mfilename\u001b[0m\u001b[1;33m,\u001b[0m \u001b[1;34m'r'\u001b[0m\u001b[1;33m,\u001b[0m\u001b[0mencoding\u001b[0m\u001b[1;33m=\u001b[0m\u001b[1;34m'UTF-8'\u001b[0m\u001b[1;33m)\u001b[0m \u001b[1;32mas\u001b[0m \u001b[0mfile\u001b[0m\u001b[1;33m:\u001b[0m\u001b[1;33m\u001b[0m\u001b[1;33m\u001b[0m\u001b[0m\n\u001b[0m\u001b[0;32m      5\u001b[0m     \u001b[1;32mfor\u001b[0m \u001b[0mline\u001b[0m \u001b[1;32min\u001b[0m \u001b[0mfile\u001b[0m\u001b[1;33m:\u001b[0m\u001b[1;33m\u001b[0m\u001b[1;33m\u001b[0m\u001b[0m\n\u001b[0;32m      6\u001b[0m         \u001b[1;32mif\u001b[0m \u001b[0mline\u001b[0m\u001b[1;33m.\u001b[0m\u001b[0mfind\u001b[0m\u001b[1;33m(\u001b[0m\u001b[0mword\u001b[0m\u001b[1;33m)\u001b[0m\u001b[1;33m>=\u001b[0m\u001b[1;36m0\u001b[0m\u001b[1;33m:\u001b[0m\u001b[1;33m\u001b[0m\u001b[1;33m\u001b[0m\u001b[0m\n",
      "\u001b[1;31mFileNotFoundError\u001b[0m: [Errno 2] No such file or directory: 'Basic\\\\lib\\\\greet.py'"
     ]
    }
   ],
   "source": [
    "word, filename = input('찾고자 하는 문자열과 파일명> ').split()\n",
    "\n",
    "line_no = 1\n",
    "with open(filename, 'r',encoding='UTF-8') as file:\n",
    "    for line in file:\n",
    "        if line.find(word)>=0:\n",
    "            print('%3d : ' %line_no,line,end='')\n",
    "        line_no+=1"
   ]
  },
  {
   "cell_type": "code",
   "execution_count": null,
   "metadata": {},
   "outputs": [],
   "source": []
  }
 ],
 "metadata": {
  "kernelspec": {
   "display_name": "Python 3",
   "language": "python",
   "name": "python3"
  },
  "language_info": {
   "codemirror_mode": {
    "name": "ipython",
    "version": 3
   },
   "file_extension": ".py",
   "mimetype": "text/x-python",
   "name": "python",
   "nbconvert_exporter": "python",
   "pygments_lexer": "ipython3",
   "version": "3.7.6"
  }
 },
 "nbformat": 4,
 "nbformat_minor": 4
}
