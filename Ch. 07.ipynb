{
 "cells": [
  {
   "cell_type": "markdown",
   "metadata": {},
   "source": [
    "# Chapter 7. 함수"
   ]
  },
  {
   "cell_type": "code",
   "execution_count": 1,
   "metadata": {},
   "outputs": [
    {
     "name": "stdout",
     "output_type": "stream",
     "text": [
      "안녕하세요.\n"
     ]
    }
   ],
   "source": [
    "#예제 7-1\n",
    "def hello():\n",
    "    print('안녕하세요.')\n",
    "hello()"
   ]
  },
  {
   "cell_type": "code",
   "execution_count": 12,
   "metadata": {},
   "outputs": [
    {
     "name": "stdout",
     "output_type": "stream",
     "text": [
      "16은(는) 짝수이다.\n"
     ]
    }
   ],
   "source": [
    "#예제 7-2\n",
    "def even_odd(num) :\n",
    "    if num%2 == 0 :\n",
    "        print('%d은(는) 짝수이다.' %num)\n",
    "    else :\n",
    "        print('%d은(는) 홀수이다.' %num)\n",
    "\n",
    "even_odd(16)"
   ]
  },
  {
   "cell_type": "code",
   "execution_count": 14,
   "metadata": {},
   "outputs": [
    {
     "name": "stdout",
     "output_type": "stream",
     "text": [
      "김지영님은 빨강을 좋아하지 않습니다.\n",
      "홍채영님은 노랑을 조금 좋아합니다.\n",
      "진소진님은 파랑을 매우 좋아합니다.\n"
     ]
    }
   ],
   "source": [
    "#예제 7-3\n",
    "def favorate_color(name,color,amount):\n",
    "    if(amount == 1) :\n",
    "        print('%s님은 %s을 좋아하지 않습니다.'%(name,color))\n",
    "    elif(amount == 2) :\n",
    "        print('%s님은 %s을 조금 좋아합니다.'%(name,color))\n",
    "    else:\n",
    "        print('%s님은 %s을 매우 좋아합니다.'%(name,color))\n",
    "        \n",
    "favorate_color('김지영','빨강',1)\n",
    "favorate_color('홍채영','노랑',2)\n",
    "favorate_color('진소진','파랑',3)"
   ]
  },
  {
   "cell_type": "code",
   "execution_count": 25,
   "metadata": {},
   "outputs": [
    {
     "name": "stdout",
     "output_type": "stream",
     "text": [
      "3과목의 평균 : 90.00\n",
      "4과목의 평균 : 81.75\n",
      "5과목의 평균 : 79.40\n"
     ]
    }
   ],
   "source": [
    "#예제 7-4\n",
    "def average(*scores) :\n",
    "    sum = 0\n",
    "    for score in scores :\n",
    "        sum += score\n",
    "        \n",
    "    avg = sum / len(scores)\n",
    "    print('%d과목의 평균 : %.2f' %(len(scores),avg))\n",
    "    \n",
    "average(80,90,100)\n",
    "average(75,80,94,78)\n",
    "average(80,73,76,86,82)"
   ]
  },
  {
   "cell_type": "code",
   "execution_count": 29,
   "metadata": {},
   "outputs": [],
   "source": [
    "def average(*scores) :\n",
    "    sum = 0\n",
    "    for score in scores :\n",
    "        sum += score\n",
    "        \n",
    "    avg = sum / len(scores)\n",
    "    print('%d과목의 평균 : %.2f' %(len(scores),avg))"
   ]
  },
  {
   "cell_type": "code",
   "execution_count": 27,
   "metadata": {},
   "outputs": [
    {
     "name": "stdout",
     "output_type": "stream",
     "text": [
      "메인 : x = 10 , id =  140722061877936\n",
      "func() : x = 100 , id =  140722061880816\n",
      "메인 : x = 10 , id =  140722061877936\n"
     ]
    }
   ],
   "source": [
    "#예제 7-5 \n",
    "def func(x) :\n",
    "    x = 100\n",
    "    print('func() : x =',x,', id = ',id(x))\n",
    "\n",
    "x= 10\n",
    "print('메인 : x =',x,', id = ',id(x))\n",
    "func(x)\n",
    "print('메인 : x =',x,', id = ',id(x))"
   ]
  },
  {
   "cell_type": "code",
   "execution_count": 17,
   "metadata": {},
   "outputs": [
    {
     "name": "stdout",
     "output_type": "stream",
     "text": [
      "메인 : x = [1, 2, 3] , id =  2397726501512\n",
      "func() : x =  [100, 2, 3] id = 2397726501512\n",
      "메인 : x = [100, 2, 3] , id =  2397726501512\n"
     ]
    }
   ],
   "source": [
    "#예제 7-6\n",
    "def func(x) :\n",
    "    x[0] = 100\n",
    "    print('func() : x = ',x,'id =', id(x))\n",
    "\n",
    "x= [1,2,3]\n",
    "print('메인 : x =',x,', id = ',id(x))\n",
    "func(x)\n",
    "print('메인 : x =',x,', id = ',id(x))"
   ]
  },
  {
   "cell_type": "code",
   "execution_count": 28,
   "metadata": {},
   "outputs": [
    {
     "name": "stdout",
     "output_type": "stream",
     "text": [
      "원의 반지름을 입력하세요 : 10\n",
      "반지름 : 10, 원의 면적 : 314.00\n",
      "원의 반지름을 입력하세요 : 20\n",
      "반지름 : 20, 원의 면적 : 1256.00\n"
     ]
    }
   ],
   "source": [
    "#예제 7-7\n",
    "def circle_area(r) :\n",
    "    area = r * r * 3.14\n",
    "    \n",
    "    return area\n",
    "\n",
    "radius = int(input('원의 반지름을 입력하세요 : '))\n",
    "result = circle_area(radius)\n",
    "print('반지름 : %d, 원의 면적 : %.2f' %(radius,result))\n",
    "\n",
    "\n",
    "radius = int(input('원의 반지름을 입력하세요 : '))\n",
    "result = circle_area(radius)\n",
    "print('반지름 : %d, 원의 면적 : %.2f' %(radius,result))"
   ]
  },
  {
   "cell_type": "code",
   "execution_count": 22,
   "metadata": {},
   "outputs": [
    {
     "name": "stdout",
     "output_type": "stream",
     "text": [
      "10 ~ 100의 정수 합계 : 5005\n",
      "100 ~ 1000의 정수 합계 : 495550\n",
      "1000 ~ 10000의 정수 합계 : 49505500\n"
     ]
    }
   ],
   "source": [
    "#Q7-1\n",
    "def sum(start,end) :\n",
    "    total= 0\n",
    "    for i in range(start, end+1):\n",
    "        total += i\n",
    "    print('%d ~ %d의 정수 합계 : %d' %(start,end,total))\n",
    "    \n",
    "sum(10,100)\n",
    "sum(100,1000)\n",
    "sum(1000,10000)"
   ]
  },
  {
   "cell_type": "code",
   "execution_count": 23,
   "metadata": {},
   "outputs": [
    {
     "name": "stdout",
     "output_type": "stream",
     "text": [
      "시작 수를 입력하세요 : 10\n",
      "끝 수를 입력하세요 : 100\n",
      "합계를 구할 배수를 입력하세요 : 5\n",
      "10 ~ 100의 정수 중 5의 배수의 합 : 1045\n"
     ]
    }
   ],
   "source": [
    "#Q7-2\n",
    "def sum_besu(n1,n2,num) :\n",
    "    sum = 0\n",
    "    for i in range(n1,n2+1):\n",
    "        if i%num == 0:\n",
    "            sum += i\n",
    "    \n",
    "    return sum\n",
    "\n",
    "start = int(input('시작 수를 입력하세요 : '))\n",
    "end = int(input('끝 수를 입력하세요 : '))\n",
    "besu = int(input('합계를 구할 배수를 입력하세요 : '))\n",
    "\n",
    "result = sum_besu(start,end,besu)\n",
    "\n",
    "print('%d ~ %d의 정수 중 %d의 배수의 합 : %d' %(start,end,besu,result))"
   ]
  },
  {
   "cell_type": "code",
   "execution_count": 28,
   "metadata": {},
   "outputs": [
    {
     "name": "stdout",
     "output_type": "stream",
     "text": [
      "첫번 째 수를 입력하세요 : 33\n",
      "첫번 째 수를 입력하세요 : 44\n",
      "33과(와) 44의 최대 공약수 : 11\n"
     ]
    }
   ],
   "source": [
    "# Q7-3\n",
    "def computeMaxGong(x,y):\n",
    "    if x > y :\n",
    "        small = y\n",
    "    else :\n",
    "        small = x\n",
    "    \n",
    "    for i in range(1,small + 1) :\n",
    "        if((x%i == 0 ) and (y%i == 0)):\n",
    "            result = i\n",
    "    return result\n",
    "\n",
    "num1 = int(input('첫번 째 수를 입력하세요 : '))\n",
    "num2 = int(input('첫번 째 수를 입력하세요 : '))\n",
    "\n",
    "max_gong = computeMaxGong(num1,num2)\n",
    "print('%d과(와) %d의 최대 공약수 : %d' %(num1, num2, max_gong))"
   ]
  },
  {
   "cell_type": "code",
   "execution_count": 29,
   "metadata": {},
   "outputs": [
    {
     "name": "stdout",
     "output_type": "stream",
     "text": [
      "25\n",
      "100\n"
     ]
    }
   ],
   "source": [
    "# 예제 7-8\n",
    "x= lambda a : a**2\n",
    "\n",
    "print(x(5))\n",
    "print(x(10))"
   ]
  },
  {
   "cell_type": "code",
   "execution_count": 31,
   "metadata": {},
   "outputs": [
    {
     "name": "stdout",
     "output_type": "stream",
     "text": [
      "60\n",
      "30\n",
      "50\n"
     ]
    }
   ],
   "source": [
    "# 예제 7-9\n",
    "f= lambda x,y,z : x+y +z\n",
    "\n",
    "print(f(10,20,30))\n",
    "\n",
    "def mul(n) :\n",
    "    return lambda x : x*n\n",
    "\n",
    "g = mul(3)\n",
    "h = mul(5)\n",
    "\n",
    "print(g(10))\n",
    "print(h(10))"
   ]
  },
  {
   "cell_type": "code",
   "execution_count": 33,
   "metadata": {},
   "outputs": [
    {
     "name": "stdout",
     "output_type": "stream",
     "text": [
      "10\n",
      "<function <lambda> at 0x0000022E43AEC948>\n"
     ]
    }
   ],
   "source": [
    "#예제 7-10\n",
    "def func():\n",
    "    x= 10\n",
    "    print(x)\n",
    "func()\n",
    "print(x)"
   ]
  },
  {
   "cell_type": "code",
   "execution_count": 34,
   "metadata": {},
   "outputs": [
    {
     "name": "stdout",
     "output_type": "stream",
     "text": [
      "10\n",
      "140722061877936\n",
      "10\n",
      "140722061877936\n"
     ]
    }
   ],
   "source": [
    "#예제 7-11\n",
    "def func():\n",
    "    print(x)\n",
    "    print(id(x))\n",
    "    \n",
    "x=10\n",
    "print(x)\n",
    "print(id(x))\n",
    "func()"
   ]
  },
  {
   "cell_type": "code",
   "execution_count": 35,
   "metadata": {},
   "outputs": [
    {
     "name": "stdout",
     "output_type": "stream",
     "text": [
      "10\n",
      "140722061877936\n",
      "100\n",
      "140722061880816\n",
      "10\n",
      "140722061877936\n"
     ]
    }
   ],
   "source": [
    "#예제 7-12\n",
    "def func():\n",
    "    x=100\n",
    "    print(x)\n",
    "    print(id(x))\n",
    "    \n",
    "x=10\n",
    "print(x)\n",
    "print(id(x))\n",
    "func()\n",
    "\n",
    "print(x)\n",
    "print(id(x))"
   ]
  },
  {
   "cell_type": "code",
   "execution_count": 41,
   "metadata": {},
   "outputs": [
    {
     "name": "stdout",
     "output_type": "stream",
     "text": [
      "10\n",
      "100\n",
      "140722061880816\n",
      "100\n",
      "140722061880816\n",
      "10\n"
     ]
    }
   ],
   "source": [
    "#예제 7-13\n",
    "\n",
    "def func():\n",
    "    global x\n",
    "    x=100\n",
    "    global y\n",
    "    y=10\n",
    "    print(x)\n",
    "    print(id(x))\n",
    "    \n",
    "x=10\n",
    "y=2\n",
    "print(x)\n",
    "func()\n",
    "print(x)\n",
    "print(id(x))\n",
    "print(y)"
   ]
  },
  {
   "cell_type": "code",
   "execution_count": 44,
   "metadata": {},
   "outputs": [
    {
     "name": "stdout",
     "output_type": "stream",
     "text": [
      "파일 쓰기 완료.\n"
     ]
    }
   ],
   "source": [
    "file = open('sample.txt','w', encoding='utf8')\n",
    "file.write('안녕하세요. 반갑습니다.')\n",
    "file.close()\n",
    "print('파일 쓰기 완료.')"
   ]
  },
  {
   "cell_type": "code",
   "execution_count": 52,
   "metadata": {},
   "outputs": [
    {
     "name": "stdout",
     "output_type": "stream",
     "text": [
      "김소영 82 80 93 97 93 88\n",
      "정예린 86 100 93 86 90 77\n",
      "이세영 91 88 99 79 92 68\n",
      "정수정 86 100 93 89 92 93\n",
      "박지수 80 100 95 89 90 84\n",
      "\n"
     ]
    }
   ],
   "source": [
    "scores = ['김소영 82 80 93 97 93 88',\\\n",
    "         '정예린 86 100 93 86 90 77',\\\n",
    "         '이세영 91 88 99 79 92 68',\\\n",
    "         '정수정 86 100 93 89 92 93',\\\n",
    "         '박지수 80 100 95 89 90 84']\n",
    "data = ''\n",
    "for item in scores :\n",
    "    data += item + '\\n'\n",
    "print(data)\n",
    "\n",
    "file = open('scores.txt','w', encoding='utf8')\n",
    "file.write(data)\n",
    "file.close()"
   ]
  },
  {
   "cell_type": "code",
   "execution_count": 1,
   "metadata": {},
   "outputs": [
    {
     "name": "stdout",
     "output_type": "stream",
     "text": [
      "scores.txt 파일의 내용 :\n",
      "김소영 82 80 93 97 93 88\n",
      "정예린 86 100 93 86 90 77\n",
      "이세영 91 88 99 79 92 68\n",
      "정수정 86 100 93 89 92 93\n",
      "박지수 80 100 95 89 90 84\n"
     ]
    }
   ],
   "source": [
    "#예제 7-16\n",
    "file = open('scores.txt','r', encoding='utf8')\n",
    "lines = file.readlines()\n",
    "\n",
    "print('scores.txt 파일의 내용 :')\n",
    "for line in lines :\n",
    "    print(line,end='')\n",
    "    \n",
    "file.close()"
   ]
  },
  {
   "cell_type": "code",
   "execution_count": 2,
   "metadata": {},
   "outputs": [
    {
     "name": "stdout",
     "output_type": "stream",
     "text": [
      "오렌지에 맞는 영어 단어는?orange\n",
      "맞습니다.\n",
      "쿠키에 맞는 영어 단어는?cookie\n",
      "맞습니다.\n",
      "엄마에 맞는 영어 단어는?mother\n",
      "맞습니다.\n",
      "형에 맞는 영어 단어는?brother\n",
      "맞습니다.\n",
      "파이썬에 맞는 영어 단어는?python\n",
      "맞습니다.\n"
     ]
    }
   ],
   "source": [
    "#Q7-4\n",
    "\n",
    "def matchWord(word,answer):\n",
    "    if word == answer :\n",
    "        msg='맞습니다.'\n",
    "    else:\n",
    "        msg  = '틀렸습니다.'\n",
    "    return msg\n",
    "\n",
    "eng_dict = dict(zip(['orange','cookie','mother','brother','python'],['오렌지','쿠키','엄마','형','파이썬']))\n",
    "\n",
    "for key in eng_dict :\n",
    "    string = input(eng_dict[key] + '에 맞는 영어 단어는?')\n",
    "    result = matchWord(string,key)\n",
    "    print(result)"
   ]
  },
  {
   "cell_type": "code",
   "execution_count": 3,
   "metadata": {},
   "outputs": [
    {
     "name": "stdout",
     "output_type": "stream",
     "text": [
      "첫 번째 수를 입력하세요 : 33\n",
      "두 번째 수를 입력하세요 : 77\n",
      "세 번째 수를 입력하세요 : -21\n",
      "33,77,-21 중 가장 큰 수 : 77\n"
     ]
    }
   ],
   "source": [
    "#Q7-5\n",
    "\n",
    "def maxTwo(i,j):\n",
    "    if i > j:\n",
    "        return i\n",
    "    else :\n",
    "        return j\n",
    "\n",
    "def maxThree(x,y,z) :\n",
    "    max1 = maxTwo(x,y)\n",
    "    max2 = maxTwo(y,z)\n",
    "    if max1 > max2 :\n",
    "        largest = max1\n",
    "    else :\n",
    "        largest = max2\n",
    "    return largest\n",
    "\n",
    "a= int(input('첫 번째 수를 입력하세요 : '))\n",
    "b= int(input('두 번째 수를 입력하세요 : '))\n",
    "c= int(input('세 번째 수를 입력하세요 : '))\n",
    "\n",
    "max_num = maxThree(a,b,c)\n",
    "print('%d,%d,%d 중 가장 큰 수 : %d' %(a,b,c,max_num))"
   ]
  },
  {
   "cell_type": "code",
   "execution_count": 30,
   "metadata": {},
   "outputs": [
    {
     "name": "stdout",
     "output_type": "stream",
     "text": [
      "--------------------------------------------------\n",
      "김소영 82 80 93 97 93 88\n",
      "\n",
      "['김소영', '82', '80', '93', '97', '93', '88']\n",
      "김소영\n",
      "합계 : 445, 평균 : 89.00 \n",
      "--------------------------------------------------\n",
      "정예린 86 100 93 86 90 77\n",
      "\n",
      "['정예린', '86', '100', '93', '86', '90', '77']\n",
      "정예린\n",
      "합계 : 455, 평균 : 91.00 \n",
      "--------------------------------------------------\n",
      "이세영 91 88 99 79 92 68\n",
      "\n",
      "['이세영', '91', '88', '99', '79', '92', '68']\n",
      "이세영\n",
      "합계 : 449, 평균 : 89.80 \n",
      "--------------------------------------------------\n",
      "정수정 86 100 93 89 92 93\n",
      "\n",
      "['정수정', '86', '100', '93', '89', '92', '93']\n",
      "정수정\n",
      "합계 : 460, 평균 : 92.00 \n",
      "--------------------------------------------------\n",
      "박지수 80 100 95 89 90 84\n",
      "\n",
      "['박지수', '80', '100', '95', '89', '90', '84']\n",
      "박지수\n",
      "합계 : 454, 평균 : 90.80 \n",
      "--------------------------------------------------\n"
     ]
    }
   ],
   "source": [
    "#Q7-6\n",
    "file = open('scores.txt','r', encoding='utf8')\n",
    "lines = file.readlines()\n",
    "file.close()\n",
    "\n",
    "print('-' *50)\n",
    "\n",
    "for line in lines:\n",
    "    student = line.split()\n",
    "    print(student)\n",
    "    i=0\n",
    "    sum=0\n",
    "    while i < len(lines)+1:\n",
    "        if i == 0:\n",
    "            print(student[i])\n",
    "        else:\n",
    "            sum += int(student[i])\n",
    "        i+=1\n",
    "    print('합계 : %d, 평균 : %.2f '%(sum,sum/5))\n",
    "    print('-'*50)"
   ]
  },
  {
   "cell_type": "code",
   "execution_count": 9,
   "metadata": {},
   "outputs": [
    {
     "ename": "SyntaxError",
     "evalue": "can't use starred expression here (<ipython-input-9-b84d21049495>, line 5)",
     "output_type": "error",
     "traceback": [
      "\u001b[1;36m  File \u001b[1;32m\"<ipython-input-9-b84d21049495>\"\u001b[1;36m, line \u001b[1;32m5\u001b[0m\n\u001b[1;31mSyntaxError\u001b[0m\u001b[1;31m:\u001b[0m can't use starred expression here\n"
     ]
    }
   ],
   "source": [
    "def computeMaxGong(x,y):\n",
    "    if x > y :\n",
    "        small = y\n",
    "    else :\n",
    "        small = x\n",
    "    \n",
    "    for i in range(1,small + 1) :\n",
    "        if((x%i == 0 ) and (y%i == 0)):\n",
    "            result = i\n",
    "    return result\n",
    "\n",
    "num1 = int(input('첫번 째 수를 입력하세요 : '))\n",
    "num2 = int(input('첫번 째 수를 입력하세요 : '))\n",
    "\n",
    "max_gong = computeMaxGong(num1,num2)\n",
    "print('%d과(와) %d의 최대 공약수 : %d' %(num1, num2, max_gong))"
   ]
  },
  {
   "cell_type": "code",
   "execution_count": 50,
   "metadata": {},
   "outputs": [
    {
     "name": "stdout",
     "output_type": "stream",
     "text": [
      "6 28 496 8128 "
     ]
    }
   ],
   "source": [
    "def perpect_number(n):\n",
    "    divisor = 0\n",
    "    for i in range(1,n+1) :\n",
    "        if i==n and divisor == n:\n",
    "            print(n,end=' ')\n",
    "        elif i == n:\n",
    "            break\n",
    "        elif n%i == 0:\n",
    "            divisor += i\n",
    "    \n",
    "i=1\n",
    "while i <= 10000:\n",
    "    perpect_number(i)\n",
    "    i+=1\n",
    "\n"
   ]
  },
  {
   "cell_type": "code",
   "execution_count": 70,
   "metadata": {},
   "outputs": [
    {
     "name": "stdout",
     "output_type": "stream",
     "text": [
      "6\n",
      "28\n",
      "496\n",
      "8128\n"
     ]
    }
   ],
   "source": [
    "def sum_divisor(n):\n",
    "    sum = 0\n",
    "    for i in range(1,n):\n",
    "        if n % i == 0:\n",
    "            sum += i\n",
    "    return sum\n",
    "\n",
    "for num in range(1,10001):\n",
    "    if num == sum_divisor(num):\n",
    "        print(num)"
   ]
  },
  {
   "cell_type": "code",
   "execution_count": 78,
   "metadata": {},
   "outputs": [
    {
     "name": "stdout",
     "output_type": "stream",
     "text": [
      "6\n",
      "28\n",
      "496\n",
      "8128\n"
     ]
    }
   ],
   "source": [
    "def perpect_number(n):\n",
    "    divisor = 0\n",
    "    for i in range(1,n) :\n",
    "        if n % i == 0:\n",
    "            divisor += i\n",
    "    return divisor\n",
    "    \n",
    "for i in range(1,10000):\n",
    "    if i == perpect_number(i):\n",
    "        print(i)"
   ]
  },
  {
   "cell_type": "code",
   "execution_count": null,
   "metadata": {},
   "outputs": [],
   "source": []
  }
 ],
 "metadata": {
  "kernelspec": {
   "display_name": "Python 3",
   "language": "python",
   "name": "python3"
  },
  "language_info": {
   "codemirror_mode": {
    "name": "ipython",
    "version": 3
   },
   "file_extension": ".py",
   "mimetype": "text/x-python",
   "name": "python",
   "nbconvert_exporter": "python",
   "pygments_lexer": "ipython3",
   "version": "3.7.6"
  }
 },
 "nbformat": 4,
 "nbformat_minor": 4
}
