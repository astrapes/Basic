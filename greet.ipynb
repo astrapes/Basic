{
 "cells": [
  {
   "cell_type": "markdown",
   "metadata": {},
   "source": [
    "# Chapter 8. 모듈"
   ]
  },
  {
   "cell_type": "code",
   "execution_count": null,
   "metadata": {},
   "outputs": [],
   "source": [
    "#예제 8-1\n",
    "def hello1(name):\n",
    "    x = '%s님 안녕하세요.' %name\n",
    "    return x\n",
    "def hello2(name):\n",
    "    x = '%s님 반갑습니다.' %name\n",
    "    return x\n",
    "def hello3(name):\n",
    "    x = '%s님 만나서 반가워요.' %name\n",
    "    return x"
   ]
  }
 ],
 "metadata": {
  "kernelspec": {
   "display_name": "Python 3",
   "language": "python",
   "name": "python3"
  },
  "language_info": {
   "codemirror_mode": {
    "name": "ipython",
    "version": 3
   },
   "file_extension": ".py",
   "mimetype": "text/x-python",
   "name": "python",
   "nbconvert_exporter": "python",
   "pygments_lexer": "ipython3",
   "version": "3.7.6"
  }
 },
 "nbformat": 4,
 "nbformat_minor": 4
}
