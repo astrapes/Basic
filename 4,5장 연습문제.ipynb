{
 "cells": [
  {
   "cell_type": "markdown",
   "metadata": {},
   "source": [
    "# 1. for문을 이용하여 실행 결과와 같은 형태로 출력하는 프로그램을 작성하시오"
   ]
  },
  {
   "cell_type": "code",
   "execution_count": 1,
   "metadata": {},
   "outputs": [
    {
     "name": "stdout",
     "output_type": "stream",
     "text": [
      "* * * * * * * * * * \n",
      "* * * * * * * * * * \n",
      "* * * * * * * * * * \n",
      "* * * * * * * * * * \n",
      "* * * * * * * * * * \n"
     ]
    }
   ],
   "source": [
    "for i in range (1,6):\n",
    "    for j in range (1,11):\n",
    "        print('* ',end='')\n",
    "    print()"
   ]
  },
  {
   "cell_type": "markdown",
   "metadata": {},
   "source": [
    "# 2. while문을 이용하여 1번 문제와 동일한 결과를 가져오는 프로그램을 작성하시오."
   ]
  },
  {
   "cell_type": "code",
   "execution_count": 2,
   "metadata": {},
   "outputs": [
    {
     "name": "stdout",
     "output_type": "stream",
     "text": [
      "* * * * * * * * * * \n",
      "* * * * * * * * * * \n",
      "* * * * * * * * * * \n",
      "* * * * * * * * * * \n",
      "* * * * * * * * * * \n"
     ]
    }
   ],
   "source": [
    "i=0\n",
    "j=0\n",
    "k=0\n",
    "while i < 5:\n",
    "    while j < 10:\n",
    "        print('* ',end='')\n",
    "        j += 1\n",
    "    j = 0\n",
    "    i+= 1\n",
    "    print()"
   ]
  },
  {
   "cell_type": "markdown",
   "metadata": {},
   "source": [
    "# 3. for문을 이용하요 실행 결과와 같은 형태로 출력하는 프로그램을 작성하시오."
   ]
  },
  {
   "cell_type": "code",
   "execution_count": 5,
   "metadata": {},
   "outputs": [
    {
     "name": "stdout",
     "output_type": "stream",
     "text": [
      "6 6 6 6 6 6 \n",
      "5 5 5 5 5 \n",
      "4 4 4 4 \n",
      "3 3 3 \n",
      "2 2 \n",
      "1 \n"
     ]
    }
   ],
   "source": [
    "for i in range(6,0,-1):\n",
    "    for j in range(1,i+1):\n",
    "        print(i,'',end ='')\n",
    "    print()"
   ]
  },
  {
   "cell_type": "markdown",
   "metadata": {},
   "source": [
    "# 4. for문을 이용하여 실행 결과와 같은 형태로 출력하는 프로그램을 작성하시오."
   ]
  },
  {
   "cell_type": "code",
   "execution_count": 6,
   "metadata": {},
   "outputs": [
    {
     "name": "stdout",
     "output_type": "stream",
     "text": [
      "0 \n",
      "0 1 \n",
      "0 1 2 \n",
      "0 1 2 3 \n",
      "0 1 2 3 4 \n",
      "0 1 2 3 4 5 \n"
     ]
    }
   ],
   "source": [
    "for i in range(1,7):\n",
    "    for j in range(0,i):\n",
    "        print(j,'',end ='')\n",
    "    print()"
   ]
  },
  {
   "cell_type": "markdown",
   "metadata": {},
   "source": [
    "# 5. for문을 이용하여 실행 결과와 같은 형태로 출력하는 프로그램을 작성하시오."
   ]
  },
  {
   "cell_type": "code",
   "execution_count": 7,
   "metadata": {},
   "outputs": [
    {
     "name": "stdout",
     "output_type": "stream",
     "text": [
      "* * * * * * * * \n",
      "\n",
      "\n",
      "*             * \n",
      "\n",
      "\n",
      "*             * \n",
      "\n",
      "\n",
      "*             * \n",
      "\n",
      "\n",
      "*             * \n",
      "\n",
      "\n",
      "*             * \n",
      "\n",
      "\n",
      "*             * \n",
      "\n",
      "\n",
      "* * * * * * * * \n"
     ]
    }
   ],
   "source": [
    "for i in range(1,16):\n",
    "    if i == 1 or i == 15:\n",
    "        for j in range (1,9):\n",
    "            print('*','',end='')\n",
    "    elif i%2 == 0:\n",
    "        print()\n",
    "    else :\n",
    "        for k in range(1,9):\n",
    "            if k == 1 or k == 8:\n",
    "                print('*','',end='')\n",
    "            else :\n",
    "                print('  ',end='')\n",
    "    print()\n",
    "        "
   ]
  },
  {
   "cell_type": "markdown",
   "metadata": {},
   "source": [
    "# 6. 1~100까지의 수 중에서 홀수와 홀수의 합을 실행 결과와 같이 출력하는 프로그램을 작성하시오."
   ]
  },
  {
   "cell_type": "code",
   "execution_count": 8,
   "metadata": {},
   "outputs": [
    {
     "name": "stdout",
     "output_type": "stream",
     "text": [
      "1 + 3 + 5 + 7 + 9 + 11 + 13 + 15 + 17 + 19 + 21 + 23 + 25 + 27 + 29 + 31 + 33 + 35 + 37 + 39 + 41 + 43 + 45 + 47 + 49 + 51 + 53 + 55 + 57 + 59 + 61 + 63 + 65 + 67 + 69 + 71 + 73 + 75 + 77 + 79 + 81 + 83 + 85 + 87 + 89 + 91 + 93 + 95 + 97 + 99 = 2500\n"
     ]
    }
   ],
   "source": [
    "sum = 0\n",
    "for i in range(1,101):\n",
    "    if i%2 == 1:\n",
    "        sum += i\n",
    "        if i == 1:\n",
    "            print('%d'%i,end='')\n",
    "        else:\n",
    "            print(' + %d'%i,end='')\n",
    "print(' = %d' %sum)"
   ]
  },
  {
   "cell_type": "markdown",
   "metadata": {},
   "source": [
    "# 7. N을 입력 받아 다음과 같은 수식의 결과를 얻는 프로그램을 작성하시오."
   ]
  },
  {
   "cell_type": "code",
   "execution_count": 3,
   "metadata": {},
   "outputs": [
    {
     "name": "stdout",
     "output_type": "stream",
     "text": [
      "N의 값을 입력하세요 :12\n",
      "N의 값 : 12\n",
      "합계 : 55587848729466671350053056661666\n"
     ]
    }
   ],
   "source": [
    "N = int(input('N의 값을 입력하세요 :'))\n",
    "print('N의 값 :',N)\n",
    "\n",
    "sum=0\n",
    "for i in range(1,N+1):\n",
    "    sum += (2*i)**(2*i-1)\n",
    "print('합계 :',sum)"
   ]
  },
  {
   "cell_type": "markdown",
   "metadata": {},
   "source": [
    "# 8. N값을 입력 받아 1부터 N까지의 수 중에서 소수를 구하는 프로그램을 작성하시오."
   ]
  },
  {
   "cell_type": "code",
   "execution_count": 41,
   "metadata": {},
   "outputs": [
    {
     "name": "stdout",
     "output_type": "stream",
     "text": [
      "N의 값을 입력하세요 :5\n",
      "3\n",
      "4\n",
      "4\n",
      "5\n",
      "5\n",
      "5\n"
     ]
    }
   ],
   "source": [
    "N = int(input('N의 값을 입력하세요 :'))\n",
    "\n",
    "for i in range(2,N+1):\n",
    "    for j in range(2,N):\n",
    "        if i == j:\n",
    "            print(i,'', end='' )\n",
    "        elif i%j == 0:\n",
    "            break"
   ]
  },
  {
   "cell_type": "markdown",
   "metadata": {},
   "source": [
    "# 9. while문을 이용하여 달러,원화,유로의 환산표를 만드는 프로그램을 작성하시오."
   ]
  },
  {
   "cell_type": "markdown",
   "metadata": {},
   "source": [
    "print('-'*30)\n",
    "print('달러($)  원화(원)  유로')\n",
    "print('-'*30)\n",
    "usd = 10\n",
    "while usd <=100:\n",
    "    krw = usd * 1080\n",
    "    eur = usd * 0.81\n",
    "    print('%d        %d    %1.f'%(usd,krw,eur))\n",
    "    usd +=10"
   ]
  },
  {
   "cell_type": "markdown",
   "metadata": {},
   "source": [
    "# while문을 이용하여 센티미터, 밀리미터, 미터, 인치의 길이 환산표를 만드는 프로그램을 작성하시오."
   ]
  },
  {
   "cell_type": "code",
   "execution_count": 7,
   "metadata": {},
   "outputs": [
    {
     "name": "stdout",
     "output_type": "stream",
     "text": [
      "------------------------------\n",
      "cm  mm  m  inch\n",
      "------------------------------\n",
      "1   10   0.0   0.39\n",
      "3   30   0.0   1.18\n",
      "5   50   0.1   1.97\n",
      "7   70   0.1   2.76\n",
      "9   90   0.1   3.54\n",
      "11   110   0.1   4.33\n",
      "13   130   0.1   5.12\n",
      "15   150   0.1   5.91\n",
      "17   170   0.2   6.69\n",
      "19   190   0.2   7.48\n",
      "21   210   0.2   8.27\n",
      "23   230   0.2   9.06\n",
      "25   250   0.2   9.84\n",
      "27   270   0.3   10.63\n",
      "29   290   0.3   11.42\n",
      "31   310   0.3   12.20\n",
      "33   330   0.3   12.99\n",
      "35   350   0.4   13.78\n",
      "37   370   0.4   14.57\n",
      "39   390   0.4   15.35\n",
      "41   410   0.4   16.14\n",
      "43   430   0.4   16.93\n",
      "45   450   0.5   17.72\n",
      "47   470   0.5   18.50\n",
      "49   490   0.5   19.29\n",
      "51   510   0.5   20.08\n",
      "53   530   0.5   20.87\n",
      "55   550   0.6   21.65\n",
      "57   570   0.6   22.44\n",
      "59   590   0.6   23.23\n",
      "61   610   0.6   24.02\n",
      "63   630   0.6   24.80\n",
      "65   650   0.7   25.59\n",
      "67   670   0.7   26.38\n",
      "69   690   0.7   27.17\n",
      "71   710   0.7   27.95\n",
      "73   730   0.7   28.74\n",
      "75   750   0.8   29.53\n",
      "77   770   0.8   30.31\n",
      "79   790   0.8   31.10\n",
      "81   810   0.8   31.89\n",
      "83   830   0.8   32.68\n",
      "85   850   0.8   33.46\n",
      "87   870   0.9   34.25\n",
      "89   890   0.9   35.04\n",
      "91   910   0.9   35.83\n",
      "93   930   0.9   36.61\n",
      "95   950   1.0   37.40\n",
      "97   970   1.0   38.19\n",
      "99   990   1.0   38.98\n"
     ]
    }
   ],
   "source": [
    "print('-'*30)\n",
    "print('cm  mm  m  inch')\n",
    "print('-'*30)\n",
    "cm = 1\n",
    "while cm <100:\n",
    "    mm = cm * 10\n",
    "    m = cm * 0.01\n",
    "    inch = cm * 0.3937\n",
    "    print('%d   %d   %.1f   %.2f'%(cm,mm,m,inch))\n",
    "    cm += 2"
   ]
  },
  {
   "cell_type": "markdown",
   "metadata": {},
   "source": [
    "# 5장 연습문제"
   ]
  },
  {
   "cell_type": "markdown",
   "metadata": {},
   "source": [
    "# 다음은 리스트 data에 관련된 문제이다. 물음에 답하시오\n",
    "data = [-12,3,-9,5,8,-2,0,-8,3,10]"
   ]
  },
  {
   "cell_type": "markdown",
   "metadata": {},
   "source": [
    "# 1. for문을 이용하여 data의 요소들 중에서 가장 큰 수를 찾는 프로그램을 작성하시오"
   ]
  },
  {
   "cell_type": "code",
   "execution_count": 8,
   "metadata": {},
   "outputs": [
    {
     "name": "stdout",
     "output_type": "stream",
     "text": [
      "가장 큰 수 : 10\n"
     ]
    }
   ],
   "source": [
    "data = [-12,3,-9,5,8,-2,0,-8,3,10]\n",
    "largest =0\n",
    "for i in data:\n",
    "    if largest < i:\n",
    "        largest = i\n",
    "    else :\n",
    "        continue\n",
    "print('가장 큰 수 :',largest)"
   ]
  },
  {
   "cell_type": "markdown",
   "metadata": {},
   "source": [
    "# 2. while문을 이용하여 짝수 번째 요소들의 합과 평균을 구하는 프로그램을 작성하시오."
   ]
  },
  {
   "cell_type": "code",
   "execution_count": 9,
   "metadata": {},
   "outputs": [
    {
     "name": "stdout",
     "output_type": "stream",
     "text": [
      "합계 : 8, 평균 1.60\n"
     ]
    }
   ],
   "source": [
    "data = [-12,3,-9,5,8,-2,0,-8,3,10]\n",
    "i= 1\n",
    "count = 0\n",
    "sum = 0\n",
    "while i <= len(data):\n",
    "    if i%2 == 0:\n",
    "        sum += data[i-1]\n",
    "        count += 1\n",
    "    i += 1\n",
    "avg = sum / count\n",
    "print('합계 : %d, 평균 %.2f' %(sum,avg))"
   ]
  },
  {
   "cell_type": "markdown",
   "metadata": {},
   "source": [
    "# 3. 리스트의 메소드를 이용하여 data를 내림차순으로 정렬하는 프로그램을 작성하시오."
   ]
  },
  {
   "cell_type": "code",
   "execution_count": 10,
   "metadata": {},
   "outputs": [
    {
     "name": "stdout",
     "output_type": "stream",
     "text": [
      "[10, 8, 5, 3, 3, 0, -2, -8, -9, -12]\n"
     ]
    }
   ],
   "source": [
    "data = [-12,3,-9,5,8,-2,0,-8,3,10]\n",
    "data.sort(reverse=True)\n",
    "print(data)"
   ]
  },
  {
   "cell_type": "markdown",
   "metadata": {},
   "source": [
    "# 4. data의 4번째 요소에 데이터 100을 추가하는 프로그램을 작성하시오."
   ]
  },
  {
   "cell_type": "code",
   "execution_count": 14,
   "metadata": {},
   "outputs": [
    {
     "name": "stdout",
     "output_type": "stream",
     "text": [
      "[-12, 3, -9, 100, 5, 8, -2, 0, -8, 3, 10]\n"
     ]
    }
   ],
   "source": [
    "data = [-12,3,-9,5,8,-2,0,-8,3,10]\n",
    "data.insert(3,100)\n",
    "print(data)"
   ]
  },
  {
   "cell_type": "markdown",
   "metadata": {},
   "source": [
    "# 5. data에서 -12의 값을 가진 요소를 삭제하는 프로그램을 작성하시오"
   ]
  },
  {
   "cell_type": "code",
   "execution_count": 19,
   "metadata": {},
   "outputs": [
    {
     "name": "stdout",
     "output_type": "stream",
     "text": [
      "[3, -9, 5, 8, -2, 0, -8, 3, 10]\n"
     ]
    }
   ],
   "source": [
    "data = [-12,3,-9,5,8,-2,0,-8,3,10]\n",
    "data.remove(-12)\n",
    "print(data)"
   ]
  },
  {
   "cell_type": "markdown",
   "metadata": {},
   "source": [
    "# 6. 흑돌과 백돌의 개수를 카운트 하는 프로그램을 작성하시오."
   ]
  },
  {
   "cell_type": "code",
   "execution_count": 32,
   "metadata": {},
   "outputs": [
    {
     "name": "stdout",
     "output_type": "stream",
     "text": [
      "흑돌의 개수 : 17\n",
      "백돌의 개수 : 16\n"
     ]
    }
   ],
   "source": [
    "stone = [[0,0,0,0,0,0,0,0,0],\\\n",
    "        [0,1,0,1,2,1,2,1,0],\\\n",
    "        [0,2,1,1,1,2,2,0,0],\\\n",
    "        [0,0,2,2,2,1,0,2,0],\\\n",
    "        [0,0,0,0,0,1,0,2,1],\\\n",
    "        [0,0,0,2,0,1,2,1,0],\\\n",
    "        [0,0,0,2,1,0,1,1,0],\\\n",
    "        [0,0,0,1,1,0,0,0,0],\\\n",
    "        [0,0,0,0,2,2,2,0,0]]\n",
    "\n",
    "black = 0\n",
    "white = 0\n",
    "for i in range(len(stone)):\n",
    "    black += stone[i].count(1)\n",
    "    white += stone[i].count(2)\n",
    "print('흑돌의 개수 : %d\\n백돌의 개수 : %d' %(black,white))"
   ]
  },
  {
   "cell_type": "code",
   "execution_count": 40,
   "metadata": {},
   "outputs": [
    {
     "name": "stdout",
     "output_type": "stream",
     "text": [
      "X X X X X X X X X \n",
      "X ● X ● ○ ● ○ ● X \n",
      "X ○ ● ● ● ○ ○ X X \n",
      "X X ○ ○ ○ ● X ○ X \n",
      "X X X X X ● X ○ ● \n",
      "X X X ○ X ● ○ ● X \n",
      "X X X ○ ● X ● ● X \n",
      "X X X ● ● X X X X \n",
      "X X X X ○ ○ ○ X X \n"
     ]
    }
   ],
   "source": [
    "for i in range(0,len(stone)):\n",
    "    for j in range(0,len(stone[i])):\n",
    "        if stone[i][j] == 0:\n",
    "            print('X','',end='')\n",
    "        elif stone[i][j] == 1:\n",
    "            print('●','',end='')\n",
    "        else:\n",
    "            print('○','',end='')\n",
    "    print()"
   ]
  },
  {
   "cell_type": "code",
   "execution_count": 13,
   "metadata": {},
   "outputs": [
    {
     "name": "stdout",
     "output_type": "stream",
     "text": [
      "    01  02  03  04  05  06  07  08  09  \n",
      "01  X   X   X   X   X   X   X   X   X  \n",
      "02  X   ●   X   ●   ○   ●   ○   ●   X  \n",
      "03  X   ○   ●   ●   ●   ○   ○   X   X  \n",
      "04  X   X   ○   ○   ○   ●   X   ○   X  \n",
      "05  X   X   X   X   X   ●   X   ○   ●  \n",
      "06  X   X   X   ○   X   ●   ○   ●   X  \n",
      "07  X   X   X   ○   ●   X   ●   ●   X  \n",
      "08  X   X   X   ●   ●   X   X   X   X  \n",
      "09  X   X   X   X   ○   ○   ○   X   X  \n"
     ]
    }
   ],
   "source": [
    "stone = [[0,0,0,0,0,0,0,0,0],\\\n",
    "        [0,1,0,1,2,1,2,1,0],\\\n",
    "        [0,2,1,1,1,2,2,0,0],\\\n",
    "        [0,0,2,2,2,1,0,2,0],\\\n",
    "        [0,0,0,0,0,1,0,2,1],\\\n",
    "        [0,0,0,2,0,1,2,1,0],\\\n",
    "        [0,0,0,2,1,0,1,1,0],\\\n",
    "        [0,0,0,1,1,0,0,0,0],\\\n",
    "        [0,0,0,0,2,2,2,0,0]]\n",
    "\n",
    "stone1 = list(i for i in range(1,10))\n",
    "stone.insert(0,stone1)\n",
    "for a in range(0,len(stone)):\n",
    "    for b in range(0,1):\n",
    "        stone[a].insert(0,a)\n",
    "for i in range(0,len(stone)):\n",
    "    for j in range(0,len(stone[i])):\n",
    "        if i == 0 and j == 0:\n",
    "            print('    ',end='')\n",
    "        elif i == 0 and j != 0:\n",
    "            print('%02d  ' %stone[i][j],end='')\n",
    "            continue\n",
    "        elif i!= 0 and j == 0:\n",
    "            print('%02d ' %stone[i][j],end='')\n",
    "        else :\n",
    "            if stone[i][j] == 0:\n",
    "                print(' X ','',end='')\n",
    "            elif stone[i][j] == 1:\n",
    "                print(' ● ','',end='')\n",
    "            else:\n",
    "                print(' ○ ','',end='')\n",
    "    print()"
   ]
  },
  {
   "cell_type": "code",
   "execution_count": 96,
   "metadata": {},
   "outputs": [
    {
     "name": "stdout",
     "output_type": "stream",
     "text": [
      "    01  02  03  04  05  06  07  08  09  \n",
      "01  X   X   X   X   X   X   X   X   X  \n",
      "02  X   ●   X   ●   ○   ●   ○   ●   X  \n",
      "03  X   ○   ●   ●   ●   ○   ○   X   X  \n",
      "04  X   X   ○   ○   ○   ●   X   ○   X  \n",
      "05  X   X   X   X   X   ●   X   ○   ●  \n",
      "06  X   X   X   ○   X   ●   ○   ●   X  \n",
      "07  X   X   X   ○   ●   X   ●   ●   X  \n",
      "08  X   X   X   ●   ●   X   X   X   X  \n",
      "09  X   X   X   X   ○   ○   ○   X   X  \n",
      "X축 좌표값을 입력하세요(1~9, 종료 시 -1 입력) :1\n",
      "Y축 좌표값을 입력하세요(1~9, 종료 시 -1 입력) :2\n",
      "돌 없음\n",
      "X축 좌표값을 입력하세요(1~9, 종료 시 -1 입력) :5\n",
      "Y축 좌표값을 입력하세요(1~9, 종료 시 -1 입력) :4\n",
      "돌 없음\n",
      "X축 좌표값을 입력하세요(1~9, 종료 시 -1 입력) :-1\n",
      "종료되었습니다!\n"
     ]
    }
   ],
   "source": [
    "stone = [[0,0,0,0,0,0,0,0,0],\\\n",
    "        [0,1,0,1,2,1,2,1,0],\\\n",
    "        [0,2,1,1,1,2,2,0,0],\\\n",
    "        [0,0,2,2,2,1,0,2,0],\\\n",
    "        [0,0,0,0,0,1,0,2,1],\\\n",
    "        [0,0,0,2,0,1,2,1,0],\\\n",
    "        [0,0,0,2,1,0,1,1,0],\\\n",
    "        [0,0,0,1,1,0,0,0,0],\\\n",
    "        [0,0,0,0,2,2,2,0,0]]\n",
    "\n",
    "stone1 = list(i for i in range(1,10))\n",
    "stone.insert(0,stone1)\n",
    "for a in range(0,len(stone)):\n",
    "    for b in range(0,1):\n",
    "        stone[a].insert(0,a)\n",
    "for i in range(0,len(stone)):\n",
    "    for j in range(0,len(stone[i])):\n",
    "        if i == 0 and j == 0:\n",
    "            print('    ',end='')\n",
    "        elif i == 0 and j !=0:\n",
    "            print('%02d  ' %stone[i][j],end='')\n",
    "            continue\n",
    "        elif i!= 0 and j == 0:\n",
    "            print('%02d ' %stone[i][j],end='')\n",
    "        else :\n",
    "            if stone[i][j] == 0:\n",
    "                print(' X ','',end='')\n",
    "            elif stone[i][j] == 1:\n",
    "                print(' ● ','',end='')\n",
    "            else:\n",
    "                print(' ○ ','',end='')\n",
    "    print()\n",
    "\n",
    "x=0\n",
    "y=0\n",
    "while True:\n",
    "    x = int(input('X축 좌표값을 입력하세요(1~9, 종료 시 -1 입력) :'))\n",
    "    if x == -1 or y == -1:\n",
    "        print('종료되었습니다!')\n",
    "        break\n",
    "    y = int(input('Y축 좌표값을 입력하세요(1~9, 종료 시 -1 입력) :'))\n",
    "    if x == -1 or y == -1:\n",
    "        print('종료되었습니다!')\n",
    "        break\n",
    "    if stone[x][y] == 0:\n",
    "        print('돌 없음')\n",
    "    elif stone[x][y] == 1:\n",
    "        print('흑돌')\n",
    "    else :\n",
    "        print('백돌')"
   ]
  },
  {
   "cell_type": "code",
   "execution_count": null,
   "metadata": {},
   "outputs": [],
   "source": []
  },
  {
   "cell_type": "code",
   "execution_count": 39,
   "metadata": {},
   "outputs": [
    {
     "name": "stdout",
     "output_type": "stream",
     "text": [
      "5.0\n"
     ]
    }
   ],
   "source": [
    "            \n",
    "a=float(5)\n",
    "c =float(51)\n",
    "d = a%c\n",
    "print(d)"
   ]
  },
  {
   "cell_type": "code",
   "execution_count": null,
   "metadata": {},
   "outputs": [],
   "source": []
  }
 ],
 "metadata": {
  "kernelspec": {
   "display_name": "Python 3",
   "language": "python",
   "name": "python3"
  },
  "language_info": {
   "codemirror_mode": {
    "name": "ipython",
    "version": 3
   },
   "file_extension": ".py",
   "mimetype": "text/x-python",
   "name": "python",
   "nbconvert_exporter": "python",
   "pygments_lexer": "ipython3",
   "version": "3.7.6"
  }
 },
 "nbformat": 4,
 "nbformat_minor": 4
}
