{
 "cells": [
  {
   "cell_type": "markdown",
   "metadata": {},
   "source": [
    "# 2장 연습 문제"
   ]
  },
  {
   "cell_type": "code",
   "execution_count": null,
   "metadata": {},
   "outputs": [],
   "source": [
    "# 1\n",
    "\"\"\"\n",
    "(1) 숫자 : 양수, 0, 음수로 구성된 정수형(integer)과 소수점이 있는 실수형(float)이 있다.\n",
    "(2) 문자열 : 하나 또는 다수의 문자로 구성된 데이터 형\n",
    "\"\"\"   "
   ]
  },
  {
   "cell_type": "code",
   "execution_count": 50,
   "metadata": {},
   "outputs": [
    {
     "name": "stdout",
     "output_type": "stream",
     "text": [
      "-72\n"
     ]
    }
   ],
   "source": [
    "# 2\n",
    "\n",
    "a= 7\n",
    "b= 10\n",
    "c=a + b *2\n",
    "\n",
    "c%=5\n",
    "\n",
    "c**=3\n",
    "c-=c*10\n",
    "print(c)"
   ]
  },
  {
   "cell_type": "code",
   "execution_count": 51,
   "metadata": {},
   "outputs": [
    {
     "name": "stdout",
     "output_type": "stream",
     "text": [
      "반지름을 입력하세요 : 10\n",
      "반지름 : 10 cm\n",
      "원의 둘레 : 62.80 cm\n",
      "원의 면적 : 314.00 cm^2\n"
     ]
    }
   ],
   "source": [
    "# 3\n",
    "\n",
    "radius = int(input('반지름을 입력하세요 : '))\n",
    "length=radius*2*3.14\n",
    "surface=3.14*(radius**2)\n",
    "print('반지름 : %d cm\\n원의 둘레 : %.2f cm\\n원의 면적 : %.2f cm^2' %(radius,length,surface))"
   ]
  },
  {
   "cell_type": "code",
   "execution_count": 52,
   "metadata": {},
   "outputs": [
    {
     "name": "stdout",
     "output_type": "stream",
     "text": [
      "책 값을 입력하세요 :15000\n",
      "할인율을 입력하세요 :15\n",
      "배송료를 입력하세요 :3000\n",
      "결제 금액 : 15750 원\n",
      "결제 금액 : 15750원\n"
     ]
    }
   ],
   "source": [
    "# 4\n",
    "\n",
    "book_price = int(input('책 값을 입력하세요 :'))\n",
    "discount_rate = int(input('할인율을 입력하세요 :'))\n",
    "delivery_price = int(input('배송료를 입력하세요 :'))\n",
    "payment = book_price-(book_price*discount_rate/100)+delivery_price\n",
    "print('결제 금액 : %d원' %(payment))"
   ]
  },
  {
   "cell_type": "code",
   "execution_count": 53,
   "metadata": {},
   "outputs": [
    {
     "name": "stdout",
     "output_type": "stream",
     "text": [
      "이름을 입력하세요 :신건찬\n",
      "현재년을 입력하세요 :2020\n",
      "탄생년을 입력하세요 :1991\n",
      "신건찬님의 나이는 30세 입니다.\n"
     ]
    }
   ],
   "source": [
    "# 5\n",
    "name = input('이름을 입력하세요 :')\n",
    "current_year= int(input('현재년을 입력하세요 :'))\n",
    "birth_year = int(input('탄생년을 입력하세요 :'))\n",
    "age = current_year - birth_year + 1\n",
    "print('%s님의 나이는 %d세 입니다.' %(name,age))"
   ]
  },
  {
   "cell_type": "code",
   "execution_count": 54,
   "metadata": {},
   "outputs": [
    {
     "name": "stdout",
     "output_type": "stream",
     "text": [
      "연을 입력하세요 :2020\n",
      "월을 입력하세요 :1\n",
      "일을 입력하세요 :5\n",
      "2020-01-05\n"
     ]
    }
   ],
   "source": [
    "# 6\n",
    "year= int(input('연을 입력하세요 :'))\n",
    "month= int(input('월을 입력하세요 :'))\n",
    "day= int(input('일을 입력하세요 :'))\n",
    "print('%d-%02d-%02d'%(year,month,day))"
   ]
  },
  {
   "cell_type": "markdown",
   "metadata": {},
   "source": [
    "# 3장 연습 문제"
   ]
  },
  {
   "cell_type": "code",
   "execution_count": 18,
   "metadata": {},
   "outputs": [
    {
     "name": "stdout",
     "output_type": "stream",
     "text": [
      "2\n",
      "5\n",
      "-2\n",
      "False\n",
      "False\n",
      "False\n",
      "3\n",
      "7\n",
      "-4\n",
      "True\n",
      "False\n",
      "False\n",
      "-10\n",
      "10\n",
      "-2\n",
      "True\n",
      "False\n",
      "True\n"
     ]
    }
   ],
   "source": [
    "# 1\n",
    "for count in range(1,4):\n",
    "    a = int(input())\n",
    "    b = int(input())\n",
    "    c = int(input())\n",
    "\n",
    "    print(a != 2)\n",
    "    print(not(b>= a))\n",
    "    print(c/2 >a*3)"
   ]
  },
  {
   "cell_type": "code",
   "execution_count": 17,
   "metadata": {},
   "outputs": [
    {
     "name": "stdout",
     "output_type": "stream",
     "text": [
      "-5\n",
      "3\n",
      "2\n",
      "False\n",
      "True\n",
      "10\n",
      "5\n",
      "7\n",
      "True\n",
      "False\n",
      "-3\n",
      "10\n",
      "2\n",
      "False\n",
      "True\n"
     ]
    }
   ],
   "source": [
    "# 2\n",
    "for count in range(1,4):\n",
    "    a = int(input())\n",
    "    b = int(input())\n",
    "    c = int(input())\n",
    "\n",
    "    print(a > 2 or c > b and c > 2)\n",
    "    print(not(a > 5 or b > c and c >= 3))"
   ]
  },
  {
   "cell_type": "code",
   "execution_count": 19,
   "metadata": {},
   "outputs": [
    {
     "name": "stdout",
     "output_type": "stream",
     "text": [
      "4\n"
     ]
    }
   ],
   "source": [
    "# 3\n",
    "\n",
    "a=2\n",
    "z=a*5\n",
    "w=(z-3) * ( a-2 ) / 7 + 10\n",
    "\n",
    "if a >z or w > a :\n",
    "    y= 2 * a\n",
    "else :\n",
    "    y= 4* a\n",
    "\n",
    "print(y)"
   ]
  },
  {
   "cell_type": "code",
   "execution_count": 59,
   "metadata": {},
   "outputs": [
    {
     "name": "stdout",
     "output_type": "stream",
     "text": [
      "단위를 입력하세요(1:섭씨, 2:화씨:)1\n",
      "온도를 입력하세요 :0\n",
      "물의 섭씨 온도 : 0.00 물의 화씨 온도 : 32.00, 상태 : 고체\n"
     ]
    }
   ],
   "source": [
    "# 4\n",
    "unit = int(input('단위를 입력하세요(1:섭씨, 2:화씨:)'))\n",
    "temperature = float(input('온도를 입력하세요 :'))\n",
    "\n",
    "if unit == 1 :\n",
    "    celsius = temperature\n",
    "    fahrenheit = celsius * 9 / 5 + 32\n",
    "elif unit == 2 :\n",
    "    fahrenheit = temperature\n",
    "    celsius = (fahrenheit - 32) * 5 / 9\n",
    "\n",
    "if celsius > 0 and celsius < 100 :\n",
    "    phase = '액체'\n",
    "elif celsius <= 0 :\n",
    "    phase = '고체'\n",
    "else :\n",
    "    phase = '기체'\n",
    "print('물의 섭씨 온도 : %.2f 물의 화씨 온도 : %.2f, 상태 : %s' %(celsius,fahrenheit,phase))"
   ]
  },
  {
   "cell_type": "code",
   "execution_count": 42,
   "metadata": {},
   "outputs": [
    {
     "name": "stdout",
     "output_type": "stream",
     "text": [
      "아이디를 입력하세요 :admin\n",
      "모든 컨텐츠 이용 가능\n"
     ]
    }
   ],
   "source": [
    "# 5\n",
    "\n",
    "identify = input('아이디를 입력하세요 :')\n",
    "if identify == 'admin':\n",
    "    print('모든 컨텐츠 이용 가능')\n",
    "else :\n",
    "    level = int(input('회원 레벨을 입력해주세요 :'))\n",
    "    if level >= 2 and level <=7 :\n",
    "        print('일부 컨텐츠 이용 가능')\n",
    "    else :\n",
    "        print('컨텐츠 이용 불가')"
   ]
  },
  {
   "cell_type": "code",
   "execution_count": 45,
   "metadata": {},
   "outputs": [
    {
     "name": "stdout",
     "output_type": "stream",
     "text": [
      "나이를 입력하세요 :66\n",
      "입장료는 0원 입니다.\n"
     ]
    }
   ],
   "source": [
    "# 6\n",
    "\n",
    "age = int(input('나이를 입력하세요 :'))\n",
    "\n",
    "if age <= 10 :\n",
    "    pay = 1000\n",
    "elif age >= 65 :\n",
    "    pay = 0\n",
    "else :\n",
    "    pay = 2000\n",
    "print('입장료는 %d원 입니다.' %(pay))"
   ]
  },
  {
   "cell_type": "code",
   "execution_count": 48,
   "metadata": {},
   "outputs": [
    {
     "name": "stdout",
     "output_type": "stream",
     "text": [
      "영어 점수를 입력하세요 :60\n",
      "수학 점수를 입력하세요 :60\n",
      "불합격\n"
     ]
    }
   ],
   "source": [
    "# 7\n",
    "\n",
    "eng = int(input('영어 점수를 입력하세요 :'))\n",
    "math = int(input('수학 점수를 입력하세요 :'))\n",
    "\n",
    "if eng >= 80 and math >= 80:\n",
    "    grade = '합격'\n",
    "elif eng < 80 and math < 80:\n",
    "    grade = '불합격'\n",
    "else :\n",
    "    grade = '재시험 기회 제공'\n",
    "print(grade)"
   ]
  }
 ],
 "metadata": {
  "kernelspec": {
   "display_name": "Python 3",
   "language": "python",
   "name": "python3"
  },
  "language_info": {
   "codemirror_mode": {
    "name": "ipython",
    "version": 3
   },
   "file_extension": ".py",
   "mimetype": "text/x-python",
   "name": "python",
   "nbconvert_exporter": "python",
   "pygments_lexer": "ipython3",
   "version": "3.7.6"
  }
 },
 "nbformat": 4,
 "nbformat_minor": 4
}
