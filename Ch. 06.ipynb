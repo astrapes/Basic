{
 "cells": [
  {
   "cell_type": "markdown",
   "metadata": {},
   "source": [
    "# Chapter 6. 튜플과 딕셔너리"
   ]
  },
  {
   "cell_type": "code",
   "execution_count": 5,
   "metadata": {},
   "outputs": [
    {
     "name": "stdout",
     "output_type": "stream",
     "text": [
      "('coffee', 'milk', 'tea', 'cider')\n",
      "coffee\n",
      "tea\n",
      "('coffee', 'milk', 'tea')\n"
     ]
    },
    {
     "ename": "TypeError",
     "evalue": "'tuple' object does not support item assignment",
     "output_type": "error",
     "traceback": [
      "\u001b[1;31m---------------------------------------------------------------------------\u001b[0m",
      "\u001b[1;31mTypeError\u001b[0m                                 Traceback (most recent call last)",
      "\u001b[1;32m<ipython-input-5-41f552417d06>\u001b[0m in \u001b[0;36m<module>\u001b[1;34m\u001b[0m\n\u001b[0;32m      6\u001b[0m \u001b[0mprint\u001b[0m\u001b[1;33m(\u001b[0m\u001b[0mmenu\u001b[0m\u001b[1;33m[\u001b[0m\u001b[1;36m0\u001b[0m\u001b[1;33m:\u001b[0m\u001b[1;36m3\u001b[0m\u001b[1;33m]\u001b[0m\u001b[1;33m)\u001b[0m\u001b[1;33m\u001b[0m\u001b[1;33m\u001b[0m\u001b[0m\n\u001b[0;32m      7\u001b[0m \u001b[1;33m\u001b[0m\u001b[0m\n\u001b[1;32m----> 8\u001b[1;33m \u001b[0mmenu\u001b[0m\u001b[1;33m[\u001b[0m\u001b[1;36m1\u001b[0m\u001b[1;33m]\u001b[0m \u001b[1;33m=\u001b[0m \u001b[1;34m'cola'\u001b[0m\u001b[1;33m\u001b[0m\u001b[1;33m\u001b[0m\u001b[0m\n\u001b[0m",
      "\u001b[1;31mTypeError\u001b[0m: 'tuple' object does not support item assignment"
     ]
    }
   ],
   "source": [
    "#예제 6-1\n",
    "menu = ('coffee','milk','tea','cider')\n",
    "\n",
    "print(menu)\n",
    "print(menu[0])\n",
    "print(menu[2])\n",
    "print(menu[0:3])\n",
    "\n",
    "menu[1] = 'cola'"
   ]
  },
  {
   "cell_type": "code",
   "execution_count": 8,
   "metadata": {},
   "outputs": [
    {
     "name": "stdout",
     "output_type": "stream",
     "text": [
      "('apple', 'banana', 'cherry', 'orange', 'melon', 'strawberry')\n",
      "6\n",
      "apple\n",
      "banana\n",
      "cherry\n"
     ]
    },
    {
     "ename": "NameError",
     "evalue": "name 'tuple1' is not defined",
     "output_type": "error",
     "traceback": [
      "\u001b[1;31m---------------------------------------------------------------------------\u001b[0m",
      "\u001b[1;31mNameError\u001b[0m                                 Traceback (most recent call last)",
      "\u001b[1;32m<ipython-input-8-9e45dd915c55>\u001b[0m in \u001b[0;36m<module>\u001b[1;34m\u001b[0m\n\u001b[0;32m     12\u001b[0m \u001b[1;33m\u001b[0m\u001b[0m\n\u001b[0;32m     13\u001b[0m \u001b[1;32mdel\u001b[0m \u001b[0mtuple1\u001b[0m\u001b[1;33m\u001b[0m\u001b[1;33m\u001b[0m\u001b[0m\n\u001b[1;32m---> 14\u001b[1;33m \u001b[0mprint\u001b[0m\u001b[1;33m(\u001b[0m\u001b[0mtuple1\u001b[0m\u001b[1;33m)\u001b[0m\u001b[1;33m\u001b[0m\u001b[1;33m\u001b[0m\u001b[0m\n\u001b[0m",
      "\u001b[1;31mNameError\u001b[0m: name 'tuple1' is not defined"
     ]
    }
   ],
   "source": [
    "#예제 6-2\n",
    "tuple1 = ('apple','banana','cherry')\n",
    "tuple2 = ('orange','melon','strawberry')\n",
    "\n",
    "tuple3 = tuple1 + tuple2\n",
    "print(tuple3)\n",
    "\n",
    "print(len(tuple3))\n",
    "\n",
    "for x in tuple1:\n",
    "    print(x)\n",
    "\n",
    "del tuple1\n",
    "print(tuple1)"
   ]
  },
  {
   "cell_type": "code",
   "execution_count": 11,
   "metadata": {},
   "outputs": [
    {
     "name": "stdout",
     "output_type": "stream",
     "text": [
      "구구단 표\n",
      "------------------------------\n",
      "2 * 1 = 2\n",
      "2 * 2 = 4\n",
      "2 * 3 = 6\n",
      "2 * 4 = 8\n",
      "2 * 5 = 10\n",
      "2 * 6 = 12\n",
      "2 * 7 = 14\n",
      "2 * 8 = 16\n",
      "2 * 9 = 18\n",
      "3 * 1 = 3\n",
      "3 * 2 = 6\n",
      "3 * 3 = 9\n",
      "3 * 4 = 12\n",
      "3 * 5 = 15\n",
      "3 * 6 = 18\n",
      "3 * 7 = 21\n",
      "3 * 8 = 24\n",
      "3 * 9 = 27\n",
      "4 * 1 = 4\n",
      "4 * 2 = 8\n",
      "4 * 3 = 12\n",
      "4 * 4 = 16\n",
      "4 * 5 = 20\n",
      "4 * 6 = 24\n",
      "4 * 7 = 28\n",
      "4 * 8 = 32\n",
      "4 * 9 = 36\n",
      "5 * 1 = 5\n",
      "5 * 2 = 10\n",
      "5 * 3 = 15\n",
      "5 * 4 = 20\n",
      "5 * 5 = 25\n",
      "5 * 6 = 30\n",
      "5 * 7 = 35\n",
      "5 * 8 = 40\n",
      "5 * 9 = 45\n",
      "6 * 1 = 6\n",
      "6 * 2 = 12\n",
      "6 * 3 = 18\n",
      "6 * 4 = 24\n",
      "6 * 5 = 30\n",
      "6 * 6 = 36\n",
      "6 * 7 = 42\n",
      "6 * 8 = 48\n",
      "6 * 9 = 54\n",
      "7 * 1 = 7\n",
      "7 * 2 = 14\n",
      "7 * 3 = 21\n",
      "7 * 4 = 28\n",
      "7 * 5 = 35\n",
      "7 * 6 = 42\n",
      "7 * 7 = 49\n",
      "7 * 8 = 56\n",
      "7 * 9 = 63\n",
      "8 * 1 = 8\n",
      "8 * 2 = 16\n",
      "8 * 3 = 24\n",
      "8 * 4 = 32\n",
      "8 * 5 = 40\n",
      "8 * 6 = 48\n",
      "8 * 7 = 56\n",
      "8 * 8 = 64\n",
      "8 * 9 = 72\n",
      "9 * 1 = 9\n",
      "9 * 2 = 18\n",
      "9 * 3 = 27\n",
      "9 * 4 = 36\n",
      "9 * 5 = 45\n",
      "9 * 6 = 54\n",
      "9 * 7 = 63\n",
      "9 * 8 = 72\n",
      "9 * 9 = 81\n",
      "------------------------------\n"
     ]
    }
   ],
   "source": [
    "# Q6-1\n",
    "dans = (2,3,4,5,6,7,8,9)\n",
    "print('구구단 표')\n",
    "print('-'*30)\n",
    "\n",
    "for dan in dans:\n",
    "    for i in range(1,10):\n",
    "        print('%d * %d = %d' %(dan,i,dan*i))\n",
    "print('-'*30)\n",
    "        "
   ]
  },
  {
   "cell_type": "code",
   "execution_count": 12,
   "metadata": {},
   "outputs": [
    {
     "name": "stdout",
     "output_type": "stream",
     "text": [
      "관리자 아이디를 입력하세요 :admin\n",
      "관리자 비밀번호를 입력하세요 :12345\n",
      "관리자입니다.\n"
     ]
    }
   ],
   "source": [
    "# Q6-2\n",
    "admin_info = ('admin','12345','rubato@naver.com')\n",
    "\n",
    "id = input('관리자 아이디를 입력하세요 :')\n",
    "password = input('관리자 비밀번호를 입력하세요 :')\n",
    "\n",
    "while True:\n",
    "    if id == admin_info[0] and password == admin_info[1]:\n",
    "        print('관리자입니다.')\n",
    "        break\n",
    "    else:\n",
    "        print('아이디 또는 비밀번호가 잘못 입력되었습니다.')"
   ]
  },
  {
   "cell_type": "code",
   "execution_count": 27,
   "metadata": {},
   "outputs": [
    {
     "name": "stdout",
     "output_type": "stream",
     "text": [
      "(1, 3, 5, 7, 9)\n",
      "(1, 3, 5, 7, 9)\n",
      "(1, 4, 9, 16, 25)\n",
      "(1, 9, 25, 49, 81)\n"
     ]
    }
   ],
   "source": [
    "a=tuple(i for i in range(1,10,2))\n",
    "b=tuple(range(1,10,2))\n",
    "c=tuple(i * i for i in range(1,6,1))\n",
    "d=tuple(i * i for i in range(1,10) if i%2 == 1)\n",
    "print(a)\n",
    "print(b)\n",
    "print(c)\n",
    "print(d)"
   ]
  },
  {
   "cell_type": "code",
   "execution_count": 25,
   "metadata": {},
   "outputs": [
    {
     "name": "stdout",
     "output_type": "stream",
     "text": [
      "{'name': '안지영', 'age': 30, 'email': 'jiyoung@korea.com'}\n",
      "안지영\n",
      "30\n",
      "길이 : 3\n"
     ]
    }
   ],
   "source": [
    "#예제 6-3\n",
    "members = {'name':'안지영','age':30,'email':'jiyoung@korea.com'}\n",
    "\n",
    "print(members)\n",
    "print(members['name'])\n",
    "print(members['age'])\n",
    "\n",
    "print('길이 : %d' %len(members))"
   ]
  },
  {
   "cell_type": "code",
   "execution_count": 31,
   "metadata": {},
   "outputs": [
    {
     "name": "stdout",
     "output_type": "stream",
     "text": [
      "{'kor': 95, 'eng': 85, 'math': 90, 'science': 80}\n",
      "70\n",
      "{'kor': 70, 'eng': 85, 'math': 90, 'science': 80, 'music': 100}\n",
      "{'kor': 70, 'eng': 85, 'math': 90, 'music': 100}\n",
      "이름 : 안진영\n",
      "국어 : 70\n",
      "영어 : 85\n",
      "수학 : 90\n"
     ]
    }
   ],
   "source": [
    "#예제 6-4\n",
    "name = '안진영'\n",
    "scores = {'kor':95,'eng':85,'math':90,'science':80}\n",
    "print(scores)\n",
    "\n",
    "scores['kor'] = 70\n",
    "print(scores['kor'])\n",
    "\n",
    "scores['music']= 100\n",
    "print(scores)\n",
    "\n",
    "del scores['science']\n",
    "print(scores)\n",
    "\n",
    "print('이름 : %s\\n국어 : %d\\n영어 : %d\\n수학 : %d' %(name,scores['kor'],scores['eng'],scores['math']))"
   ]
  },
  {
   "cell_type": "code",
   "execution_count": 33,
   "metadata": {},
   "outputs": [
    {
     "name": "stdout",
     "output_type": "stream",
     "text": [
      "{'갤럭시 노트8': 2017, '갤럭시 S9': 2018, '갤럭시 노트10': 2019, '갤럭시 S20': 2020}\n",
      "갤럭시 노트8 => 2017\n",
      "갤럭시 S9 => 2018\n",
      "갤럭시 노트10 => 2019\n",
      "갤럭시 S20 => 2020\n",
      "4\n"
     ]
    }
   ],
   "source": [
    "phones = {'갤럭시 노트8':2017,'갤럭시 S9':2018,'갤럭시 노트10':2019,'갤럭시 S20':2020}\n",
    "print(phones)\n",
    "\n",
    "for key in phones :\n",
    "    print('%s => %s' %(key,phones[key]))\n",
    "    \n",
    "print(len(phones))"
   ]
  },
  {
   "cell_type": "markdown",
   "metadata": {},
   "source": [
    "# Sequence 객체"
   ]
  },
  {
   "cell_type": "code",
   "execution_count": 42,
   "metadata": {},
   "outputs": [
    {
     "name": "stdout",
     "output_type": "stream",
     "text": [
      "True\n",
      "False\n",
      "True\n"
     ]
    },
    {
     "data": {
      "text/plain": [
       "True"
      ]
     },
     "execution_count": 42,
     "metadata": {},
     "output_type": "execute_result"
    }
   ],
   "source": [
    "#특정 값이 있는지 확인하기\n",
    "a=[0,10,20,30,40,50,60,70,80,90]\n",
    "print(30 in a)\n",
    "print(100 in a)\n",
    "print (100 not in a)\n",
    "10 in a\n",
    "1 in range(10)\n",
    "'P' in 'Hello, Python'"
   ]
  },
  {
   "cell_type": "code",
   "execution_count": 38,
   "metadata": {},
   "outputs": [
    {
     "name": "stdout",
     "output_type": "stream",
     "text": [
      "김예진 : 90\n",
      "박영진 : 95\n",
      "김소희 : 84\n",
      "합계 : 269, 평균 : 89.67\n"
     ]
    }
   ],
   "source": [
    "# Q6-3\n",
    "scores = {'김예진':90,'박영진': 95,'김소희':84}\n",
    "\n",
    "sum = 0\n",
    "for key in scores :\n",
    "    sum += scores[key]\n",
    "    \n",
    "    print('%s : %d' %(key,scores[key]))\n",
    "    \n",
    "avg = sum/len(scores)\n",
    "\n",
    "print('합계 : %d, 평균 : %.2f' %(sum,avg))"
   ]
  },
  {
   "cell_type": "code",
   "execution_count": 44,
   "metadata": {},
   "outputs": [
    {
     "name": "stdout",
     "output_type": "stream",
     "text": [
      "관리자 아이디를 입력하세요 :admin\n",
      "관리자 비밀번호를 입력하세요 :11111\n",
      "모든 정보에 접근이 가능합니다.\n"
     ]
    }
   ],
   "source": [
    "ad = {'id':'admin','password':'11111'}\n",
    "\n",
    "in_id = input('관리자 아이디를 입력하세요 :')\n",
    "in_password = input('관리자 비밀번호를 입력하세요 :')\n",
    "\n",
    "if (in_id == ad['id'] and in_password == ad['password']) :\n",
    "    print('모든 정보에 접근이 가능합니다.')\n",
    "else :\n",
    "    print('정보에 접근 권한이 없습니다.')"
   ]
  },
  {
   "cell_type": "code",
   "execution_count": 45,
   "metadata": {},
   "outputs": [
    {
     "name": "stdout",
     "output_type": "stream",
     "text": [
      "사과에 해당하는 영어 단어를 입력해주세요 :apple\n",
      "정답입니다.\n",
      "컴퓨터에 해당하는 영어 단어를 입력해주세요 :computer\n",
      "정답입니다.\n",
      "학교에 해당하는 영어 단어를 입력해주세요 :school\n",
      "정답입니다.\n",
      "책상에 해당하는 영어 단어를 입력해주세요 :dest\n",
      "틀렸습니다.\n",
      "의자에 해당하는 영어 단어를 입력해주세요 :chair\n",
      "정답입니다.\n"
     ]
    }
   ],
   "source": [
    "words = {'사과' : 'apple' , '컴퓨터' : 'computer', '학교' : 'school' , '책상' : 'desk', '의자' : 'chair'}\n",
    "\n",
    "for key in words :\n",
    "    in_word = input('%s에 해당하는 영어 단어를 입력해주세요 :' %key)\n",
    "    \n",
    "    if in_word == words[key]:\n",
    "        print('정답입니다.')\n",
    "    else :\n",
    "        print('틀렸습니다.')"
   ]
  },
  {
   "cell_type": "code",
   "execution_count": 47,
   "metadata": {},
   "outputs": [
    {
     "data": {
      "text/plain": [
       "(11, 55, 99)"
      ]
     },
     "execution_count": 47,
     "metadata": {},
     "output_type": "execute_result"
    }
   ],
   "source": [
    "#!!! 튜플 a = (11,22,33,44,55,66,77,88,99) 에서 (11,55,99) 을 가져오는 방법\n",
    "a = (11,22,33,44,55,66,77,88,99)\n",
    "a[0:9:4]\n",
    "#시작과 끝은 생략가능\n",
    "a[::4]"
   ]
  },
  {
   "cell_type": "code",
   "execution_count": 2,
   "metadata": {},
   "outputs": [
    {
     "name": "stdout",
     "output_type": "stream",
     "text": [
      "{1, 2, 5, 6}\n"
     ]
    }
   ],
   "source": [
    "#집합(set)\n",
    "a= {1,1,1,2,5,6}\n",
    "print(a)"
   ]
  },
  {
   "cell_type": "code",
   "execution_count": null,
   "metadata": {},
   "outputs": [],
   "source": []
  }
 ],
 "metadata": {
  "kernelspec": {
   "display_name": "Python 3",
   "language": "python",
   "name": "python3"
  },
  "language_info": {
   "codemirror_mode": {
    "name": "ipython",
    "version": 3
   },
   "file_extension": ".py",
   "mimetype": "text/x-python",
   "name": "python",
   "nbconvert_exporter": "python",
   "pygments_lexer": "ipython3",
   "version": "3.7.6"
  }
 },
 "nbformat": 4,
 "nbformat_minor": 4
}
